{
 "cells": [
  {
   "cell_type": "markdown",
   "metadata": {},
   "source": [
    "# HW1: Who is the best singer ever? Rihanna or Mariah?\n"
   ]
  },
  {
   "cell_type": "markdown",
   "metadata": {},
   "source": [
    "<img width=600 height=400 src=\"http://static.idolator.com/uploads/2015/02/rihanna-mariah.jpg\"/>\n",
    "\n",
    "Billboard Magazine puts out a top 100 list of \"singles\" every week. Information from this list, as well as that from music sales, radio, and other sources is used to determine a top-100 \"singles\" of the year list. A **single** is typically one song, but sometimes can be two songs which are on one \"single\" record.\n",
    "\n",
    "In this homework you will scrape both Wikipedia and Billboard Magazine to try to understand how the public's taste in music has evolved. You will do this by learning about the best singers and groups from each year (distinguishing between the two groups) as determined by the Billboard top 100 charts. You will have to scrape the web pages, clean the data, and visualize the performance of the artists and their songs. Finally, you'll find some \"features\" which might predict performance on the year end charts from the weekly ones.\n",
    "\n",
    "(Image credit: http://www.idolator.com/7579645/rihanna-mariah-carey-vision-of-love-made-her-want-to-do-music)"
   ]
  },
  {
   "cell_type": "markdown",
   "metadata": {},
   "source": [
    "## **This homework is due Thursday 24th September, at 11:59PM.**"
   ]
  },
  {
   "cell_type": "markdown",
   "metadata": {},
   "source": [
    "We will use the **LAST COMMIT** BEFORE 11:59PM on Thursday Sep 24th 2015, on the **hw1** branch, of your repository `cs109-students/githubusername-2015hw` as your submission."
   ]
  },
  {
   "cell_type": "markdown",
   "metadata": {},
   "source": [
    "The homework will help develop your skills in:\n",
    "\n",
    "- web page scraping\n",
    "- data cleaning and manipulation\n",
    "- pandas\n",
    "- simple exploratory data visualization\n",
    "- thinking about data and what features might be used to make predictions\n",
    "\n",
    "You should have worked through Lab 1 (the pandas and python parts) and Lab 2. \n",
    "\n",
    "The table of contents below shows youthe structure of the homework. The headings with numbers like 1.2 and 3.2 are the ones that need to be answered. At lot of code is provided for you in this homework. DO NOT simply run it. Understand it. I promise that if you dont, you will have trouble in the parts that you have to code.\n",
    "\n",
    "Finally, start soon. This is not a very long homework, but we are at the point in the semester that logistical issues like git flow and python running might hold you up."
   ]
  },
  {
   "cell_type": "markdown",
   "metadata": {},
   "source": [
    "#Table of Contents\n",
    "* [HW1: Who is the best singer ever? Rihanna or Mariah?](#HW1:-Who-is-the-best-singer-ever?-Rihanna-or-Mariah?)\n",
    "\t* [**This homework is due Thursday 24th September, at 11:59PM.**](#**This-homework-is-due-Thursday-24th-September,-at-11:59PM.**)\n",
    "\t* [Q1. Scraping Wikipedia for Billboard Top 100.](#Q1.-Scraping-Wikipedia-for-Billboard-Top-100.)\n",
    "\t\t* [Scraping Wikipedia for Billboard singles](#Scraping-Wikipedia-for-Billboard-singles)\n",
    "\t\t\t* [Parsing the Billboard Wikipedia page for 1970](#Parsing-the-Billboard-Wikipedia-page-for-1970)\n",
    "\t\t\t* [1.1 Generalize the previous: Scrape wikipedia from 1992 to 2014](#1.1-Generalize-the-previous:-Scrape-wikipedia-from-1992-to-2014)\n",
    "\t\t\t* [1.2 Clean data and save a json file of information from the scraped files](#1.2-Clean-data-and-save-a-json-file-of-information-from-the-scraped-files)\n",
    "\t\t* [Construct a year-song-singer dataframe from the yearly information](#Construct-a-year-song-singer-dataframe-from-the-yearly-information)\n",
    "\t\t\t* [Construct a panel and flatten it](#Construct-a-panel-and-flatten-it)\n",
    "\t\t\t* [Cleaning data: the correct datatypes](#Cleaning-data:-the-correct-datatypes)\n",
    "\t* [Q2. Scraping and Constructing: Information about Artists, Bands and Genres from Wikipedia](#Q2.-Scraping-and-Constructing:-Information-about-Artists,-Bands-and-Genres-from-Wikipedia)\n",
    "\t\t* [Scrape information about artists from wikipedia](#Scrape-information-about-artists-from-wikipedia)\n",
    "\t\t\t* [Pulling and saving the data](#Pulling-and-saving-the-data)\n",
    "\t\t\t* [2.1 Extract information about singers and bands](#2.1-Extract-information-about-singers-and-bands)\n",
    "\t\t\t* [Merging this information in](#Merging-this-information-in)\n",
    "\t\t\t* [2.2 Split out the genres](#2.2-Split-out-the-genres)\n",
    "\t* [Q3. Exploratory Data Analysis (EDA)](#Q3.-Exploratory-Data-Analysis-%28EDA%29)\n",
    "\t\t* [What has been the trajectory of various genres in the popular zeitgeist?](#What-has-been-the-trajectory-of-various-genres-in-the-popular-zeitgeist?)\n",
    "\t\t\t* [3.1 Plot a horizontal bar chart of the top 30 genres](#3.1-Plot-a-horizontal-bar-chart-of-the-top-30-genres)\n",
    "\t\t\t* [3.2 Make a small multiples plot of the 24 most popular genres](#3.2-Make-a-small-multiples-plot-of-the-24-most-popular-genres)\n",
    "\t\t* [Who are the highest quality singers?](#Who-are-the-highest-quality-singers?)\n",
    "\t\t\t* [3.3 What if we used a different metric?](#3.3-What-if-we-used-a-different-metric?)\n",
    "\t\t\t* [The age at which singers achieve their top ranking.](#The-age-at-which-singers-achieve-their-top-ranking.)\n",
    "\t\t\t* [3.4 At what year since inception do bands reach their top rankings?](#3.4-At-what-year-since-inception-do-bands-reach-their-top-rankings?)\n",
    "\t* [Q4: Billboard Magazine: year end results from weekly results](#Q4:-Billboard-Magazine:-year-end-results-from-weekly-results)\n",
    "\t\t* [Get the end year results, and results from all saturdays of the year.](#Get-the-end-year-results,-and-results-from-all-saturdays-of-the-year.)\n",
    "\t\t\t* [Get the data](#Get-the-data)\n",
    "\t\t\t* [4.1 Parse the HTML and save the song information](#4.1-Parse-the-HTML-and-save-the-song-information)\n",
    "\t\t* [Get winning songs, and see how they do in all these weeks](#Get-winning-songs,-and-see-how-they-do-in-all-these-weeks)\n",
    "\t\t\t* [4.2 Plot the mean rank(y axis) against the final, year-end rank(x-axis)](#4.2-Plot-the-mean-rank%28y-axis%29-against-the-final,-year-end-rank%28x-axis%29)\n",
    "\t\t* [Add losers in and see what features may be used to distinguish winners from losers](#Add-losers-in-and-see-what-features-may-be-used-to-distinguish-winners-from-losers)\n",
    "\t\t\t* [4.3 Make a scatterplot matrix of these features, color coded by winners/losers](#4.3-Make-a-scatterplot-matrix-of-these-features,-color-coded-by-winners/losers)\n"
   ]
  },
  {
   "cell_type": "markdown",
   "metadata": {},
   "source": [
    "---"
   ]
  },
  {
   "cell_type": "markdown",
   "metadata": {},
   "source": [
    "Python depends on packages for most of its functionality; these can be either built-in (such as sys), or third-party (like all the packages below). Either way you need to import the packages you need before using them."
   ]
  },
  {
   "cell_type": "code",
   "execution_count": 1,
   "metadata": {
    "collapsed": false,
    "scrolled": false
   },
   "outputs": [],
   "source": [
    "# The %... is an iPython thing, and is not part of the Python language.\n",
    "# In this case we're just telling the plotting library to draw things on\n",
    "# the notebook, instead of on a separate window.\n",
    "%matplotlib inline\n",
    "# See all the \"as ...\" contructs? They're just aliasing the package names.\n",
    "# That way we can call methods like plt.plot() instead of matplotlib.pyplot.plot().\n",
    "import numpy as np\n",
    "import scipy as sp\n",
    "import matplotlib as mpl\n",
    "import matplotlib.cm as cm\n",
    "import matplotlib.pyplot as plt\n",
    "import pandas as pd\n",
    "import time\n",
    "pd.set_option('display.width', 500)\n",
    "pd.set_option('display.max_columns', 100)\n",
    "pd.set_option('display.notebook_repr_html', True)\n",
    "import seaborn as sns\n",
    "sns.set_style(\"whitegrid\")\n",
    "sns.set_context(\"poster\")"
   ]
  },
  {
   "cell_type": "markdown",
   "metadata": {},
   "source": [
    "We use [Seaborn](http://stanford.edu/~mwaskom/software/seaborn/) to give us a nicer default color palette, with our plots being of large (`poster`) size and with a white-grid background. (see the code above)."
   ]
  },
  {
   "cell_type": "markdown",
   "metadata": {},
   "source": [
    "## Q1. Scraping Wikipedia for Billboard Top 100."
   ]
  },
  {
   "cell_type": "markdown",
   "metadata": {},
   "source": [
    "In this question you will scrape wikipedia for Billboard's top 100. You may use any python scraping software you like. We especially recommend Beautiful Soup and PyQuery."
   ]
  },
  {
   "cell_type": "markdown",
   "metadata": {},
   "source": [
    "### Scraping Wikipedia for Billboard singles"
   ]
  },
  {
   "cell_type": "markdown",
   "metadata": {},
   "source": [
    "We'll be using one of two libraries to transform HTML content into Python data structures. One is [BeautifulSoup](http://www.crummy.com/software/BeautifulSoup/) and the other is [PyQuery](https://pythonhosted.org/pyquery/).\n",
    "\n",
    "You can choose which one you want to use.\n",
    "\n",
    "PyQuery is recommended for people who have used [jQuery](https://jquery.com/) before, or who feel more comfortable using CSS selectors. BeautifulSoup on the other hand might be a better  fit for people who are familiar with Python. Either package will make the job of parsing HTML documents easier."
   ]
  },
  {
   "cell_type": "code",
   "execution_count": 2,
   "metadata": {
    "collapsed": false,
    "scrolled": false
   },
   "outputs": [],
   "source": [
    "from pyquery import PyQuery as pq\n",
    "from bs4 import BeautifulSoup\n",
    "# The \"requests\" library makes working with HTTP requests easier\n",
    "# than the built-in urllib libraries.\n",
    "import requests"
   ]
  },
  {
   "cell_type": "markdown",
   "metadata": {},
   "source": [
    "#### Parsing the Billboard Wikipedia page for 1970"
   ]
  },
  {
   "cell_type": "markdown",
   "metadata": {},
   "source": [
    "We'll use python's `requests` module to obtain the web page at http://en.wikipedia.org/wiki/Billboard_Year-End_Hot_100_singles_of_1970. From this web page we'll extract the top 100 singles and their rankings. We'll then create a list of [dictionaries](https://docs.python.org/2/tutorial/datastructures.html#dictionaries), 100 of them to be precise, with entries like `{'url': '/wiki/Sugarloaf_(band)', 'ranking': 30, 'band_singer': 'Sugarloaf', 'title': 'Green-Eyed Lady'}`. If you look at that web page, you will see that there is a link for every song, from which you can get the `url` of the singer or band. We will use these links later to scrape information about the singer or band. From the listing we can also get the band or singer name `band_singer`, and `title` of the song.\n",
    "\n",
    "We start by making a [GET](http://www.w3schools.com/tags/ref_httpmethods.asp) request to pull in the Billboard page from Wikipedia. This is the equivalent of using your browser to visit the page.\n",
    "\n",
    "In fact, you should visit the link above right now and [look at the source code of the page in the developer tools](http://wickedlysmart.com/hfhtml5/devtools.html), so you can follow what we'll be doing in the next few lines (Hint: in Chrome you can just hit F12 to get the developer tools)."
   ]
  },
  {
   "cell_type": "code",
   "execution_count": 3,
   "metadata": {
    "collapsed": false
   },
   "outputs": [],
   "source": [
    "# here we access the webpage and download the content using requests\n",
    "t1970=requests.get(\"http://en.wikipedia.org/wiki/Billboard_Year-End_Hot_100_singles_of_1970\")"
   ]
  },
  {
   "cell_type": "markdown",
   "metadata": {},
   "source": [
    "Next we will need to look for the HTML _tr_ (table row) element, but only the one that has a CSS class of _wikitable_. If you look at the page source, you'll see a construct like __class=wikitable__ on the table in question. But you will also notice that none of the _tr_ elements actually have the __class__ attribute set directly on them.\n",
    "\n",
    "A full depth treatment of [CSS](http://www.w3schools.com/css/) [selectors](http://www.w3schools.com/cssref/css_selectors.asp) are beyond the scope of this course, but you just need to learn enough to enable you to scrape. For now you can think of it this way: children (embedded) elements inherit style properties from their parents, unless they have the property explicitly reset on their tag attributes.\n",
    "\n",
    "Here is a screenshot of that page with the developer tools opened in Safari. I clicked Inspect and then the word \"Title\" to make this appear.\n",
    "\n",
    "![1970 songs](wikipage.png)\n"
   ]
  },
  {
   "cell_type": "markdown",
   "metadata": {},
   "source": [
    "**_Read this if you would like to use pyquery_** . Otherwise, skip down a bit to the part where we use beautifulSoup.\n",
    "\n",
    "When you request a web page, the HTTP server on the other side of the connection sends a lot of meta-information along with the page content your browser renders. Because we are only interested in the page content (i.e. the HTML elements), we request the _text_ property of the request result (the lack of parenthesis after _text_ is a hint that we're asking the object for a property, and not calling a method).\n"
   ]
  },
  {
   "cell_type": "code",
   "execution_count": 4,
   "metadata": {
    "collapsed": false,
    "scrolled": true
   },
   "outputs": [],
   "source": [
    "d_=pq(t1970.text)"
   ]
  },
  {
   "cell_type": "markdown",
   "metadata": {},
   "source": [
    "That text is then parsed by PyQuery (which was aliased as pq) and the result is bound to the _d\\__ variable. The naming choice here is to mimic jQuery's \\$ variable. Python is very flexible with identifier names for variables, functions, etc. They can't start with numbers, and underscores at the start and end of the name are somewhat special, but otherwise you have a lot of freedom naming them. Python is case sensitive, so my_var is different from My_var, which is different from MY_VAR, etc. Also, don't use Python [keywords](https://docs.python.org/2/reference/lexical_analysis.html#keywords) or built-in function names for your variables and functions. Weird things can happen if you do...\n",
    "\n",
    "The construct below generates a list like structure of _tr_ elements. The __[1:]__ part at the end means that we are only interested elements from the second position to the end of the list (in Python, indexes start at zero); that is because the first _tr_ element actually holds the table header."
   ]
  },
  {
   "cell_type": "code",
   "execution_count": 5,
   "metadata": {
    "collapsed": false,
    "scrolled": true
   },
   "outputs": [],
   "source": [
    "d_rows=pq(d_('.wikitable tr')[1:])"
   ]
  },
  {
   "cell_type": "markdown",
   "metadata": {},
   "source": [
    "Next we'll be calling the _text_ method of the PyQuery object, which will return the text between the opening and closing _tr_ tags. Note that as with the _requests_ response, this object contains a lot more information about the elements than just the text, which is why we need to explicitly tell it we only want the latter.\n",
    "\n",
    "You might have noticed that when we wanted the text content of the HTTP request we accessed its _text_ property, but this time we called the _text_ method (the parenthesis after the property name show that we're making a method call). Libraries are created by different people and are not always consistent. Please refer to the package documentation when in doubt.\n",
    "\n",
    "We will now parse the elements inside the _tr_ tags to get the data we need. I'll switch to inline comments to make it easier to follow the logic."
   ]
  },
  {
   "cell_type": "code",
   "execution_count": 6,
   "metadata": {
    "collapsed": false,
    "scrolled": false
   },
   "outputs": [],
   "source": [
    "# Start by creating an empty list.\n",
    "songs=[]\n",
    "\n",
    "# Iterate over the elements of d_rows. In this case \"r\" will\n",
    "# receive each value from \"d_rows\" in turn.\n",
    "for r in d_rows:\n",
    "    # Extract the \"td\" element from the current value of r.\n",
    "    d_td=pq(r)('td')\n",
    "    # Get the text from the first (index zero) \"td\" element, and convert\n",
    "    # it to an integer. If you have the page open, this is the value on\n",
    "    # the first column of the row (i.e. the song position on the chart).\n",
    "    ranking = int(pq(d_td[0]).text())\n",
    "    # The second column holds an \"a\" element, so we need to extract that\n",
    "    # before getting the text data. This is the song title.\n",
    "    title=pq(d_td[1])('a').text()\n",
    "    # We then get the singer name, which is the text of the third column.\n",
    "    band_singer=pq(d_td[2])('a').text()\n",
    "    # Along with the singer name, we also want to get the URL to her Wikipedia page,\n",
    "    # which is held on the \"href\" attribute of the a element.\n",
    "    # Notice that we are still looking the same element we used to get the name (index 2).\n",
    "    band_singer_url=pq(d_td[2])('a').attr.href\n",
    "    # Next we'll place all this information on a dictionary (also called\n",
    "    # a map, an associative array, a hash, etc.). We will use dictionaries\n",
    "    # a lot, so it's worth to do some quick research on this versatil Python\n",
    "    # structure.\n",
    "    songdict=dict(ranking=ranking, title=title, band_singer=band_singer, url=band_singer_url)\n",
    "    # Here we're just printing the dicitonary that was created during this iteration.\n",
    "    # Lastly, we add the dictionary with the row information to the list we\n",
    "    # created in the begining of the cell.\n",
    "    # Lists will also be used extensively during the course, \n",
    "    # so you might as well do some reserach on it too.\n",
    "    songs.append(songdict)"
   ]
  },
  {
   "cell_type": "markdown",
   "metadata": {},
   "source": [
    "You should now have a nice list of dictionaries with all the information you needed from the Wikipedia page."
   ]
  },
  {
   "cell_type": "code",
   "execution_count": 7,
   "metadata": {
    "collapsed": false,
    "scrolled": true
   },
   "outputs": [
    {
     "data": {
      "text/plain": [
       "[{'band_singer': 'The Guess Who',\n",
       "  'ranking': 3,\n",
       "  'title': 'American Woman',\n",
       "  'url': '/wiki/The_Guess_Who'},\n",
       " {'band_singer': 'B.J. Thomas',\n",
       "  'ranking': 4,\n",
       "  'title': \"Raindrops Keep Fallin' on My Head\",\n",
       "  'url': '/wiki/B.J._Thomas'}]"
      ]
     },
     "execution_count": 7,
     "metadata": {},
     "output_type": "execute_result"
    }
   ],
   "source": [
    "# By the way, indexes are open on the upper bound.\n",
    "# So songs[2:4] will give us the third and fourth elements, but not the fifth.\n",
    "songs[2:4]"
   ]
  },
  {
   "cell_type": "markdown",
   "metadata": {},
   "source": [
    "---\n",
    "\n",
    "**_Read this if you would like to use Beautiful Soup_**\n",
    "\n",
    "We will now show how to accomplish the same thing with BeautifulSoup. We will also take the opportunity to showcase a programming style called Functional Programming. This style is very useful to data manipulation, and it involves encapsulating your code into small, well contained functions which call each other. My way of working is to usually write my code first, after which I **refactor** pieces of code into functions which I can then reuse in the future. Functional programming is very useful and great to know, but can get some time to get used to. It is absolutely not a requirement for this class, but we would like you to know about it, and even if you don't write in this style yourself, to be able to understand your team mates code. \n",
    "\n",
    "If you find the following constructs confusing, feel free to ignore them for now. It should be noted that Python is not a functional language, but it does have some attributes that allow semi-functional programs to be created.\n",
    "\n",
    "If you want to read more about the `BeautifulSoup` functions we use, please have a look at the [documentation](http://www.crummy.com/software/BeautifulSoup/bs4/doc/).\n",
    "\n",
    "The construct in the line `rows = soup.find...` below generates a list like structure of _tr_ elements. The __[1:]__ part at the end means that we are only interested elements from the second position to the end of the list (in Python, indexes start at zero); that is because the first _tr_ element actually holds the table header."
   ]
  },
  {
   "cell_type": "code",
   "execution_count": 8,
   "metadata": {
    "collapsed": false,
    "scrolled": true
   },
   "outputs": [],
   "source": [
    "# We'll just reuse the request object that was previously created to create a BeautifulSoup element.\n",
    "# The latter will be the equivalent of the \"d_\" object we created before.\n",
    "soup = BeautifulSoup(t1970.text, \"html.parser\")\n",
    "\n",
    "# In this line we are looking for a single \"table\" element with a class of wikitable;\n",
    "# and then looking for all the \"tr\" elements on that table (notice the find vs find_all calls).\n",
    "# Even though the syntax is very different from PyQuery, the end result is similar.\n",
    "rows = soup.find(\"table\", attrs={\"class\": \"wikitable\"}).find_all(\"tr\")[1:]\n",
    "\n",
    "# We then define an anonymous (lambda) function whose job it is to act on\n",
    "#each column's element in each row in the table. Lambda functions are very\n",
    "# handy for functional programming, and the one below should be easy to follow.\n",
    "# The function processes each field of the parameter r accordingly. It starts by\n",
    "# transforming the first column into an integer; it then proceeds to getting the text\n",
    "# from the second and third elements, and finally it gets the HTTP link of the third\n",
    "# element, and returns all that in a list (notice the surrounding brackets).\n",
    "# The function is then bound to the cleaner variable so it can be referenced later.\n",
    "cleaner = lambda r: [int(r[0].get_text()), r[1].get_text(), r[2].get_text(), r[2].find(\"a\").get(\"href\")]\n",
    "\n",
    "#lambda functions are also excellent for defining one line math functions.\n",
    "#e.g. radius = lambda x,y: np.sqrt(x*x + y*y)\n",
    "\n",
    "# Next we'll create a list of names that will be used as dictionary keys.\n",
    "fields = [\"ranking\", \"title\", \"band_singer\", \"url\"]\n",
    "\n",
    "# We now use the lambda function to process each \"td\" element on a given row.\n",
    "# the [... for ... in ...] construct is a list comprehension. They look weird at\n",
    "# first but are amazingly useful and worth spending some time to learn.\n",
    "# At a high level, thing of it as a one line \"for loop\" that aggregates the result\n",
    "# of each iteration into a list. So once this line finished running, we will have a list\n",
    "# of something.\n",
    "#\n",
    "# The dict function is another way to create a dictionary. One neat thing about it\n",
    "# is that it accepts a list of key/value pairs that will be used to create said dictionary.\n",
    "#\n",
    "# But where are these key/value pairs coming from in here? From the zip function!\n",
    "# The zip function will take multiple iterables (things that can be treated as a sequence)\n",
    "# and combine them. An example might make it clearer:\n",
    "#\n",
    "# zip([\"a\", \"b\", \"c\"], [1, 2, 3]) evaluates to [(\"a\", 1), (\"b\", 2), (\"c\", 3)]. It's like a zipper!!!\n",
    "#\n",
    "# Anyway, never mind the parenthesis around the pairs; they just show that the elements\n",
    "# are grouped into tuples, which you can think of as lists that are immutable (they can't grow or shrink).\n",
    "#\n",
    "# So to recap: the zip function creates a list of pairs; which the dict function then uses\n",
    "# to create a dictionary, using the first element of the pair as the key and the second as\n",
    "# the value; and finally, the list comprehension iterates over each row element, and puts\n",
    "# the result of each iteration on a list, which is then bound to the songs variable.\n",
    "songs = [dict(zip(fields, cleaner(row.find_all(\"td\")))) for row in rows]"
   ]
  },
  {
   "cell_type": "markdown",
   "metadata": {},
   "source": [
    "The cell above has a lot of comments, but only 5 lines of Python code. Functional programs have a tendency to be more concise and, once you get the gist of it, easier to understand."
   ]
  },
  {
   "cell_type": "code",
   "execution_count": 9,
   "metadata": {
    "collapsed": false,
    "scrolled": true
   },
   "outputs": [
    {
     "data": {
      "text/plain": [
       "[{'band_singer': u'The Guess Who',\n",
       "  'ranking': 3,\n",
       "  'title': u'\"American Woman\"',\n",
       "  'url': u'/wiki/The_Guess_Who'},\n",
       " {'band_singer': u'B.J. Thomas',\n",
       "  'ranking': 4,\n",
       "  'title': u'\"Raindrops Keep Fallin\\' on My Head\"',\n",
       "  'url': u'/wiki/B.J._Thomas'}]"
      ]
     },
     "execution_count": 9,
     "metadata": {},
     "output_type": "execute_result"
    }
   ],
   "source": [
    "songs[2:4]"
   ]
  },
  {
   "cell_type": "markdown",
   "metadata": {},
   "source": [
    "In the end, we have a list with the same contents as the one created by the PyQuery version. On the next section you will have to parse the tables for multiple years. Pick one of the approaches presented above and adapt it to solve that problem. Or come up with your own solution!"
   ]
  },
  {
   "cell_type": "markdown",
   "metadata": {},
   "source": [
    "#### 1.1 Generalize the previous: Scrape wikipedia from 1992 to 2014"
   ]
  },
  {
   "cell_type": "markdown",
   "metadata": {},
   "source": [
    "By visiting the urls similar to the ones for 1970, we can obtain the billboard top 100 for the years 1992 to 2014. Download these using `requests` and store the text from those requests in a dictionary called `yearstext`. This dictionary ought to have as its keys the years (as integers from 1992 to 2014), and as values corresponding to these keys the text of the page being fetched.\n",
    "\n",
    "You ought to sleep a second at the very least in-between fetching each web page: you do not want Wikipedia to think you are a marauding bot attempting to mount a denial-of-service attack."
   ]
  },
  {
   "cell_type": "markdown",
   "metadata": {},
   "source": [
    "*Here are some notes for how you may do this*:\n",
    "\n",
    "You can start by using [`range`](https://docs.python.org/2/library/functions.html#range) to create a list of numbers from 1992 to 2014 (in its simplest form the `range` function returns a list of numbers from 0 to the argument given minus one). On a side note, if you need to generate a huge list of numbers (over thousands of numbers), use the _xrange_ function instead.\n",
    "\n",
    "You can then use [string interpolation](https://docs.python.org/2/library/stdtypes.html#string-formatting) to request the page for each year from 1992 to 2014. These pages are added to a dictionary with the year as the key and the page text as the value.\n",
    "\n",
    "The `time.sleep` function can be used to wait one second between requests, otherwise Wikipedia might get mad at us.\n",
    "\n",
    "At the end of the cell below, the dictionary `yearstext` **must** be defined."
   ]
  },
  {
   "cell_type": "code",
   "execution_count": 11,
   "metadata": {
    "collapsed": false,
    "scrolled": false
   },
   "outputs": [],
   "source": [
    "#your code here\n",
    "\n",
    "#make a list of years\n",
    "yearcount = range(1992,2015)\n",
    "\n",
    "#initialize list of urls for each year that you will fill in the next for loop with the urls\n",
    "wikipage_per_year = [0]*len(yearcount)\n",
    "year_range = range(len(yearcount))\n",
    "\n",
    "#get each url and then its text\n",
    "for url in year_range:\n",
    "    time.sleep(.2)\n",
    "    wikipage_per_year[url]=requests.get(\"http://en.wikipedia.org/wiki/Billboard_Year-End_Hot_100_singles_of_%d\" %yearcount[url])\n",
    "    wikipage_per_year[url] = wikipage_per_year[url].text\n",
    "    wikipage_per_year[url] = BeautifulSoup(wikipage_per_year[url], 'html.parser')\n",
    "      \n",
    "#zip them up in a dictionary\n",
    "yearstext = dict(zip(yearcount, wikipage_per_year))\n"
   ]
  },
  {
   "cell_type": "markdown",
   "metadata": {},
   "source": [
    "#### 1.2 Clean data and save a json file of information from the scraped files"
   ]
  },
  {
   "cell_type": "markdown",
   "metadata": {},
   "source": [
    "Remember the code you wrote to get data from 1970 which produces a list of dictionaries, one corresponding to each single? Write a function `parse_year(year, yeartextdict)` which takes the year, prints it out, gets the text for the year from the just created year text dictionary, and return a list of dictionaries for that year, with one dictionary for each single.\n",
    "\n",
    "The dictionaries **must** be of this form:\n",
    "\n",
    "```\n",
    "{'band_singer': ['Brandy', 'Monica'],\n",
    "  'ranking': 2,\n",
    "  'song': ['The Boy Is Mine'],\n",
    "  'songurl': ['/wiki/The_Boy_Is_Mine_(song)'],\n",
    "  'titletext': '\" The Boy Is Mine \"',\n",
    "  'url': ['/wiki/Brandy_Norwood', '/wiki/Monica_(entertainer)']}\n",
    "```"
   ]
  },
  {
   "cell_type": "markdown",
   "metadata": {},
   "source": [
    "Notice that some singles might have multiple songs:\n",
    "\n",
    "```\n",
    "{'band_singer': ['Jewel'],\n",
    "  'ranking': 2,\n",
    "  'song': ['Foolish Games', 'You Were Meant for Me'],\n",
    "  'songurl': ['/wiki/Foolish_Games',\n",
    "   '/wiki/You_Were_Meant_for_Me_(Jewel_song)'],\n",
    "  'titletext': '\" Foolish Games \" / \" You Were Meant for Me \"',\n",
    "  'url': ['/wiki/Jewel_(singer)']}\n",
    "```"
   ]
  },
  {
   "cell_type": "markdown",
   "metadata": {},
   "source": [
    "And some don't have a song URL:\n",
    "\n",
    "```\n",
    "{'band_singer': [u'Nu Flavor'],\n",
    "  'ranking': 91,\n",
    "  'song': [u'Heaven'],\n",
    "  'songurl': [None],\n",
    "  'titletext': u'\"Heaven\"',\n",
    "  'url': [u'/wiki/Nu_Flavor']}\n",
    "```"
   ]
  },
  {
   "cell_type": "markdown",
   "metadata": {},
   "source": [
    "There are some additional issues this function must handle:\n",
    "\n",
    "1. There can be more than one one `band_singer` as can be seen above (sometimes with a comma, sometimes with \"featuring\" in between). The best way to parse these is to look for the urls.\n",
    "2. There can be 2 songs in a single, because of the way the industry works: there are 2 sided singles. See https://en.wikipedia.org/wiki/Billboard_Year-End_Hot_100_singles_of_1997 for example. You can find other examples in 1998 and 1999.\n",
    "3. The `titletext` is the contents of the table cell, and retains the quotes that wikipedia puts on the single.\n",
    "4. If no song anchor is found (see the 24th song in the above url), assume there is one song in the single, set `songurl` to [`None`] and the song name to the contents of the table cell with the quotes stripped (ie `song` is a one-element list with this the `titletext` stripped of its quotes)."
   ]
  },
  {
   "cell_type": "code",
   "execution_count": 264,
   "metadata": {
    "collapsed": false,
    "scrolled": false
   },
   "outputs": [
    {
     "name": "stdout",
     "output_type": "stream",
     "text": [
      "1999\n"
     ]
    },
    {
     "data": {
      "text/plain": [
       "[{'band_singer': ['Cher'],\n",
       "  'ranking': 1,\n",
       "  'song': ['Believe (Cher song)'],\n",
       "  'songurl': ['/wiki/Believe_(Cher_song)'],\n",
       "  'titletext': '\"Believe\"',\n",
       "  'url': ['/wiki/Cher']},\n",
       " {'band_singer': ['TLC (band)'],\n",
       "  'ranking': 2,\n",
       "  'song': ['No Scrubs'],\n",
       "  'songurl': ['/wiki/No_Scrubs'],\n",
       "  'titletext': '\"No Scrubs\"',\n",
       "  'url': ['/wiki/TLC_(band)']},\n",
       " {'band_singer': ['Monica (entertainer)'],\n",
       "  'ranking': 3,\n",
       "  'song': ['Angel of Mine'],\n",
       "  'songurl': ['/wiki/Angel_of_Mine'],\n",
       "  'titletext': '\"Angel of Mine\"',\n",
       "  'url': ['/wiki/Monica_(entertainer)']},\n",
       " {'band_singer': ['Whitney Houston', 'Faith Evans', 'Kelly Price'],\n",
       "  'ranking': 4,\n",
       "  'song': ['Heartbreak Hotel (Whitney Houston song)'],\n",
       "  'songurl': ['/wiki/Heartbreak_Hotel_(Whitney_Houston_song)'],\n",
       "  'titletext': '\"Heartbreak Hotel\"',\n",
       "  'url': ['/wiki/Whitney_Houston', '/wiki/Faith_Evans', '/wiki/Kelly_Price']},\n",
       " {'band_singer': ['Britney Spears'],\n",
       "  'ranking': 5,\n",
       "  'song': ['...Baby One More Time (song)'],\n",
       "  'songurl': ['/wiki/...Baby_One_More_Time_(song)'],\n",
       "  'titletext': '\"...Baby One More Time\"',\n",
       "  'url': ['/wiki/Britney_Spears']},\n",
       " {'band_singer': ['Sixpence None the Richer'],\n",
       "  'ranking': 6,\n",
       "  'song': ['Kiss Me (Sixpence None the Richer song)'],\n",
       "  'songurl': ['/wiki/Kiss_Me_(Sixpence_None_the_Richer_song)'],\n",
       "  'titletext': '\"Kiss Me\"',\n",
       "  'url': ['/wiki/Sixpence_None_the_Richer']},\n",
       " {'band_singer': ['Christina Aguilera'],\n",
       "  'ranking': 7,\n",
       "  'song': ['Genie in a Bottle'],\n",
       "  'songurl': ['/wiki/Genie_in_a_Bottle'],\n",
       "  'titletext': '\"Genie in a Bottle\"',\n",
       "  'url': ['/wiki/Christina_Aguilera']},\n",
       " {'band_singer': ['Sugar Ray'],\n",
       "  'ranking': 8,\n",
       "  'song': ['Every Morning (Sugar Ray song)'],\n",
       "  'songurl': ['/wiki/Every_Morning_(Sugar_Ray_song)'],\n",
       "  'titletext': '\"Every Morning\"',\n",
       "  'url': ['/wiki/Sugar_Ray']},\n",
       " {'band_singer': ['Deborah Cox'],\n",
       "  'ranking': 9,\n",
       "  'song': [\"Nobody's Supposed to Be Here\"],\n",
       "  'songurl': ['/wiki/Nobody%27s_Supposed_to_Be_Here'],\n",
       "  'titletext': '\"Nobody\\'s Supposed to Be Here\"',\n",
       "  'url': ['/wiki/Deborah_Cox']},\n",
       " {'band_singer': ['Ricky Martin'],\n",
       "  'ranking': 10,\n",
       "  'song': [\"Livin' la Vida Loca\"],\n",
       "  'songurl': ['/wiki/Livin%27_la_Vida_Loca'],\n",
       "  'titletext': '\"Livin\\' la Vida Loca\"',\n",
       "  'url': ['/wiki/Ricky_Martin']},\n",
       " {'band_singer': ['702 (band)'],\n",
       "  'ranking': 11,\n",
       "  'song': ['Where My Girls At?'],\n",
       "  'songurl': ['/wiki/Where_My_Girls_At%3F'],\n",
       "  'titletext': '\"Where My Girls At?\"',\n",
       "  'url': ['/wiki/702_(band)']},\n",
       " {'band_singer': ['Jennifer Lopez'],\n",
       "  'ranking': 12,\n",
       "  'song': ['If You Had My Love'],\n",
       "  'songurl': ['/wiki/If_You_Had_My_Love'],\n",
       "  'titletext': '\"If You Had My Love\"',\n",
       "  'url': ['/wiki/Jennifer_Lopez']},\n",
       " {'band_singer': ['Goo Goo Dolls'],\n",
       "  'ranking': 13,\n",
       "  'song': ['Slide (Goo Goo Dolls song)'],\n",
       "  'songurl': ['/wiki/Slide_(Goo_Goo_Dolls_song)'],\n",
       "  'titletext': '\"Slide\"',\n",
       "  'url': ['/wiki/Goo_Goo_Dolls']},\n",
       " {'band_singer': ['Brandy Norwood'],\n",
       "  'ranking': 14,\n",
       "  'song': ['Have You Ever?'],\n",
       "  'songurl': ['/wiki/Have_You_Ever%3F'],\n",
       "  'titletext': '\"Have You Ever?\"',\n",
       "  'url': ['/wiki/Brandy_Norwood']},\n",
       " {'band_singer': ['Backstreet Boys'],\n",
       "  'ranking': 15,\n",
       "  'song': ['I Want It That Way'],\n",
       "  'songurl': ['/wiki/I_Want_It_That_Way'],\n",
       "  'titletext': '\"I Want It That Way\"',\n",
       "  'url': ['/wiki/Backstreet_Boys']},\n",
       " {'band_singer': ['R. Kelly', 'Celine Dion'],\n",
       "  'ranking': 16,\n",
       "  'song': [\"I'm Your Angel\"],\n",
       "  'songurl': ['/wiki/I%27m_Your_Angel'],\n",
       "  'titletext': '\"I\\'m Your Angel\"',\n",
       "  'url': ['/wiki/R._Kelly', '/wiki/Celine_Dion']},\n",
       " {'band_singer': ['Smash Mouth'],\n",
       "  'ranking': 17,\n",
       "  'song': ['All Star (song)'],\n",
       "  'songurl': ['/wiki/All_Star_(song)'],\n",
       "  'titletext': '\"All Star\"',\n",
       "  'url': ['/wiki/Smash_Mouth']},\n",
       " {'band_singer': ['Sarah McLachlan'],\n",
       "  'ranking': 18,\n",
       "  'song': ['Angel (Sarah McLachlan song)'],\n",
       "  'songurl': ['/wiki/Angel_(Sarah_McLachlan_song)'],\n",
       "  'titletext': '\"Angel\"',\n",
       "  'url': ['/wiki/Sarah_McLachlan']},\n",
       " {'band_singer': ['Santana (band)', 'Rob Thomas (musician)'],\n",
       "  'ranking': 19,\n",
       "  'song': ['Smooth (song)'],\n",
       "  'songurl': ['/wiki/Smooth_(song)'],\n",
       "  'titletext': '\"Smooth\"',\n",
       "  'url': ['/wiki/Santana_(band)', '/wiki/Rob_Thomas_(musician)']},\n",
       " {'band_singer': ['TLC (band)'],\n",
       "  'ranking': 20,\n",
       "  'song': ['Unpretty'],\n",
       "  'songurl': ['/wiki/Unpretty'],\n",
       "  'titletext': '\"Unpretty\"',\n",
       "  'url': ['/wiki/TLC_(band)']},\n",
       " {'band_singer': [\"Destiny's Child\"],\n",
       "  'ranking': 21,\n",
       "  'song': ['Bills, Bills, Bills'],\n",
       "  'songurl': ['/wiki/Bills,_Bills,_Bills'],\n",
       "  'titletext': '\"Bills, Bills, Bills\"',\n",
       "  'url': ['/wiki/Destiny%27s_Child']},\n",
       " {'band_singer': ['Eagle-Eye Cherry'],\n",
       "  'ranking': 22,\n",
       "  'song': ['Save Tonight'],\n",
       "  'songurl': ['/wiki/Save_Tonight'],\n",
       "  'titletext': '\"Save Tonight\"',\n",
       "  'url': ['/wiki/Eagle-Eye_Cherry']},\n",
       " {'band_singer': ['Pearl Jam'],\n",
       "  'ranking': 23,\n",
       "  'song': ['Last Kiss'],\n",
       "  'songurl': ['/wiki/Last_Kiss#Pearl_Jam_version'],\n",
       "  'titletext': '\"Last Kiss\"',\n",
       "  'url': ['/wiki/Pearl_Jam']},\n",
       " {'band_singer': ['Maxwell (musician)'],\n",
       "  'ranking': 24,\n",
       "  'song': ['Fortunate'],\n",
       "  'songurl': ['/wiki/Fortunate'],\n",
       "  'titletext': '\"Fortunate\"',\n",
       "  'url': ['/wiki/Maxwell_(musician)']},\n",
       " {'band_singer': ['Backstreet Boys'],\n",
       "  'ranking': 25,\n",
       "  'song': ['All I Have to Give'],\n",
       "  'songurl': ['/wiki/All_I_Have_to_Give'],\n",
       "  'titletext': '\"All I Have to Give\"',\n",
       "  'url': ['/wiki/Backstreet_Boys']},\n",
       " {'band_singer': ['Enrique Iglesias'],\n",
       "  'ranking': 26,\n",
       "  'song': ['Bailamos'],\n",
       "  'songurl': ['/wiki/Bailamos'],\n",
       "  'titletext': '\"Bailamos\"',\n",
       "  'url': ['/wiki/Enrique_Iglesias']},\n",
       " {'band_singer': ['Busta Rhymes', 'Janet Jackson'],\n",
       "  'ranking': 27,\n",
       "  'song': [\"What's It Gonna Be?!\"],\n",
       "  'songurl': ['/wiki/What%27s_It_Gonna_Be%3F!'],\n",
       "  'titletext': '\"What\\'s It Gonna Be?!\"',\n",
       "  'url': ['/wiki/Busta_Rhymes', '/wiki/Janet_Jackson']},\n",
       " {'band_singer': ['Everlast (musician)'],\n",
       "  'ranking': 28,\n",
       "  'song': [\"What It's Like\"],\n",
       "  'songurl': ['/wiki/What_It%27s_Like'],\n",
       "  'titletext': '\"What It\\'s Like\"',\n",
       "  'url': ['/wiki/Everlast_(musician)']},\n",
       " {'band_singer': ['Lenny Kravitz'],\n",
       "  'ranking': 29,\n",
       "  'song': ['Fly Away (Lenny Kravitz song)'],\n",
       "  'songurl': ['/wiki/Fly_Away_(Lenny_Kravitz_song)'],\n",
       "  'titletext': '\"Fly Away\"',\n",
       "  'url': ['/wiki/Lenny_Kravitz']},\n",
       " {'band_singer': ['Sugar Ray'],\n",
       "  'ranking': 30,\n",
       "  'song': ['Someday (Sugar Ray song)'],\n",
       "  'songurl': ['/wiki/Someday_(Sugar_Ray_song)'],\n",
       "  'titletext': '\"Someday\"',\n",
       "  'url': ['/wiki/Sugar_Ray']},\n",
       " {'band_singer': ['Divine (group)'],\n",
       "  'ranking': 31,\n",
       "  'song': ['Lately (Divine song)'],\n",
       "  'songurl': ['/wiki/Lately_(Divine_song)'],\n",
       "  'titletext': '\"Lately\"',\n",
       "  'url': ['/wiki/Divine_(group)']},\n",
       " {'band_singer': ['Shania Twain'],\n",
       "  'ranking': 32,\n",
       "  'song': [\"That Don't Impress Me Much\"],\n",
       "  'songurl': ['/wiki/That_Don%27t_Impress_Me_Much'],\n",
       "  'titletext': '\"That Don\\'t Impress Me Much\"',\n",
       "  'url': ['/wiki/Shania_Twain']},\n",
       " {'band_singer': ['Will Smith', 'Dru Hill', 'Kool Moe Dee'],\n",
       "  'ranking': 33,\n",
       "  'song': ['Wild Wild West (Will Smith song)'],\n",
       "  'songurl': ['/wiki/Wild_Wild_West_(Will_Smith_song)'],\n",
       "  'titletext': '\"Wild Wild West\"',\n",
       "  'url': ['/wiki/Will_Smith', '/wiki/Dru_Hill', '/wiki/Kool_Moe_Dee']},\n",
       " {'band_singer': ['Red Hot Chili Peppers'],\n",
       "  'ranking': 34,\n",
       "  'song': ['Scar Tissue'],\n",
       "  'songurl': ['/wiki/Scar_Tissue'],\n",
       "  'titletext': '\"Scar Tissue\"',\n",
       "  'url': ['/wiki/Red_Hot_Chili_Peppers']},\n",
       " {'band_singer': ['Mariah Carey', 'Jay-Z'],\n",
       "  'ranking': 35,\n",
       "  'song': ['Heartbreaker (Mariah Carey song)'],\n",
       "  'songurl': ['/wiki/Heartbreaker_(Mariah_Carey_song)'],\n",
       "  'titletext': '\"Heartbreaker\"',\n",
       "  'url': ['/wiki/Mariah_Carey', '/wiki/Jay-Z']},\n",
       " {'band_singer': ['Mariah Carey'],\n",
       "  'ranking': 36,\n",
       "  'song': ['I Still Believe (Brenda K. Starr song)'],\n",
       "  'songurl': ['/wiki/I_Still_Believe_(Brenda_K._Starr_song)'],\n",
       "  'titletext': '\"I Still Believe\"',\n",
       "  'url': ['/wiki/Mariah_Carey']},\n",
       " {'band_singer': ['98 Degrees'],\n",
       "  'ranking': 37,\n",
       "  'song': ['The Hardest Thing (98 Degrees song)'],\n",
       "  'songurl': ['/wiki/The_Hardest_Thing_(98_Degrees_song)'],\n",
       "  'titletext': '\"The Hardest Thing\"',\n",
       "  'url': ['/wiki/98_Degrees']},\n",
       " {'band_singer': ['LFO (group)'],\n",
       "  'ranking': 38,\n",
       "  'song': ['Summer Girls'],\n",
       "  'songurl': ['/wiki/Summer_Girls'],\n",
       "  'titletext': '\"Summer Girls\"',\n",
       "  'url': ['/wiki/LFO_(group)']},\n",
       " {'band_singer': ['Jay-Z', 'Amil (rapper)', 'Ja Rule'],\n",
       "  'ranking': 39,\n",
       "  'song': ['Can I Get A...'],\n",
       "  'songurl': ['/wiki/Can_I_Get_A...'],\n",
       "  'titletext': '\"Can I Get A...\"',\n",
       "  'url': ['/wiki/Jay-Z', '/wiki/Amil_(rapper)', '/wiki/Ja_Rule']},\n",
       " {'band_singer': ['Third Eye Blind'],\n",
       "  'ranking': 40,\n",
       "  'song': ['Jumper (song)'],\n",
       "  'songurl': ['/wiki/Jumper_(song)'],\n",
       "  'titletext': '\"Jumper\"',\n",
       "  'url': ['/wiki/Third_Eye_Blind']},\n",
       " {'band_singer': ['Lauryn Hill'],\n",
       "  'ranking': 41,\n",
       "  'song': ['Doo Wop (That Thing)'],\n",
       "  'songurl': ['/wiki/Doo_Wop_(That_Thing)'],\n",
       "  'titletext': '\"Doo Wop (That Thing)\"',\n",
       "  'url': ['/wiki/Lauryn_Hill']},\n",
       " {'band_singer': ['Lou Bega'],\n",
       "  'ranking': 42,\n",
       "  'song': ['Mambo No. 5'],\n",
       "  'songurl': ['/wiki/Mambo_No._5'],\n",
       "  'titletext': '\"Mambo No. 5\"',\n",
       "  'url': ['/wiki/Lou_Bega']},\n",
       " {'band_singer': ['Tyrese Gibson'],\n",
       "  'ranking': 43,\n",
       "  'song': ['Sweet Lady (Tyrese song)'],\n",
       "  'songurl': ['/wiki/Sweet_Lady_(Tyrese_song)'],\n",
       "  'titletext': '\"Sweet Lady\"',\n",
       "  'url': ['/wiki/Tyrese_Gibson']},\n",
       " {'band_singer': ['Whitney Houston'],\n",
       "  'ranking': 44,\n",
       "  'song': [\"It's Not Right but It's Okay\"],\n",
       "  'songurl': ['/wiki/It%27s_Not_Right_but_It%27s_Okay'],\n",
       "  'titletext': '\"It\\'s Not Right but It\\'s Okay\"',\n",
       "  'url': ['/wiki/Whitney_Houston']},\n",
       " {'band_singer': [\"'N Sync\"],\n",
       "  'ranking': 45,\n",
       "  'song': ['(God Must Have Spent) A Little More Time on You'],\n",
       "  'songurl': ['/wiki/(God_Must_Have_Spent)_A_Little_More_Time_on_You'],\n",
       "  'titletext': '\"(God Must Have Spent) A Little More Time on You\"',\n",
       "  'url': ['/wiki/%27N_Sync']},\n",
       " {'band_singer': ['Shawn Mullins'],\n",
       "  'ranking': 46,\n",
       "  'song': ['Lullaby (Shawn Mullins song)'],\n",
       "  'songurl': ['/wiki/Lullaby_(Shawn_Mullins_song)'],\n",
       "  'titletext': '\"Lullaby\"',\n",
       "  'url': ['/wiki/Shawn_Mullins']},\n",
       " {'band_singer': ['112 (band)', 'Lil Zane'],\n",
       "  'ranking': 47,\n",
       "  'song': ['Anywhere (112 song)'],\n",
       "  'songurl': ['/wiki/Anywhere_(112_song)'],\n",
       "  'titletext': '\"Anywhere\"',\n",
       "  'url': ['/wiki/112_(band)', '/wiki/Lil_Zane']},\n",
       " {'band_singer': ['K-Ci & JoJo'],\n",
       "  'ranking': 48,\n",
       "  'song': [\"Tell Me It's Real\"],\n",
       "  'songurl': ['/wiki/Tell_Me_It%27s_Real'],\n",
       "  'titletext': '\"Tell Me It\\'s Real\"',\n",
       "  'url': ['/wiki/K-Ci_%26_JoJo']},\n",
       " {'band_singer': ['Matchbox Twenty'],\n",
       "  'ranking': 49,\n",
       "  'song': ['Back 2 Good'],\n",
       "  'songurl': ['/wiki/Back_2_Good'],\n",
       "  'titletext': '\"Back 2 Good\"',\n",
       "  'url': ['/wiki/Matchbox_Twenty']},\n",
       " {'band_singer': ['Blaque'],\n",
       "  'ranking': 50,\n",
       "  'song': ['808 (song)'],\n",
       "  'songurl': ['/wiki/808_(song)'],\n",
       "  'titletext': '\"808\"',\n",
       "  'url': ['/wiki/Blaque']},\n",
       " {'band_singer': ['Tal Bachman'],\n",
       "  'ranking': 51,\n",
       "  'song': [\"She's So High (Tal Bachman song)\"],\n",
       "  'songurl': ['/wiki/She%27s_So_High_(Tal_Bachman_song)'],\n",
       "  'titletext': '\"She\\'s So High\"',\n",
       "  'url': ['/wiki/Tal_Bachman']},\n",
       " {'band_singer': ['Ricky Martin'],\n",
       "  'ranking': 52,\n",
       "  'song': [\"She's All I Ever Had\"],\n",
       "  'songurl': ['/wiki/She%27s_All_I_Ever_Had'],\n",
       "  'titletext': '\"She\\'s All I Ever Had\"',\n",
       "  'url': ['/wiki/Ricky_Martin']},\n",
       " {'band_singer': ['Will Smith'],\n",
       "  'ranking': 53,\n",
       "  'song': ['Miami (Will Smith song)'],\n",
       "  'songurl': ['/wiki/Miami_(Will_Smith_song)'],\n",
       "  'titletext': '\"Miami\"',\n",
       "  'url': ['/wiki/Will_Smith']},\n",
       " {'band_singer': ['Jewel (singer)'],\n",
       "  'ranking': 54,\n",
       "  'song': ['Hands (Jewel song)'],\n",
       "  'songurl': ['/wiki/Hands_(Jewel_song)'],\n",
       "  'titletext': '\"Hands\"',\n",
       "  'url': ['/wiki/Jewel_(singer)']},\n",
       " {'band_singer': ['JT Money', 'Sole'],\n",
       "  'ranking': 55,\n",
       "  'song': ['Who Dat (JT Money song)'],\n",
       "  'songurl': ['/wiki/Who_Dat_(JT_Money_song)'],\n",
       "  'titletext': '\"Who Dat\"',\n",
       "  'url': ['/wiki/JT_Money', '/wiki/Sol%C3%A9']},\n",
       " {'band_singer': ['Tim McGraw'],\n",
       "  'ranking': 56,\n",
       "  'song': ['Please Remember Me'],\n",
       "  'songurl': ['/wiki/Please_Remember_Me'],\n",
       "  'titletext': '\"Please Remember Me\"',\n",
       "  'url': ['/wiki/Tim_McGraw']},\n",
       " {'band_singer': ['Shania Twain'],\n",
       "  'ranking': 57,\n",
       "  'song': ['From This Moment On (Shania Twain song)'],\n",
       "  'songurl': ['/wiki/From_This_Moment_On_(Shania_Twain_song)'],\n",
       "  'titletext': '\"From This Moment On\"',\n",
       "  'url': ['/wiki/Shania_Twain']},\n",
       " {'band_singer': ['Faith Evans'],\n",
       "  'ranking': 58,\n",
       "  'song': ['Love Like This (Faith Evans song)'],\n",
       "  'songurl': ['/wiki/Love_Like_This_(Faith_Evans_song)'],\n",
       "  'titletext': '\"Love Like This\"',\n",
       "  'url': ['/wiki/Faith_Evans']},\n",
       " {'band_singer': ['Jesse Powell'],\n",
       "  'ranking': 59,\n",
       "  'song': ['You (Jesse Powell song)'],\n",
       "  'songurl': ['/wiki/You_(Jesse_Powell_song)'],\n",
       "  'titletext': '\"You\"',\n",
       "  'url': ['/wiki/Jesse_Powell']},\n",
       " {'band_singer': ['Total (group)', 'Missy Elliott'],\n",
       "  'ranking': 60,\n",
       "  'song': [\"Trippin' (Total song)\"],\n",
       "  'songurl': ['/wiki/Trippin%27_(Total_song)'],\n",
       "  'titletext': '\"Trippin\\'\"',\n",
       "  'url': ['/wiki/Total_(group)', '/wiki/Missy_Elliott']},\n",
       " {'band_singer': ['Silk (group)'],\n",
       "  'ranking': 61,\n",
       "  'song': ['If You'],\n",
       "  'songurl': [None],\n",
       "  'titletext': '\"If You\"',\n",
       "  'url': ['/wiki/Silk_(group)']},\n",
       " {'band_singer': ['Lauryn Hill'],\n",
       "  'ranking': 62,\n",
       "  'song': ['Ex-Factor'],\n",
       "  'songurl': ['/wiki/Ex-Factor'],\n",
       "  'titletext': '\"Ex-Factor\"',\n",
       "  'url': ['/wiki/Lauryn_Hill']},\n",
       " {'band_singer': ['Jordan Knight'],\n",
       "  'ranking': 63,\n",
       "  'song': ['Give It to You (Jordan Knight song)'],\n",
       "  'songurl': ['/wiki/Give_It_to_You_(Jordan_Knight_song)'],\n",
       "  'titletext': '\"Give It to You\"',\n",
       "  'url': ['/wiki/Jordan_Knight']},\n",
       " {'band_singer': ['Goo Goo Dolls'],\n",
       "  'ranking': 64,\n",
       "  'song': ['Black Balloon (Goo Goo Dolls song)'],\n",
       "  'songurl': ['/wiki/Black_Balloon_(Goo_Goo_Dolls_song)'],\n",
       "  'titletext': '\"Black Balloon\"',\n",
       "  'url': ['/wiki/Goo_Goo_Dolls']},\n",
       " {'band_singer': ['Eric Benet', 'Tamia'],\n",
       "  'ranking': 65,\n",
       "  'song': ['Spend My Life with You'],\n",
       "  'songurl': ['/wiki/Spend_My_Life_with_You'],\n",
       "  'titletext': '\"Spend My Life with You\"',\n",
       "  'url': ['/wiki/Eric_Ben%C3%A9t', '/wiki/Tamia']},\n",
       " {'band_singer': ['Dru Hill'],\n",
       "  'ranking': 66,\n",
       "  'song': ['These Are the Times'],\n",
       "  'songurl': ['/wiki/These_Are_the_Times'],\n",
       "  'titletext': '\"These Are the Times\"',\n",
       "  'url': ['/wiki/Dru_Hill']},\n",
       " {'band_singer': ['Mark Chesnutt'],\n",
       "  'ranking': 67,\n",
       "  'song': [\"I Don't Want to Miss a Thing\"],\n",
       "  'songurl': ['/wiki/I_Don%27t_Want_to_Miss_a_Thing#Mark_Chesnutt_version'],\n",
       "  'titletext': '\"I Don\\'t Want to Miss a Thing\"',\n",
       "  'url': ['/wiki/Mark_Chesnutt']},\n",
       " {'band_singer': ['98 Degrees'],\n",
       "  'ranking': 68,\n",
       "  'song': ['I Do (Cherish You)'],\n",
       "  'songurl': ['/wiki/I_Do_(Cherish_You)'],\n",
       "  'titletext': '\"I Do (Cherish You)\"',\n",
       "  'url': ['/wiki/98_Degrees']},\n",
       " {'band_singer': ['98 Degrees'],\n",
       "  'ranking': 69,\n",
       "  'song': ['Because of You (98 Degrees song)'],\n",
       "  'songurl': ['/wiki/Because_of_You_(98_Degrees_song)'],\n",
       "  'titletext': '\"Because of You\"',\n",
       "  'url': ['/wiki/98_Degrees']},\n",
       " {'band_singer': ['Sarah McLachlan'],\n",
       "  'ranking': 70,\n",
       "  'song': ['I Will Remember You (Sarah McLachlan song)'],\n",
       "  'songurl': ['/wiki/I_Will_Remember_You_(Sarah_McLachlan_song)'],\n",
       "  'titletext': '\"I Will Remember You\"',\n",
       "  'url': ['/wiki/Sarah_McLachlan']},\n",
       " {'band_singer': ['Chante Moore'],\n",
       "  'ranking': 71,\n",
       "  'song': [\"Chante's Got a Man\"],\n",
       "  'songurl': ['/wiki/Chant%C3%A9%27s_Got_a_Man'],\n",
       "  'titletext': '\"Chante\\'s Got a Man\"',\n",
       "  'url': ['/wiki/Chant%C3%A9_Moore']},\n",
       " {'band_singer': ['Case (singer)'],\n",
       "  'ranking': 72,\n",
       "  'song': ['Happily Ever After (song)'],\n",
       "  'songurl': ['/wiki/Happily_Ever_After_(song)'],\n",
       "  'titletext': '\"Happily Ever After\"',\n",
       "  'url': ['/wiki/Case_(singer)']},\n",
       " {'band_singer': ['Whitney Houston'],\n",
       "  'ranking': 73,\n",
       "  'song': ['My Love Is Your Love (song)'],\n",
       "  'songurl': ['/wiki/My_Love_Is_Your_Love_(song)'],\n",
       "  'titletext': '\"My Love Is Your Love\"',\n",
       "  'url': ['/wiki/Whitney_Houston']},\n",
       " {'band_singer': ['Faith Evans', 'Sean Combs'],\n",
       "  'ranking': 74,\n",
       "  'song': ['All Night Long (Faith Evans song)'],\n",
       "  'songurl': ['/wiki/All_Night_Long_(Faith_Evans_song)'],\n",
       "  'titletext': '\"All Night Long\"',\n",
       "  'url': ['/wiki/Faith_Evans', '/wiki/Sean_Combs']},\n",
       " {'band_singer': ['Juvenile (rapper)', 'Mannie Fresh', 'Lil Wayne'],\n",
       "  'ranking': 75,\n",
       "  'song': ['Back That Azz Up'],\n",
       "  'songurl': ['/wiki/Back_That_Azz_Up'],\n",
       "  'titletext': '\"Back That Azz Up\"',\n",
       "  'url': ['/wiki/Juvenile_(rapper)', '/wiki/Mannie_Fresh', '/wiki/Lil_Wayne']},\n",
       " {'band_singer': ['Brandy Norwood'],\n",
       "  'ranking': 76,\n",
       "  'song': [\"Almost Doesn't Count\"],\n",
       "  'songurl': ['/wiki/Almost_Doesn%27t_Count'],\n",
       "  'titletext': '\"Almost Doesn\\'t Count\"',\n",
       "  'url': ['/wiki/Brandy_Norwood']},\n",
       " {'band_singer': ['Shania Twain'],\n",
       "  'ranking': 77,\n",
       "  'song': ['Man! I Feel Like a Woman!'],\n",
       "  'songurl': ['/wiki/Man!_I_Feel_Like_a_Woman!'],\n",
       "  'titletext': '\"Man! I Feel Like a Woman!\"',\n",
       "  'url': ['/wiki/Shania_Twain']},\n",
       " {'band_singer': ['Len (band)'],\n",
       "  'ranking': 78,\n",
       "  'song': ['Steal My Sunshine'],\n",
       "  'songurl': ['/wiki/Steal_My_Sunshine'],\n",
       "  'titletext': '\"Steal My Sunshine\"',\n",
       "  'url': ['/wiki/Len_(band)']},\n",
       " {'band_singer': ['Marc Anthony'],\n",
       "  'ranking': 79,\n",
       "  'song': ['I Need to Know (Marc Anthony song)'],\n",
       "  'songurl': ['/wiki/I_Need_to_Know_(Marc_Anthony_song)'],\n",
       "  'titletext': '\"I Need to Know\"',\n",
       "  'url': ['/wiki/Marc_Anthony']},\n",
       " {'band_singer': ['Ginuwine'],\n",
       "  'ranking': 80,\n",
       "  'song': ['So Anxious'],\n",
       "  'songurl': ['/wiki/So_Anxious'],\n",
       "  'titletext': '\"So Anxious\"',\n",
       "  'url': ['/wiki/Ginuwine']},\n",
       " {'band_singer': ['Case (singer)', 'Joe (singer)'],\n",
       "  'ranking': 81,\n",
       "  'song': ['Faded Pictures'],\n",
       "  'songurl': [None],\n",
       "  'titletext': '\"Faded Pictures\"',\n",
       "  'url': ['/wiki/Case_(singer)', '/wiki/Joe_(singer)']},\n",
       " {'band_singer': ['Brian McKnight'],\n",
       "  'ranking': 82,\n",
       "  'song': ['Back at One (song)'],\n",
       "  'songurl': ['/wiki/Back_at_One_(song)'],\n",
       "  'titletext': '\"Back at One\"',\n",
       "  'url': ['/wiki/Brian_McKnight']},\n",
       " {'band_singer': ['R. Kelly'],\n",
       "  'ranking': 83,\n",
       "  'song': [\"When a Woman's Fed Up\"],\n",
       "  'songurl': ['/wiki/When_a_Woman%27s_Fed_Up'],\n",
       "  'titletext': '\"When a Woman\\'s Fed Up\"',\n",
       "  'url': ['/wiki/R._Kelly']},\n",
       " {'band_singer': ['Kenny Chesney'],\n",
       "  'ranking': 84,\n",
       "  'song': ['How Forever Feels'],\n",
       "  'songurl': ['/wiki/How_Forever_Feels'],\n",
       "  'titletext': '\"How Forever Feels\"',\n",
       "  'url': ['/wiki/Kenny_Chesney']},\n",
       " {'band_singer': ['Lonestar'],\n",
       "  'ranking': 85,\n",
       "  'song': ['Amazed'],\n",
       "  'songurl': ['/wiki/Amazed'],\n",
       "  'titletext': '\"Amazed\"',\n",
       "  'url': ['/wiki/Lonestar']},\n",
       " {'band_singer': ['Britney Spears'],\n",
       "  'ranking': 86,\n",
       "  'song': ['Sometimes (Britney Spears song)'],\n",
       "  'songurl': ['/wiki/Sometimes_(Britney_Spears_song)'],\n",
       "  'titletext': '\"Sometimes\"',\n",
       "  'url': ['/wiki/Britney_Spears']},\n",
       " {'band_singer': ['Mo Thugs'],\n",
       "  'ranking': 87,\n",
       "  'song': ['Ghetto Cowboy'],\n",
       "  'songurl': ['/wiki/Ghetto_Cowboy'],\n",
       "  'titletext': '\"Ghetto Cowboy\"',\n",
       "  'url': ['/wiki/Mo_Thugs']},\n",
       " {'band_singer': ['Fastball (band)'],\n",
       "  'ranking': 88,\n",
       "  'song': ['Out of My Head (Fastball song)'],\n",
       "  'songurl': ['/wiki/Out_of_My_Head_(Fastball_song)'],\n",
       "  'titletext': '\"Out of My Head\"',\n",
       "  'url': ['/wiki/Fastball_(band)']},\n",
       " {'band_singer': ['Jay-Z'],\n",
       "  'ranking': 89,\n",
       "  'song': ['Hard Knock Life (Ghetto Anthem)'],\n",
       "  'songurl': ['/wiki/Hard_Knock_Life_(Ghetto_Anthem)'],\n",
       "  'titletext': '\"Hard Knock Life (Ghetto Anthem)\"',\n",
       "  'url': ['/wiki/Jay-Z']},\n",
       " {'band_singer': ['Naughty by Nature', 'Zhane'],\n",
       "  'ranking': 90,\n",
       "  'song': ['Jamboree (song)'],\n",
       "  'songurl': ['/wiki/Jamboree_(song)'],\n",
       "  'titletext': '\"Jamboree\"',\n",
       "  'url': ['/wiki/Naughty_by_Nature', '/wiki/Zhan%C3%A9']},\n",
       " {'band_singer': ['Blackstreet', 'Mya', 'Mase', 'Blinky Blink'],\n",
       "  'ranking': 91,\n",
       "  'song': ['Take Me There (Blackstreet song)'],\n",
       "  'songurl': ['/wiki/Take_Me_There_(Blackstreet_song)'],\n",
       "  'titletext': '\"Take Me There\"',\n",
       "  'url': ['/wiki/Blackstreet',\n",
       "   '/wiki/M%C3%BDa',\n",
       "   '/wiki/Mase',\n",
       "   '/wiki/Blinky_Blink']},\n",
       " {'band_singer': ['Joey McIntyre'],\n",
       "  'ranking': 92,\n",
       "  'song': ['Stay the Same (Joey McIntyre song)'],\n",
       "  'songurl': ['/wiki/Stay_the_Same_(Joey_McIntyre_song)'],\n",
       "  'titletext': '\"Stay the Same\"',\n",
       "  'url': ['/wiki/Joey_McIntyre']},\n",
       " {'band_singer': ['Jo Dee Messina'],\n",
       "  'ranking': 93,\n",
       "  'song': [\"A Lesson in Leavin'\"],\n",
       "  'songurl': ['/wiki/A_Lesson_in_Leavin%27#Jo_Dee_Messina_version'],\n",
       "  'titletext': '\"A Lesson in Leavin\\'\"',\n",
       "  'url': ['/wiki/Jo_Dee_Messina']},\n",
       " {'band_singer': ['Goo Goo Dolls'],\n",
       "  'ranking': 94,\n",
       "  'song': ['Iris (Goo Goo Dolls song)'],\n",
       "  'songurl': ['/wiki/Iris_(Goo_Goo_Dolls_song)'],\n",
       "  'titletext': '\"Iris\"',\n",
       "  'url': ['/wiki/Goo_Goo_Dolls']},\n",
       " {'band_singer': ['Sean Combs', 'R. Kelly'],\n",
       "  'ranking': 95,\n",
       "  'song': ['Satisfy You (Puff Daddy song)'],\n",
       "  'songurl': ['/wiki/Satisfy_You_(Puff_Daddy_song)'],\n",
       "  'titletext': '\"Satisfy You\"',\n",
       "  'url': ['/wiki/Sean_Combs', '/wiki/R._Kelly']},\n",
       " {'band_singer': ['Citizen King'],\n",
       "  'ranking': 96,\n",
       "  'song': ['Better Days (And the Bottom Drops Out)'],\n",
       "  'songurl': ['/wiki/Better_Days_(And_the_Bottom_Drops_Out)'],\n",
       "  'titletext': '\"Better Days (And the Bottom Drops Out)\"',\n",
       "  'url': ['/wiki/Citizen_King']},\n",
       " {'band_singer': [\"'N Sync\", 'Gloria Estefan'],\n",
       "  'ranking': 97,\n",
       "  'song': ['Music of My Heart'],\n",
       "  'songurl': ['/wiki/Music_of_My_Heart'],\n",
       "  'titletext': '\"Music of My Heart\"',\n",
       "  'url': ['/wiki/%27N_Sync', '/wiki/Gloria_Estefan']},\n",
       " {'band_singer': ['George Strait'],\n",
       "  'ranking': 98,\n",
       "  'song': ['Write This Down (song)'],\n",
       "  'songurl': ['/wiki/Write_This_Down_(song)'],\n",
       "  'titletext': '\"Write This Down\"',\n",
       "  'url': ['/wiki/George_Strait']},\n",
       " {'band_singer': ['Whitney Houston', 'Mariah Carey'],\n",
       "  'ranking': 99,\n",
       "  'song': ['When You Believe'],\n",
       "  'songurl': ['/wiki/When_You_Believe'],\n",
       "  'titletext': '\"When You Believe\"',\n",
       "  'url': ['/wiki/Whitney_Houston', '/wiki/Mariah_Carey']},\n",
       " {'band_singer': ['Alabama (band)', \"'N Sync\"],\n",
       "  'ranking': 100,\n",
       "  'song': ['(God Must Have Spent) A Little More Time on You'],\n",
       "  'songurl': ['/wiki/(God_Must_Have_Spent)_A_Little_More_Time_on_You#Alabama_version'],\n",
       "  'titletext': '\"(God Must Have Spent) A Little More Time on You\"',\n",
       "  'url': ['/wiki/Alabama_(band)', '/wiki/%27N_Sync']}]"
      ]
     },
     "execution_count": 264,
     "metadata": {},
     "output_type": "execute_result"
    }
   ],
   "source": [
    "\"\"\"\n",
    "Function\n",
    "--------\n",
    "parse_year\n",
    "\n",
    "Inputs\n",
    "------\n",
    "year: the year you want the singles for\n",
    "ytextdixt: a dictionary with keys as integer years and values the downloaded web pages \n",
    "    from wikipedia for that year.\n",
    "   \n",
    "Returns\n",
    "-------\n",
    "\n",
    "a list of dictionaries, each of which corresponds to a single and has the\n",
    "following data:\n",
    "\n",
    "Eg:\n",
    "\n",
    "{'band_singer': ['Brandy', 'Monica'],\n",
    "  'ranking': 2,\n",
    "  'song': ['The Boy Is Mine'],\n",
    "  'songurl': ['/wiki/The_Boy_Is_Mine_(song)'],\n",
    "  'titletext': '\" The Boy Is Mine \"',\n",
    "  'url': ['/wiki/Brandy_Norwood', '/wiki/Monica_(entertainer)']}\n",
    "  \n",
    "A dictionary with the following data:\n",
    "    band_singer: a list of bands/singers who made this single\n",
    "    song: a list of the titles of songs on this single\n",
    "    songurl: a list of the same size as song which has urls for the songs on the single \n",
    "        (see point 3 above)\n",
    "    ranking: ranking of the single\n",
    "    titletext: the contents of the table cell\n",
    "    band_singer: a list of bands or singers on this single\n",
    "    url: a list of wikipedia singer/band urls on this single: only put in the part \n",
    "        of the url from /wiki onwards\n",
    "    \n",
    "\n",
    "Notes\n",
    "-----\n",
    "See description and example above.\n",
    "\"\"\"\n",
    "#your code here\n",
    "import unicodedata\n",
    "\n",
    "def parse_year(year,yearstext):\n",
    "    print year\n",
    "    year_text = yearstext[year]\n",
    "\n",
    "    keys = ['band_singer', 'ranking', 'song', 'songurl', 'titletext', 'url']\n",
    "\n",
    "    #find all the songs\n",
    "    rows = year_text.find(\"table\", attrs={\"class\": \"wikitable\"}).find_all(\"tr\")[1:]\n",
    "    \n",
    "    #initialize dictionary with keys from above\n",
    "    single_dicts = []\n",
    "    \n",
    "    for row in rows:\n",
    "        values = []\n",
    "        song_info = row.find_all(\"td\")\n",
    "        #song_info zero corresponds to the first <td> in the Inspect Element. So it corresponds to the songs\n",
    "        titletext = str(unicodedata.normalize('NFKD',song_info[0].get_text()).encode('ascii','ignore'))\n",
    "        \n",
    "        \n",
    "        #song_info[1] corresponds to the second <td> where the artist information is.\n",
    "        song_urls_title = song_info[0].find_all(\"a\")\n",
    "        band_urls_title = song_info[1].find_all(\"a\")\n",
    "        \n",
    "        # find all the bands \n",
    "        bands = []\n",
    "        for band_i in range(len(band_urls_title)):\n",
    "            band_i_name = band_urls_title[band_i].get(\"title\")\n",
    "            bands.append(str(unicodedata.normalize('NFKD',band_i_name).encode('ascii','ignore')))\n",
    "        if bands == []:\n",
    "            bands.append(None)\n",
    "        values.append(bands)\n",
    "        \n",
    "        #find the ranking\n",
    "        ranking_info = row.find(\"th\")\n",
    "        ranking = int(ranking_info.get_text(\"scope\"))\n",
    "        values.append(ranking)\n",
    "        \n",
    "        #get all the songs without \"\" marks\n",
    "        songs = []\n",
    "        for song_i in range(len(song_urls_title)):\n",
    "            song_i_name = song_urls_title[song_i].get(\"title\")\n",
    "            songs.append(str(unicodedata.normalize('NFKD',song_i_name).encode('ascii','ignore')))\n",
    "        if songs == []:\n",
    "            songs.append(titletext[1:(len(titletext) - 1)])\n",
    "        values.append(songs)\n",
    "        \n",
    "        #get the urls for all the songs\n",
    "        song_url_list = []\n",
    "        band_url_list = []\n",
    "        for song_i in range(len(song_urls_title)):\n",
    "            song_url_list.append(str(song_urls_title[song_i].get(\"href\")))\n",
    "        #Add none if there aren't any urls\n",
    "        if song_url_list == []:\n",
    "            song_url_list.append(None)\n",
    "        values.append(song_url_list)\n",
    "        \n",
    "        #add title to values list\n",
    "        values.append(titletext)\n",
    "        \n",
    "        #add band url to list\n",
    "        for band_i in range(len(band_urls_title)):\n",
    "            band_url_list.append(str(band_urls_title[band_i].get(\"href\")))\n",
    "        if band_url_list == []:\n",
    "            band_url_list.append(None)\n",
    "        values.append(band_url_list)\n",
    "        \n",
    "        #zip up those dicts!\n",
    "        tophit_info = dict(zip(keys,values))\n",
    "        single_dicts.append(tophit_info)\n",
    "        \n",
    "    return single_dicts\n",
    "    \n",
    "parse_year(1999,yearstext)\n"
   ]
  },
  {
   "cell_type": "markdown",
   "metadata": {},
   "source": [
    "As a test, try the following:"
   ]
  },
  {
   "cell_type": "code",
   "execution_count": 769,
   "metadata": {
    "collapsed": false,
    "scrolled": false
   },
   "outputs": [
    {
     "name": "stdout",
     "output_type": "stream",
     "text": [
      "1997\n"
     ]
    },
    {
     "data": {
      "text/plain": [
       "[{'band_singer': ['Elton John'],\n",
       "  'ranking': 1,\n",
       "  'song': ['Something About the Way You Look Tonight',\n",
       "   'Candle in the Wind 1997'],\n",
       "  'songurl': ['/wiki/Something_About_the_Way_You_Look_Tonight',\n",
       "   '/wiki/Candle_in_the_Wind_1997'],\n",
       "  'titletext': '\"Something About the Way You Look Tonight\" / \"Candle in the Wind 1997\"',\n",
       "  'url': ['/wiki/Elton_John']},\n",
       " {'band_singer': ['Jewel (singer)'],\n",
       "  'ranking': 2,\n",
       "  'song': ['Foolish Games', 'You Were Meant for Me (Jewel song)'],\n",
       "  'songurl': ['/wiki/Foolish_Games',\n",
       "   '/wiki/You_Were_Meant_for_Me_(Jewel_song)'],\n",
       "  'titletext': '\"Foolish Games\" / \"You Were Meant for Me\"',\n",
       "  'url': ['/wiki/Jewel_(singer)']},\n",
       " {'band_singer': ['Sean Combs', 'Faith Evans', '112 (band)'],\n",
       "  'ranking': 3,\n",
       "  'song': [\"I'll Be Missing You\"],\n",
       "  'songurl': ['/wiki/I%27ll_Be_Missing_You'],\n",
       "  'titletext': '\"I\\'ll Be Missing You\"',\n",
       "  'url': ['/wiki/Sean_Combs', '/wiki/Faith_Evans', '/wiki/112_(band)']},\n",
       " {'band_singer': ['Toni Braxton'],\n",
       "  'ranking': 4,\n",
       "  'song': ['Un-Break My Heart'],\n",
       "  'songurl': ['/wiki/Un-Break_My_Heart'],\n",
       "  'titletext': '\"Un-Break My Heart\"',\n",
       "  'url': ['/wiki/Toni_Braxton']},\n",
       " {'band_singer': ['Sean Combs', 'Mase'],\n",
       "  'ranking': 5,\n",
       "  'song': [\"Can't Nobody Hold Me Down\"],\n",
       "  'songurl': ['/wiki/Can%27t_Nobody_Hold_Me_Down'],\n",
       "  'titletext': '\"Can\\'t Nobody Hold Me Down\"',\n",
       "  'url': ['/wiki/Sean_Combs', '/wiki/Mase']}]"
      ]
     },
     "execution_count": 769,
     "metadata": {},
     "output_type": "execute_result"
    }
   ],
   "source": [
    "parse_year(1997, yearstext)[:5]"
   ]
  },
  {
   "cell_type": "markdown",
   "metadata": {},
   "source": [
    "This should give the following. Notice that the year 1997 exercises the edge cases we talked about earlier."
   ]
  },
  {
   "cell_type": "raw",
   "metadata": {},
   "source": [
    "[{'band_singer': ['Elton John'],\n",
    "  'ranking': 1,\n",
    "  'song': ['Something About the Way You Look Tonight',\n",
    "   'Candle in the Wind 1997'],\n",
    "  'songurl': ['/wiki/Something_About_the_Way_You_Look_Tonight',\n",
    "   '/wiki/Candle_in_the_Wind_1997'],\n",
    "  'titletext': '\" Something About the Way You Look Tonight \" / \" Candle in the Wind 1997 \"',\n",
    "  'url': ['/wiki/Elton_John']},\n",
    " {'band_singer': ['Jewel'],\n",
    "  'ranking': 2,\n",
    "  'song': ['Foolish Games', 'You Were Meant for Me'],\n",
    "  'songurl': ['/wiki/Foolish_Games',\n",
    "   '/wiki/You_Were_Meant_for_Me_(Jewel_song)'],\n",
    "  'titletext': '\" Foolish Games \" / \" You Were Meant for Me \"',\n",
    "  'url': ['/wiki/Jewel_(singer)']},\n",
    " {'band_singer': ['Puff Daddy', 'Faith Evans', '112'],\n",
    "  'ranking': 3,\n",
    "  'song': [\"I'll Be Missing You\"],\n",
    "  'songurl': ['/wiki/I%27ll_Be_Missing_You'],\n",
    "  'titletext': '\" I\\'ll Be Missing You \"',\n",
    "  'url': ['/wiki/Sean_Combs', '/wiki/Faith_Evans', '/wiki/112_(band)']},\n",
    " {'band_singer': ['Toni Braxton'],\n",
    "  'ranking': 4,\n",
    "  'song': ['Un-Break My Heart'],\n",
    "  'songurl': ['/wiki/Un-Break_My_Heart'],\n",
    "  'titletext': '\" Un-Break My Heart \"',\n",
    "  'url': ['/wiki/Toni_Braxton']},\n",
    " {'band_singer': ['Puff Daddy', 'Mase'],\n",
    "  'ranking': 5,\n",
    "  'song': [\"Can't Nobody Hold Me Down\"],\n",
    "  'songurl': ['/wiki/Can%27t_Nobody_Hold_Me_Down'],\n",
    "  'titletext': '\" Can\\'t Nobody Hold Me Down \"',\n",
    "  'url': ['/wiki/Sean_Combs', '/wiki/Mase']}]"
   ]
  },
  {
   "cell_type": "markdown",
   "metadata": {},
   "source": [
    "Then, let us store the information for each year in a dictionary `yearinfo` keyed by year."
   ]
  },
  {
   "cell_type": "code",
   "execution_count": 13,
   "metadata": {
    "collapsed": false,
    "scrolled": false
   },
   "outputs": [
    {
     "name": "stdout",
     "output_type": "stream",
     "text": [
      "1992\n",
      "1993\n",
      "1994\n",
      "1995\n",
      "1996\n",
      "1997\n",
      "1998\n",
      "1999\n",
      "2000\n",
      "2001\n",
      "2002\n",
      "2003\n",
      "2004\n",
      "2005\n",
      "2006\n",
      "2007\n",
      "2008\n",
      "2009\n",
      "2010\n",
      "2011\n",
      "2012\n",
      "2013\n",
      "2014\n"
     ]
    }
   ],
   "source": [
    "yearinfo = {y:parse_year(y, yearstext) for y in yearcount}"
   ]
  },
  {
   "cell_type": "markdown",
   "metadata": {},
   "source": [
    "We would not want to lose all this work, so let's save the last data structure we created to disk. That way if you need to re-run sections 1.3 and beyond, you don't need to redo all these requests and parsing. Notice that we save into the `tempdata` folder. If you look at the `.gitignore` for this repository, you will see that files in `tempdata` are not committed...these are large files, and when you commit and push your homework, we do not need to see them..."
   ]
  },
  {
   "cell_type": "code",
   "execution_count": 15,
   "metadata": {
    "collapsed": true
   },
   "outputs": [],
   "source": [
    "import json"
   ]
  },
  {
   "cell_type": "code",
   "execution_count": 772,
   "metadata": {
    "collapsed": false,
    "scrolled": false
   },
   "outputs": [],
   "source": [
    "# fd = open(\"tempdata/yearinfo.json\",\"w\")\n",
    "# json.dump(yearinfo, fd)\n",
    "# fd.close()"
   ]
  },
  {
   "cell_type": "markdown",
   "metadata": {},
   "source": [
    "Now let's reload our JSON file into the yearinfo variable, just to be sure everything is working."
   ]
  },
  {
   "cell_type": "code",
   "execution_count": 17,
   "metadata": {
    "collapsed": false,
    "scrolled": true
   },
   "outputs": [],
   "source": [
    "# Another way to deal with files. Has the advantage of closing the file for you.\n",
    "#del yearinfo\n",
    "with open(\"tempdata/yearinfo.json\", \"r\") as fd:\n",
    "    yearinfo = json.load(fd)"
   ]
  },
  {
   "cell_type": "markdown",
   "metadata": {},
   "source": [
    "### Construct a year-song-singer dataframe from the yearly information"
   ]
  },
  {
   "cell_type": "markdown",
   "metadata": {},
   "source": [
    "Let's construct a dataframe from the `yearinfo`. Pandas DataFrames are like Excel spreadsheets or CSV files. They are great for representing data that has the same data type on each column, but different types across columns. However, if you look at the data structure we have so far, a given key can have a list of values with multiple entries. Also, our data is grouped by year. So we need a way to flatten this data into a format that will create a useful DataFrame."
   ]
  },
  {
   "cell_type": "markdown",
   "metadata": {},
   "source": [
    "#### Construct a panel and flatten it"
   ]
  },
  {
   "cell_type": "markdown",
   "metadata": {},
   "source": [
    "To do this, we iterate over the years and the singles per year. For each single, we then iterate over singers and songs, in the end constructing a dataframe for each year. This dataframe has one row per single/singer/song combination. We can then store these dataframes into a dictionary, construct a Panel from it (look it up in the Pandas docs), and flatten the panel to get a hierarchically indexed dataframe.\n",
    "\n",
    "A Panel is a 3-D version of a DataFrame, or a DataFrame of DataFrames. Think of dataframes stacked on top of each other and coming out of the screen. We then flatten this Panel into a single Dataframe by using Pandas ability to have hierarchical indexing: in this case its the ranking/year combination that things get flattened under.\n",
    "\n",
    "Don't worry if you don't get the Panel to DataFrame part. We will have plenty of time to learn about Pandas and its data structures. But make sure you understand the logic of everything before the last three lines."
   ]
  },
  {
   "cell_type": "code",
   "execution_count": 18,
   "metadata": {
    "collapsed": true,
    "scrolled": false
   },
   "outputs": [],
   "source": [
    "yeardict={}\n",
    "for y in yearinfo.keys():\n",
    "    yearlist=yearinfo[y]\n",
    "    yearlist2=[]\n",
    "    for idict in yearlist:\n",
    "        singers=idict['band_singer']\n",
    "        for i,s in enumerate(singers):\n",
    "            songs=idict['song']\n",
    "            for j,so in enumerate(songs):#now inside each singer song combination\n",
    "                nd={}\n",
    "                nd['band_singer']=s\n",
    "                nd['url']=idict['url'][i]\n",
    "                nd['song']=so\n",
    "                nd['songurl']=idict['songurl'][j]\n",
    "                nd['ranking']=idict['ranking']\n",
    "                yearlist2.append(nd)\n",
    "    yeardict[y]=pd.DataFrame(yearlist2)#one for each year\n",
    "yearspanel=pd.Panel.from_dict(yeardict, orient=\"minor\")#stack dataframes into a panel\n",
    "hierframe=yearspanel.to_frame() #flattening leads to a hierarchical index"
   ]
  },
  {
   "cell_type": "code",
   "execution_count": 19,
   "metadata": {
    "collapsed": false,
    "scrolled": false
   },
   "outputs": [
    {
     "data": {
      "text/html": [
       "<div>\n",
       "<table border=\"1\" class=\"dataframe\">\n",
       "  <thead>\n",
       "    <tr style=\"text-align: right;\">\n",
       "      <th></th>\n",
       "      <th></th>\n",
       "      <th>band_singer</th>\n",
       "      <th>ranking</th>\n",
       "      <th>song</th>\n",
       "      <th>songurl</th>\n",
       "      <th>url</th>\n",
       "    </tr>\n",
       "    <tr>\n",
       "      <th>major</th>\n",
       "      <th>minor</th>\n",
       "      <th></th>\n",
       "      <th></th>\n",
       "      <th></th>\n",
       "      <th></th>\n",
       "      <th></th>\n",
       "    </tr>\n",
       "  </thead>\n",
       "  <tbody>\n",
       "    <tr>\n",
       "      <th rowspan=\"5\" valign=\"top\">0</th>\n",
       "      <th>1992</th>\n",
       "      <td>Boyz II Men</td>\n",
       "      <td>1</td>\n",
       "      <td>End of the Road</td>\n",
       "      <td>/wiki/End_of_the_Road</td>\n",
       "      <td>/wiki/Boyz_II_Men</td>\n",
       "    </tr>\n",
       "    <tr>\n",
       "      <th>1993</th>\n",
       "      <td>Whitney Houston</td>\n",
       "      <td>1</td>\n",
       "      <td>I Will Always Love You</td>\n",
       "      <td>/wiki/I_Will_Always_Love_You#Whitney_Houston_v...</td>\n",
       "      <td>/wiki/Whitney_Houston</td>\n",
       "    </tr>\n",
       "    <tr>\n",
       "      <th>1994</th>\n",
       "      <td>Ace of Base</td>\n",
       "      <td>1</td>\n",
       "      <td>The Sign (song)</td>\n",
       "      <td>/wiki/The_Sign_(song)</td>\n",
       "      <td>/wiki/Ace_of_Base</td>\n",
       "    </tr>\n",
       "    <tr>\n",
       "      <th>1995</th>\n",
       "      <td>Coolio</td>\n",
       "      <td>1</td>\n",
       "      <td>Gangsta's Paradise (song)</td>\n",
       "      <td>/wiki/Gangsta%27s_Paradise_(song)</td>\n",
       "      <td>/wiki/Coolio</td>\n",
       "    </tr>\n",
       "    <tr>\n",
       "      <th>1996</th>\n",
       "      <td>Los del Rio</td>\n",
       "      <td>1</td>\n",
       "      <td>Macarena (song)</td>\n",
       "      <td>/wiki/Macarena_(song)</td>\n",
       "      <td>/wiki/Los_del_R%C3%ADo</td>\n",
       "    </tr>\n",
       "  </tbody>\n",
       "</table>\n",
       "</div>"
      ],
      "text/plain": [
       "                 band_singer  ranking                       song                                            songurl                     url\n",
       "major minor                                                                                                                                \n",
       "0     1992       Boyz II Men        1            End of the Road                              /wiki/End_of_the_Road       /wiki/Boyz_II_Men\n",
       "      1993   Whitney Houston        1     I Will Always Love You  /wiki/I_Will_Always_Love_You#Whitney_Houston_v...   /wiki/Whitney_Houston\n",
       "      1994       Ace of Base        1            The Sign (song)                              /wiki/The_Sign_(song)       /wiki/Ace_of_Base\n",
       "      1995            Coolio        1  Gangsta's Paradise (song)                  /wiki/Gangsta%27s_Paradise_(song)            /wiki/Coolio\n",
       "      1996       Los del Rio        1            Macarena (song)                              /wiki/Macarena_(song)  /wiki/Los_del_R%C3%ADo"
      ]
     },
     "execution_count": 19,
     "metadata": {},
     "output_type": "execute_result"
    }
   ],
   "source": [
    "hierframe.head()"
   ]
  },
  {
   "cell_type": "markdown",
   "metadata": {},
   "source": [
    "We really want a non-hierarchical dataframe. So, let's flatten the dataframe further and rename some of the items in the index to create a non-hierarchically indexed dataframe."
   ]
  },
  {
   "cell_type": "code",
   "execution_count": 21,
   "metadata": {
    "collapsed": false,
    "scrolled": true
   },
   "outputs": [
    {
     "data": {
      "text/html": [
       "<div>\n",
       "<table border=\"1\" class=\"dataframe\">\n",
       "  <thead>\n",
       "    <tr style=\"text-align: right;\">\n",
       "      <th></th>\n",
       "      <th>major</th>\n",
       "      <th>minor</th>\n",
       "      <th>band_singer</th>\n",
       "      <th>ranking</th>\n",
       "      <th>song</th>\n",
       "      <th>songurl</th>\n",
       "      <th>url</th>\n",
       "    </tr>\n",
       "  </thead>\n",
       "  <tbody>\n",
       "    <tr>\n",
       "      <th>0</th>\n",
       "      <td>0</td>\n",
       "      <td>1992</td>\n",
       "      <td>Boyz II Men</td>\n",
       "      <td>1</td>\n",
       "      <td>End of the Road</td>\n",
       "      <td>/wiki/End_of_the_Road</td>\n",
       "      <td>/wiki/Boyz_II_Men</td>\n",
       "    </tr>\n",
       "    <tr>\n",
       "      <th>1</th>\n",
       "      <td>0</td>\n",
       "      <td>1993</td>\n",
       "      <td>Whitney Houston</td>\n",
       "      <td>1</td>\n",
       "      <td>I Will Always Love You</td>\n",
       "      <td>/wiki/I_Will_Always_Love_You#Whitney_Houston_v...</td>\n",
       "      <td>/wiki/Whitney_Houston</td>\n",
       "    </tr>\n",
       "    <tr>\n",
       "      <th>2</th>\n",
       "      <td>0</td>\n",
       "      <td>1994</td>\n",
       "      <td>Ace of Base</td>\n",
       "      <td>1</td>\n",
       "      <td>The Sign (song)</td>\n",
       "      <td>/wiki/The_Sign_(song)</td>\n",
       "      <td>/wiki/Ace_of_Base</td>\n",
       "    </tr>\n",
       "    <tr>\n",
       "      <th>3</th>\n",
       "      <td>0</td>\n",
       "      <td>1995</td>\n",
       "      <td>Coolio</td>\n",
       "      <td>1</td>\n",
       "      <td>Gangsta's Paradise (song)</td>\n",
       "      <td>/wiki/Gangsta%27s_Paradise_(song)</td>\n",
       "      <td>/wiki/Coolio</td>\n",
       "    </tr>\n",
       "    <tr>\n",
       "      <th>4</th>\n",
       "      <td>0</td>\n",
       "      <td>1996</td>\n",
       "      <td>Los del Rio</td>\n",
       "      <td>1</td>\n",
       "      <td>Macarena (song)</td>\n",
       "      <td>/wiki/Macarena_(song)</td>\n",
       "      <td>/wiki/Los_del_R%C3%ADo</td>\n",
       "    </tr>\n",
       "  </tbody>\n",
       "</table>\n",
       "</div>"
      ],
      "text/plain": [
       "   major minor      band_singer  ranking                       song                                            songurl                     url\n",
       "0      0  1992      Boyz II Men        1            End of the Road                              /wiki/End_of_the_Road       /wiki/Boyz_II_Men\n",
       "1      0  1993  Whitney Houston        1     I Will Always Love You  /wiki/I_Will_Always_Love_You#Whitney_Houston_v...   /wiki/Whitney_Houston\n",
       "2      0  1994      Ace of Base        1            The Sign (song)                              /wiki/The_Sign_(song)       /wiki/Ace_of_Base\n",
       "3      0  1995           Coolio        1  Gangsta's Paradise (song)                  /wiki/Gangsta%27s_Paradise_(song)            /wiki/Coolio\n",
       "4      0  1996      Los del Rio        1            Macarena (song)                              /wiki/Macarena_(song)  /wiki/Los_del_R%C3%ADo"
      ]
     },
     "execution_count": 21,
     "metadata": {},
     "output_type": "execute_result"
    }
   ],
   "source": [
    "flatframe = hierframe.reset_index()\n",
    "flatframe.head()"
   ]
  },
  {
   "cell_type": "code",
   "execution_count": 22,
   "metadata": {
    "collapsed": false,
    "scrolled": true
   },
   "outputs": [
    {
     "data": {
      "text/html": [
       "<div>\n",
       "<table border=\"1\" class=\"dataframe\">\n",
       "  <thead>\n",
       "    <tr style=\"text-align: right;\">\n",
       "      <th></th>\n",
       "      <th>year</th>\n",
       "      <th>band_singer</th>\n",
       "      <th>ranking</th>\n",
       "      <th>song</th>\n",
       "      <th>songurl</th>\n",
       "      <th>url</th>\n",
       "    </tr>\n",
       "  </thead>\n",
       "  <tbody>\n",
       "    <tr>\n",
       "      <th>0</th>\n",
       "      <td>1992</td>\n",
       "      <td>Boyz II Men</td>\n",
       "      <td>1</td>\n",
       "      <td>End of the Road</td>\n",
       "      <td>/wiki/End_of_the_Road</td>\n",
       "      <td>/wiki/Boyz_II_Men</td>\n",
       "    </tr>\n",
       "    <tr>\n",
       "      <th>1</th>\n",
       "      <td>1993</td>\n",
       "      <td>Whitney Houston</td>\n",
       "      <td>1</td>\n",
       "      <td>I Will Always Love You</td>\n",
       "      <td>/wiki/I_Will_Always_Love_You#Whitney_Houston_v...</td>\n",
       "      <td>/wiki/Whitney_Houston</td>\n",
       "    </tr>\n",
       "    <tr>\n",
       "      <th>2</th>\n",
       "      <td>1994</td>\n",
       "      <td>Ace of Base</td>\n",
       "      <td>1</td>\n",
       "      <td>The Sign (song)</td>\n",
       "      <td>/wiki/The_Sign_(song)</td>\n",
       "      <td>/wiki/Ace_of_Base</td>\n",
       "    </tr>\n",
       "    <tr>\n",
       "      <th>3</th>\n",
       "      <td>1995</td>\n",
       "      <td>Coolio</td>\n",
       "      <td>1</td>\n",
       "      <td>Gangsta's Paradise (song)</td>\n",
       "      <td>/wiki/Gangsta%27s_Paradise_(song)</td>\n",
       "      <td>/wiki/Coolio</td>\n",
       "    </tr>\n",
       "    <tr>\n",
       "      <th>4</th>\n",
       "      <td>1996</td>\n",
       "      <td>Los del Rio</td>\n",
       "      <td>1</td>\n",
       "      <td>Macarena (song)</td>\n",
       "      <td>/wiki/Macarena_(song)</td>\n",
       "      <td>/wiki/Los_del_R%C3%ADo</td>\n",
       "    </tr>\n",
       "    <tr>\n",
       "      <th>5</th>\n",
       "      <td>1997</td>\n",
       "      <td>Elton John</td>\n",
       "      <td>1</td>\n",
       "      <td>Something About the Way You Look Tonight</td>\n",
       "      <td>/wiki/Something_About_the_Way_You_Look_Tonight</td>\n",
       "      <td>/wiki/Elton_John</td>\n",
       "    </tr>\n",
       "    <tr>\n",
       "      <th>6</th>\n",
       "      <td>1998</td>\n",
       "      <td>Next (group)</td>\n",
       "      <td>1</td>\n",
       "      <td>Too Close (Next song)</td>\n",
       "      <td>/wiki/Too_Close_(Next_song)</td>\n",
       "      <td>/wiki/Next_(group)</td>\n",
       "    </tr>\n",
       "    <tr>\n",
       "      <th>7</th>\n",
       "      <td>1999</td>\n",
       "      <td>Cher</td>\n",
       "      <td>1</td>\n",
       "      <td>Believe (Cher song)</td>\n",
       "      <td>/wiki/Believe_(Cher_song)</td>\n",
       "      <td>/wiki/Cher</td>\n",
       "    </tr>\n",
       "  </tbody>\n",
       "</table>\n",
       "</div>"
      ],
      "text/plain": [
       "   year      band_singer  ranking                                      song                                            songurl                     url\n",
       "0  1992      Boyz II Men        1                           End of the Road                              /wiki/End_of_the_Road       /wiki/Boyz_II_Men\n",
       "1  1993  Whitney Houston        1                    I Will Always Love You  /wiki/I_Will_Always_Love_You#Whitney_Houston_v...   /wiki/Whitney_Houston\n",
       "2  1994      Ace of Base        1                           The Sign (song)                              /wiki/The_Sign_(song)       /wiki/Ace_of_Base\n",
       "3  1995           Coolio        1                 Gangsta's Paradise (song)                  /wiki/Gangsta%27s_Paradise_(song)            /wiki/Coolio\n",
       "4  1996      Los del Rio        1                           Macarena (song)                              /wiki/Macarena_(song)  /wiki/Los_del_R%C3%ADo\n",
       "5  1997       Elton John        1  Something About the Way You Look Tonight     /wiki/Something_About_the_Way_You_Look_Tonight        /wiki/Elton_John\n",
       "6  1998     Next (group)        1                     Too Close (Next song)                        /wiki/Too_Close_(Next_song)      /wiki/Next_(group)\n",
       "7  1999             Cher        1                       Believe (Cher song)                          /wiki/Believe_(Cher_song)              /wiki/Cher"
      ]
     },
     "execution_count": 22,
     "metadata": {},
     "output_type": "execute_result"
    }
   ],
   "source": [
    "flatframe = flatframe.rename(columns={'minor':'year'})\n",
    "del flatframe['major']\n",
    "flatframe.head(8)"
   ]
  },
  {
   "cell_type": "markdown",
   "metadata": {},
   "source": [
    "#### Cleaning data: the correct datatypes"
   ]
  },
  {
   "cell_type": "markdown",
   "metadata": {},
   "source": [
    "Now let's check if the DataFrame has the right data types."
   ]
  },
  {
   "cell_type": "code",
   "execution_count": 904,
   "metadata": {
    "collapsed": false,
    "scrolled": true
   },
   "outputs": [
    {
     "data": {
      "text/plain": [
       "year             int64\n",
       "band_singer     object\n",
       "ranking        float64\n",
       "song            object\n",
       "songurl         object\n",
       "url             object\n",
       "newcol         float64\n",
       "dtype: object"
      ]
     },
     "execution_count": 904,
     "metadata": {},
     "output_type": "execute_result"
    }
   ],
   "source": [
    "flatframe.dtypes"
   ]
  },
  {
   "cell_type": "markdown",
   "metadata": {},
   "source": [
    "Pandas treats strings as generic objects, so most fields look right. However, in **1.1** we used the _range_ function to create the years, which means our dictionary should have integer keys, which should in turn become integer values on the DataFrame. What gives (hint: everything looked right until we restored the data from the JSON file)?"
   ]
  },
  {
   "cell_type": "markdown",
   "metadata": {},
   "source": [
    "We should fix that. We use the [astype](http://pandas.pydata.org/pandas-docs/stable/generated/pandas.DataFrame.astype.html) function to transform the data on the _year_ column from string to integer."
   ]
  },
  {
   "cell_type": "code",
   "execution_count": 24,
   "metadata": {
    "collapsed": false,
    "scrolled": true
   },
   "outputs": [
    {
     "data": {
      "text/plain": [
       "year             int64\n",
       "band_singer     object\n",
       "ranking        float64\n",
       "song            object\n",
       "songurl         object\n",
       "url             object\n",
       "dtype: object"
      ]
     },
     "execution_count": 24,
     "metadata": {},
     "output_type": "execute_result"
    }
   ],
   "source": [
    "flatframe.year = flatframe.year.astype(int)\n",
    "flatframe.dtypes"
   ]
  },
  {
   "cell_type": "markdown",
   "metadata": {},
   "source": [
    "## Q2. Scraping and Constructing: Information about Artists, Bands and Genres from Wikipedia"
   ]
  },
  {
   "cell_type": "markdown",
   "metadata": {},
   "source": [
    "Our next job is to use those singer urls and get information about singers and/or bands. Here is an example."
   ]
  },
  {
   "cell_type": "code",
   "execution_count": 25,
   "metadata": {
    "collapsed": false,
    "scrolled": false
   },
   "outputs": [
    {
     "name": "stdout",
     "output_type": "stream",
     "text": [
      "/wiki/Contemporary_R%26B Contemporary R&B\n",
      "/wiki/Hip_hop_music Hip hop music\n",
      "/wiki/Pop_music Pop music\n"
     ]
    }
   ],
   "source": [
    "for th in pq(requests.get(\"http://en.wikipedia.org/wiki/Jason_Derulo\").text)(\".infobox tr th\"):\n",
    "    if pq(th).text() == \"Genres\":\n",
    "        for e in pq(th).nextAll(\"td li a\"):\n",
    "            if pq(e).attr.href.find(\"#cite_note\") == -1:\n",
    "                print pq(e).attr.href, pq(e).attr.title"
   ]
  },
  {
   "cell_type": "markdown",
   "metadata": {},
   "source": [
    "### Scrape information about artists from wikipedia"
   ]
  },
  {
   "cell_type": "markdown",
   "metadata": {},
   "source": [
    "We wish to fetch information about the singers or groups for all the winning songs in a list of years.\n",
    "\n",
    "Here we show a function that fetches information about a singer or group from their url on wikipedia. The function uses a `requests` call.\n",
    "\n",
    "If the request gets an HTTP code different from 200, the cells for that URL will have a value of 1; and if the request completely fails (e.g. no network connection) the cell will have a value of 2. This will allow you to analyse the failed requests.\n",
    "\n",
    "Notice that we have wrapped the call in whats called _an exception block_. We try to make the request. If it fails entirely, or returns a HTTP code thats not 200, we set the status to 2 and 1 respectively.\n",
    "\n",
    "We also create a cache object `urlcache` that will avoid redundant HTTP requests (e.g. an artist might have multiple singles on a single year, or be on the list over a span of years). Remember that this function is designed to be used in a loop over years, and then a loop over songs per year. It stands to reason that prolific singers or bands will show up again and again. Since network requests are relatively slow, if we have already getched a singer or band's wikipedia page, caching the results is a smart thing to do.\n",
    "\n",
    "For those interested in digging deeper into these types of optimization, check out _memoization_ techniques, and the _lru_cache_ function on the _functools_ package."
   ]
  },
  {
   "cell_type": "code",
   "execution_count": 845,
   "metadata": {
    "collapsed": true,
    "scrolled": true
   },
   "outputs": [],
   "source": [
    "# urlcache={}\n"
   ]
  },
  {
   "cell_type": "code",
   "execution_count": 28,
   "metadata": {
    "collapsed": false,
    "scrolled": true
   },
   "outputs": [],
   "source": [
    "def get_page(url):\n",
    "    # Check if URL has already been visited.\n",
    "    if (url not in urlcache) or (urlcache[url]==1) or (urlcache[url]==2):\n",
    "        time.sleep(.1)\n",
    "        # try/except blocks are used whenever the code could generate an exception (e.g. division by zero).\n",
    "        # In this case we don't know if the page really exists, or even if it does, if we'll be able to reach it.\n",
    "        try:\n",
    "            r = requests.get(\"http://en.wikipedia.org%s\" % url)\n",
    "\n",
    "            if r.status_code == 200:\n",
    "                urlcache[url] = r.text\n",
    "            else:\n",
    "                urlcache[url] = 1\n",
    "        except:\n",
    "            urlcache[url] = 2\n",
    "    return urlcache[url]\n"
   ]
  },
  {
   "cell_type": "markdown",
   "metadata": {},
   "source": [
    "We sort the `flatframe` by year, ascending, first. Why? It ensures that we will hit the cache most as singers who show up repeatedly in the rankings will have their information already pulled."
   ]
  },
  {
   "cell_type": "code",
   "execution_count": 847,
   "metadata": {
    "collapsed": false,
    "scrolled": true
   },
   "outputs": [],
   "source": [
    "# flatframe=flatframe.sort('year')"
   ]
  },
  {
   "cell_type": "markdown",
   "metadata": {},
   "source": [
    "#### Pulling and saving the data"
   ]
  },
  {
   "cell_type": "markdown",
   "metadata": {},
   "source": [
    "**Note**: the function below takes a fair bit of time, about 25 minutes, for me."
   ]
  },
  {
   "cell_type": "code",
   "execution_count": 848,
   "metadata": {
    "collapsed": false,
    "scrolled": true
   },
   "outputs": [
    {
     "data": {
      "text/plain": [
       "0       <!DOCTYPE html>\\n<html lang=\"en\" dir=\"ltr\" cla...\n",
       "1842    <!DOCTYPE html>\\n<html lang=\"en\" dir=\"ltr\" cla...\n",
       "1101    <!DOCTYPE html>\\n<html lang=\"en\" dir=\"ltr\" cla...\n",
       "2177    <!DOCTYPE html>\\n<html lang=\"en\" dir=\"ltr\" cla...\n",
       "552     <!DOCTYPE html>\\n<html lang=\"en\" dir=\"ltr\" cla...\n",
       "2154    <!DOCTYPE html>\\n<html lang=\"en\" dir=\"ltr\" cla...\n",
       "2132    <!DOCTYPE html>\\n<html lang=\"en\" dir=\"ltr\" cla...\n",
       "575     <!DOCTYPE html>\\n<html lang=\"en\" dir=\"ltr\" cla...\n",
       "598     <!DOCTYPE html>\\n<html lang=\"en\" dir=\"ltr\" cla...\n",
       "2088    <!DOCTYPE html>\\n<html lang=\"en\" dir=\"ltr\" cla...\n",
       "620     <!DOCTYPE html>\\n<html lang=\"en\" dir=\"ltr\" cla...\n",
       "643     <!DOCTYPE html>\\n<html lang=\"en\" dir=\"ltr\" cla...\n",
       "2043    <!DOCTYPE html>\\n<html lang=\"en\" dir=\"ltr\" cla...\n",
       "666     <!DOCTYPE html>\\n<html lang=\"en\" dir=\"ltr\" cla...\n",
       "1998    <!DOCTYPE html>\\n<html lang=\"en\" dir=\"ltr\" cla...\n",
       "712     <!DOCTYPE html>\\n<html lang=\"en\" dir=\"ltr\" cla...\n",
       "1976    <!DOCTYPE html>\\n<html lang=\"en\" dir=\"ltr\" cla...\n",
       "735     <!DOCTYPE html>\\n<html lang=\"en\" dir=\"ltr\" cla...\n",
       "1954    <!DOCTYPE html>\\n<html lang=\"en\" dir=\"ltr\" cla...\n",
       "758     <!DOCTYPE html>\\n<html lang=\"en\" dir=\"ltr\" cla...\n",
       "529     <!DOCTYPE html>\\n<html lang=\"en\" dir=\"ltr\" cla...\n",
       "2200    <!DOCTYPE html>\\n<html lang=\"en\" dir=\"ltr\" cla...\n",
       "506     <!DOCTYPE html>\\n<html lang=\"en\" dir=\"ltr\" cla...\n",
       "138     <!DOCTYPE html>\\n<html lang=\"en\" dir=\"ltr\" cla...\n",
       "2021    <!DOCTYPE html>\\n<html lang=\"en\" dir=\"ltr\" cla...\n",
       "161     <!DOCTYPE html>\\n<html lang=\"en\" dir=\"ltr\" cla...\n",
       "780     <!DOCTYPE html>\\n<html lang=\"en\" dir=\"ltr\" cla...\n",
       "1932    <!DOCTYPE html>\\n<html lang=\"en\" dir=\"ltr\" cla...\n",
       "2354    <!DOCTYPE html>\\n<html lang=\"en\" dir=\"ltr\" cla...\n",
       "230     <!DOCTYPE html>\\n<html lang=\"en\" dir=\"ltr\" cla...\n",
       "                              ...                        \n",
       "2493    <!DOCTYPE html>\\n<html lang=\"en\" dir=\"ltr\" cla...\n",
       "848     <!DOCTYPE html>\\n<html lang=\"en\" dir=\"ltr\" cla...\n",
       "2855    <!DOCTYPE html>\\n<html lang=\"en\" dir=\"ltr\" cla...\n",
       "1841    <!DOCTYPE html>\\n<html lang=\"en\" dir=\"ltr\" cla...\n",
       "1617    <!DOCTYPE html>\\n<html lang=\"en\" dir=\"ltr\" cla...\n",
       "298     <!DOCTYPE html>\\n<html lang=\"en\" dir=\"ltr\" cla...\n",
       "1953    <!DOCTYPE html>\\n<html lang=\"en\" dir=\"ltr\" cla...\n",
       "1663    <!DOCTYPE html>\\n<html lang=\"en\" dir=\"ltr\" cla...\n",
       "2353    <!DOCTYPE html>\\n<html lang=\"en\" dir=\"ltr\" cla...\n",
       "2262    <!DOCTYPE html>\\n<html lang=\"en\" dir=\"ltr\" cla...\n",
       "1257    <!DOCTYPE html>\\n<html lang=\"en\" dir=\"ltr\" cla...\n",
       "229     <!DOCTYPE html>\\n<html lang=\"en\" dir=\"ltr\" cla...\n",
       "22      <!DOCTYPE html>\\n<html lang=\"en\" dir=\"ltr\" cla...\n",
       "344     <!DOCTYPE html>\\n<html lang=\"en\" dir=\"ltr\" cla...\n",
       "825     <!DOCTYPE html>\\n<html lang=\"en\" dir=\"ltr\" cla...\n",
       "551     <!DOCTYPE html>\\n<html lang=\"en\" dir=\"ltr\" cla...\n",
       "2456    <!DOCTYPE html>\\n<html lang=\"en\" dir=\"ltr\" cla...\n",
       "2511    <!DOCTYPE html>\\n<html lang=\"en\" dir=\"ltr\" cla...\n",
       "91      <!DOCTYPE html>\\n<html lang=\"en\" dir=\"ltr\" cla...\n",
       "1864    <!DOCTYPE html>\\n<html lang=\"en\" dir=\"ltr\" cla...\n",
       "1528    <!DOCTYPE html>\\n<html lang=\"en\" dir=\"ltr\" cla...\n",
       "2820    <!DOCTYPE html>\\n<html lang=\"en\" dir=\"ltr\" cla...\n",
       "2687    <!DOCTYPE html>\\n<html lang=\"en\" dir=\"ltr\" cla...\n",
       "2417    <!DOCTYPE html>\\n<html lang=\"en\" dir=\"ltr\" cla...\n",
       "1168    <!DOCTYPE html>\\n<html lang=\"en\" dir=\"ltr\" cla...\n",
       "1146    <!DOCTYPE html>\\n<html lang=\"en\" dir=\"ltr\" cla...\n",
       "459     <!DOCTYPE html>\\n<html lang=\"en\" dir=\"ltr\" cla...\n",
       "574     <!DOCTYPE html>\\n<html lang=\"en\" dir=\"ltr\" cla...\n",
       "1416    <!DOCTYPE html>\\n<html lang=\"en\" dir=\"ltr\" cla...\n",
       "436     <!DOCTYPE html>\\n<html lang=\"en\" dir=\"ltr\" cla...\n",
       "Name: url, dtype: object"
      ]
     },
     "execution_count": 848,
     "metadata": {},
     "output_type": "execute_result"
    }
   ],
   "source": [
    "# Here we are populating the url cache\n",
    "# subsequent calls to this cell should be very fast, since Python won't\n",
    "# need to fetch the page from the web server.\n",
    "#NOTE this function will take quite some time to run (about 25 mins for me), since we sleep 1 second before\n",
    "#making a request. If you run it again it will be almost instantaneous, save requests that might have failed\n",
    "#(you will need to run it again if requests fail..see cell below for how to test this)\n",
    "# flatframe[\"url\"].apply(get_page)"
   ]
  },
  {
   "cell_type": "markdown",
   "metadata": {},
   "source": [
    "You may have to run this function again and again, incase there were network problems and such. Notice that because there is a \"global\" cache, it will take less time each time you run it. Also note that this function is designed to be run again and again: it just tries to make sure that there are no unresolved pages left. Let us make sure of this: *the sum below should be 0, and the boolean True.*"
   ]
  },
  {
   "cell_type": "code",
   "execution_count": 849,
   "metadata": {
    "collapsed": false,
    "scrolled": true
   },
   "outputs": [
    {
     "name": "stdout",
     "output_type": "stream",
     "text": [
      "0\n",
      "True\n"
     ]
    }
   ],
   "source": [
    "# print np.sum([(urlcache[k]==1) or (urlcache[k]==2) for k in urlcache])# no one or 0's\n",
    "# print len(flatframe.url.unique())==len(urlcache)#we got all of the urls"
   ]
  },
  {
   "cell_type": "markdown",
   "metadata": {},
   "source": [
    "Let's save the `urlcache` to disk and remove the old object."
   ]
  },
  {
   "cell_type": "code",
   "execution_count": 850,
   "metadata": {
    "collapsed": false,
    "scrolled": false
   },
   "outputs": [],
   "source": [
    "# with open(\"tempdata/artistinfo.json\",\"w\") as fd:\n",
    "#     json.dump(urlcache, fd)\n",
    "# del urlcache"
   ]
  },
  {
   "cell_type": "markdown",
   "metadata": {},
   "source": [
    "Now let's reload the dictionary from the JSON file."
   ]
  },
  {
   "cell_type": "code",
   "execution_count": 60,
   "metadata": {
    "collapsed": false,
    "scrolled": true
   },
   "outputs": [],
   "source": [
    "with open(\"tempdata/artistinfo.json\") as json_file:\n",
    "    urlcache = json.load(json_file)"
   ]
  },
  {
   "cell_type": "markdown",
   "metadata": {},
   "source": [
    "#### 2.1 Extract information about singers and bands"
   ]
  },
  {
   "cell_type": "markdown",
   "metadata": {},
   "source": [
    "From each page we collected about a singer or a band, extract the following information:\n",
    "\n",
    "1. The genres that the band or singer works in (sidebar on right). These genres should be urls, this ensures their uniqueness. Create a list of these urls `genres`. If no genres, use `['NA']`.\n",
    "\n",
    "2. If the page has the text \"Born\" in the sidebar on the right, extract the element with the class `.bday`. If no \"Born\", store `False`. Store either of these into the variable `born`. We want to analyze the artist's age.\n",
    "\n",
    "3. If the text \"Years active\" is found, but no \"born\", assume a band. Store into the variable `ya` the value of the next table cell corresponding to this, or `False` if the text is not found.\n",
    "\n",
    "Put this all into a function `singer_band_info` which takes the singer/band url as argument and returns a dictionary `dict(url=url, genres=genres, born=born, ya=ya)`.\n",
    "\n",
    "The information can be found on the sidebar on each such wikipedia page, as the example here shows:\n",
    "\n",
    "![sandg](sandg.png).\n",
    "\n",
    "Once again, we can use the developer tools to divulge the structure of the web page:\n",
    "\n",
    "![diana](dianaross.png)\n",
    "\n"
   ]
  },
  {
   "cell_type": "markdown",
   "metadata": {},
   "source": [
    "Please write the function `singer_band_info` according to the following specification:"
   ]
  },
  {
   "cell_type": "code",
   "execution_count": 1004,
   "metadata": {
    "collapsed": false,
    "scrolled": false
   },
   "outputs": [
    {
     "data": {
      "text/plain": [
       "{'born': '1969-12-04',\n",
       " 'genres': ['/wiki/Hip_hop_music'],\n",
       " 'url': '/wiki/Jay_Z',\n",
       " 'ya': '1993-present'}"
      ]
     },
     "execution_count": 1004,
     "metadata": {},
     "output_type": "execute_result"
    }
   ],
   "source": [
    "\"\"\"\n",
    "Function\n",
    "--------\n",
    "singer_band_info\n",
    "\n",
    "Inputs\n",
    "------\n",
    "url: the url\n",
    "page_text: the text associated with the url\n",
    "   \n",
    "Returns\n",
    "-------\n",
    "A dictionary with the following data:\n",
    "    url: copy the input argument url into this value\n",
    "    genres: the genres that the band or singer works in\n",
    "    born: the artist's birthday\n",
    "    ya: years active variable\n",
    "\n",
    "Notes\n",
    "-----\n",
    "See description above. Also note that some of the genres urls might require a \n",
    "bit of care and special handling.\n",
    "\"\"\"\n",
    "\n",
    "#your code here\n",
    "def singer_band_info(url, page_text):\n",
    "    \n",
    "    #define all dicts and lists for storage and eventual compilation\n",
    "    keys = ['url', 'genres', 'born', 'ya']\n",
    "    song_dictionary = {}\n",
    "    values = []\n",
    "    genres_type1 = []\n",
    "    genres_type2 = []\n",
    "    genre_urls = []\n",
    "    genres_2 = []\n",
    "    birthday_has = False\n",
    "    ya = ''\n",
    "    \n",
    "    #get text\n",
    "    page_text = BeautifulSoup(page_text, 'html.parser')\n",
    "    \n",
    "    #add url to dictionary\n",
    "    values.append(str(url))\n",
    "    \n",
    "    #get all the rows from the table\n",
    "    rows = page_text.find(\"table\", attrs={\"class\": \"infobox\"})\n",
    "    #if no table, say so\n",
    "    if rows == None:\n",
    "        print \"No info!!\"\n",
    "        return song_dictionary\n",
    "    else: rows = rows.find_all(\"tr\")[2:]\n",
    "    \n",
    "    ## find all subfields in table\n",
    "    for tr in rows:\n",
    "        # find birthday, genres, years active\n",
    "        birthday_row = tr.find(\"span\",attrs={\"class\":\"bday\"})\n",
    "        genre_row = tr.find(\"th\",attrs={\"scope\":\"row\"})\n",
    "        ya_row = tr.find(\"th\",attrs={\"scope\":\"row\"})\n",
    "        \n",
    "        ## locate the birthday if it exists (i.e. for a singer, not for a band)\n",
    "        if birthday_row != None:\n",
    "            birthday_has = True\n",
    "            birthday = str(unicodedata.normalize('NFKD',birthday_row.get_text()).encode('ascii','ignore'))\n",
    "            #print birthday\n",
    "            \n",
    "        ## locate and make genre list for each type of genre table\n",
    "        if genre_row != None:\n",
    "            genre_row = genre_row.get_text(\"href\")\n",
    "            if genre_row == \"Genres\" or genre_row == \"Genre\":\n",
    "                genres_type1 = tr.find_all(\"div\",attrs={\"class\":\"hlist\"})\n",
    "                if genres_type1 == []:\n",
    "                    genres_type2 = tr.find_all(\"td\")\n",
    "                    \n",
    "                    #genres are stored in the html in two ways, this accounts for the second way\n",
    "                    for genre_type2 in genres_type2:\n",
    "                        if genre_type2.find(\"a\") == None:\n",
    "                            type2_genre = str(genre_type2.get_text())\n",
    "                        else:\n",
    "                            type2_genre = genre_type2.find(\"a\")\n",
    "                        genres_2.append(type2_genre)\n",
    "        \n",
    "                else: genres_type1 = genres_type1[0].find_all(\"li\")\n",
    "    \n",
    "                \n",
    "        if ya_row != None:\n",
    "            ya_row = str(unicodedata.normalize('NFKD',ya_row.get_text()).encode('ascii','ignore'))\n",
    "            \n",
    "            if ya_row == \"Years active\" or ya_row == \"Yearsactive\":\n",
    "                ya = tr.find(\"td\").get_text()\n",
    "                \n",
    "                ## changing to a string causes problems with how ya is displayed, so we\n",
    "                ## clean that up with unicodedata.normalize, and then have to re-add the hyphen\n",
    "                ya = str(unicodedata.normalize('NFKD',ya).encode('ascii','ignore'))\n",
    "                ya = ya.replace('\\n',\"\").replace('Late',\"\")\n",
    "                if 'Music' in ya:\n",
    "                    ya = ya[:ya.index('Music')+7:]\n",
    "                if 'present' in ya:\n",
    "                    ya = ya[:ya.index('present')+7]\n",
    "                if len(ya) > 4:\n",
    "                    start_year = ya[:4]\n",
    "                    if ya[4] == '[':\n",
    "                        end_year = ya[7:]\n",
    "                    else:\n",
    "                        end_year = ya[4:]\n",
    "                    ya = start_year + '-' + end_year\n",
    "                #ya = ya.replace('Late- ', \"\")\n",
    "            \n",
    "    if genres_type1 != []:           \n",
    "        for genre in genres_type1:\n",
    "            genre_url = genre.find(\"a\")\n",
    "            if genre_url == None:\n",
    "                genre_url = genre.get_text()\n",
    "            else:\n",
    "                genre_url = genre_url.get(\"href\")\n",
    "            genre_urls.append(str(genre_url))\n",
    "    if genres_type2 !=[]: \n",
    "        for genre in genres_2:\n",
    "            if type(genre) == str:\n",
    "                genre_urls.append(genre)\n",
    "            else:\n",
    "                genre_url = genre.get(\"href\")\n",
    "                genre_urls.append(str(genre_url))\n",
    "    if genres_type1 == [] and genres_2 == []:\n",
    "        genre_urls.append('None')\n",
    "                \n",
    "        \n",
    "    if genre_urls == []:\n",
    "        genre_urls.append('NA')\n",
    "    else: \n",
    "        values.append(genre_urls)\n",
    "                \n",
    "    if birthday_has == True:\n",
    "        values.append(str(birthday))\n",
    "    else:\n",
    "        birthday = False\n",
    "        values.append(birthday)\n",
    "    \n",
    "    if ya == '':\n",
    "        pass\n",
    "    else: \n",
    "        values.append(ya)\n",
    "\n",
    "    song_dictionary = dict(zip(keys,values))\n",
    "    #print url, ya\n",
    "    return song_dictionary\n",
    "    \n",
    "        \n",
    "\n",
    "#singer_band_info('/wiki/Ronald_Isley', get_page('/wiki/Ronald_Isley'))\n",
    "singer_band_info('/wiki/Jay_Z', get_page('/wiki/Jay_Z'))\n",
    "#singer_band_info('/wiki/Young_Money', get_page('/wiki/Young_Money'))"
   ]
  },
  {
   "cell_type": "markdown",
   "metadata": {},
   "source": [
    "#### Merging this information in"
   ]
  },
  {
   "cell_type": "markdown",
   "metadata": {},
   "source": [
    "Let's iterate over the items in the singer-group dictionary cache `urlcache`, run the above function, and create a dataframe from there."
   ]
  },
  {
   "cell_type": "code",
   "execution_count": 992,
   "metadata": {
    "collapsed": false,
    "scrolled": true
   },
   "outputs": [
    {
     "name": "stdout",
     "output_type": "stream",
     "text": [
      "No info!!\n",
      "No info!!\n",
      "No info!!\n",
      "No info!!\n",
      "No info!!\n",
      "No info!!\n",
      "No info!!\n",
      "No info!!\n",
      "No info!!\n",
      "No info!!\n",
      "No info!!\n"
     ]
    }
   ],
   "source": [
    "singer_band_info_list=[]\n",
    "for k,v in urlcache.items():\n",
    "    singer_band_info_list.append(singer_band_info(k, v))"
   ]
  },
  {
   "cell_type": "code",
   "execution_count": 895,
   "metadata": {
    "collapsed": false,
    "scrolled": true
   },
   "outputs": [
    {
     "data": {
      "text/html": [
       "<div>\n",
       "<table border=\"1\" class=\"dataframe\">\n",
       "  <thead>\n",
       "    <tr style=\"text-align: right;\">\n",
       "      <th></th>\n",
       "      <th>born</th>\n",
       "      <th>genres</th>\n",
       "      <th>url</th>\n",
       "      <th>ya</th>\n",
       "    </tr>\n",
       "  </thead>\n",
       "  <tbody>\n",
       "    <tr>\n",
       "      <th>0</th>\n",
       "      <td>False</td>\n",
       "      <td>[/wiki/Rock_music, /wiki/Pop_rock, /wiki/Post-...</td>\n",
       "      <td>/wiki/Daughtry_(band)</td>\n",
       "      <td>2006-present</td>\n",
       "    </tr>\n",
       "    <tr>\n",
       "      <th>1</th>\n",
       "      <td>False</td>\n",
       "      <td>[/wiki/Rhythm_and_blues]</td>\n",
       "      <td>/wiki/Ronald_Isley</td>\n",
       "      <td>1954-present</td>\n",
       "    </tr>\n",
       "    <tr>\n",
       "      <th>2</th>\n",
       "      <td>1976-01-28</td>\n",
       "      <td>[/wiki/Hip_hop_music]</td>\n",
       "      <td>/wiki/Rick_Ross_(rapper)</td>\n",
       "      <td>2001-present</td>\n",
       "    </tr>\n",
       "    <tr>\n",
       "      <th>3</th>\n",
       "      <td>1992-11-23</td>\n",
       "      <td>[/wiki/Pop_music]</td>\n",
       "      <td>/wiki/Miley_Cyrus</td>\n",
       "      <td>2006-present</td>\n",
       "    </tr>\n",
       "    <tr>\n",
       "      <th>4</th>\n",
       "      <td>1984-06-30</td>\n",
       "      <td>[/wiki/Contemporary_R%26B]</td>\n",
       "      <td>/wiki/Fantasia_Barrino</td>\n",
       "      <td>2004-present</td>\n",
       "    </tr>\n",
       "  </tbody>\n",
       "</table>\n",
       "</div>"
      ],
      "text/plain": [
       "         born                                             genres                       url            ya\n",
       "0       False  [/wiki/Rock_music, /wiki/Pop_rock, /wiki/Post-...     /wiki/Daughtry_(band)  2006-present\n",
       "1       False                           [/wiki/Rhythm_and_blues]        /wiki/Ronald_Isley  1954-present\n",
       "2  1976-01-28                              [/wiki/Hip_hop_music]  /wiki/Rick_Ross_(rapper)  2001-present\n",
       "3  1992-11-23                                  [/wiki/Pop_music]         /wiki/Miley_Cyrus  2006-present\n",
       "4  1984-06-30                         [/wiki/Contemporary_R%26B]    /wiki/Fantasia_Barrino  2004-present"
      ]
     },
     "execution_count": 895,
     "metadata": {},
     "output_type": "execute_result"
    }
   ],
   "source": [
    "tempdf=pd.DataFrame(singer_band_info_list)\n",
    "tempdf.head()"
   ]
  },
  {
   "cell_type": "markdown",
   "metadata": {},
   "source": [
    "We merge the artist/song data frames into one large dataframe. Note that this has an effect of imputing to a song **all the genres** that the artist is active in. We know that this is not true, but it is the simplest assumption we can make, and is probably good for most artists. (To think: how might you check this?)"
   ]
  },
  {
   "cell_type": "code",
   "execution_count": 896,
   "metadata": {
    "collapsed": false,
    "scrolled": true
   },
   "outputs": [
    {
     "data": {
      "text/html": [
       "<div>\n",
       "<table border=\"1\" class=\"dataframe\">\n",
       "  <thead>\n",
       "    <tr style=\"text-align: right;\">\n",
       "      <th></th>\n",
       "      <th>year</th>\n",
       "      <th>band_singer</th>\n",
       "      <th>ranking</th>\n",
       "      <th>song</th>\n",
       "      <th>songurl</th>\n",
       "      <th>url</th>\n",
       "      <th>newcol</th>\n",
       "      <th>born</th>\n",
       "      <th>genres</th>\n",
       "      <th>ya</th>\n",
       "    </tr>\n",
       "  </thead>\n",
       "  <tbody>\n",
       "    <tr>\n",
       "      <th>0</th>\n",
       "      <td>1992</td>\n",
       "      <td>Boyz II Men</td>\n",
       "      <td>1</td>\n",
       "      <td>End of the Road</td>\n",
       "      <td>/wiki/End_of_the_Road</td>\n",
       "      <td>/wiki/Boyz_II_Men</td>\n",
       "      <td>100</td>\n",
       "      <td>False</td>\n",
       "      <td>[/wiki/Contemporary_R%26B]</td>\n",
       "      <td>1985-present</td>\n",
       "    </tr>\n",
       "    <tr>\n",
       "      <th>1</th>\n",
       "      <td>1994</td>\n",
       "      <td>Boyz II Men</td>\n",
       "      <td>3</td>\n",
       "      <td>I'll Make Love to You</td>\n",
       "      <td>/wiki/I%27ll_Make_Love_to_You</td>\n",
       "      <td>/wiki/Boyz_II_Men</td>\n",
       "      <td>98</td>\n",
       "      <td>False</td>\n",
       "      <td>[/wiki/Contemporary_R%26B]</td>\n",
       "      <td>1985-present</td>\n",
       "    </tr>\n",
       "    <tr>\n",
       "      <th>2</th>\n",
       "      <td>1996</td>\n",
       "      <td>Boyz II Men</td>\n",
       "      <td>2</td>\n",
       "      <td>One Sweet Day</td>\n",
       "      <td>/wiki/One_Sweet_Day</td>\n",
       "      <td>/wiki/Boyz_II_Men</td>\n",
       "      <td>99</td>\n",
       "      <td>False</td>\n",
       "      <td>[/wiki/Contemporary_R%26B]</td>\n",
       "      <td>1985-present</td>\n",
       "    </tr>\n",
       "    <tr>\n",
       "      <th>3</th>\n",
       "      <td>1995</td>\n",
       "      <td>Boyz II Men</td>\n",
       "      <td>5</td>\n",
       "      <td>On Bended Knee</td>\n",
       "      <td>/wiki/On_Bended_Knee</td>\n",
       "      <td>/wiki/Boyz_II_Men</td>\n",
       "      <td>96</td>\n",
       "      <td>False</td>\n",
       "      <td>[/wiki/Contemporary_R%26B]</td>\n",
       "      <td>1985-present</td>\n",
       "    </tr>\n",
       "    <tr>\n",
       "      <th>4</th>\n",
       "      <td>1993</td>\n",
       "      <td>Boyz II Men</td>\n",
       "      <td>12</td>\n",
       "      <td>In the Still of the Night (1956 song)</td>\n",
       "      <td>/wiki/In_the_Still_of_the_Night_(1956_song)#Bo...</td>\n",
       "      <td>/wiki/Boyz_II_Men</td>\n",
       "      <td>89</td>\n",
       "      <td>False</td>\n",
       "      <td>[/wiki/Contemporary_R%26B]</td>\n",
       "      <td>1985-present</td>\n",
       "    </tr>\n",
       "  </tbody>\n",
       "</table>\n",
       "</div>"
      ],
      "text/plain": [
       "   year  band_singer  ranking                                   song                                            songurl                url  newcol   born                      genres            ya\n",
       "0  1992  Boyz II Men        1                        End of the Road                              /wiki/End_of_the_Road  /wiki/Boyz_II_Men     100  False  [/wiki/Contemporary_R%26B]  1985-present\n",
       "1  1994  Boyz II Men        3                  I'll Make Love to You                      /wiki/I%27ll_Make_Love_to_You  /wiki/Boyz_II_Men      98  False  [/wiki/Contemporary_R%26B]  1985-present\n",
       "2  1996  Boyz II Men        2                          One Sweet Day                                /wiki/One_Sweet_Day  /wiki/Boyz_II_Men      99  False  [/wiki/Contemporary_R%26B]  1985-present\n",
       "3  1995  Boyz II Men        5                         On Bended Knee                               /wiki/On_Bended_Knee  /wiki/Boyz_II_Men      96  False  [/wiki/Contemporary_R%26B]  1985-present\n",
       "4  1993  Boyz II Men       12  In the Still of the Night (1956 song)  /wiki/In_the_Still_of_the_Night_(1956_song)#Bo...  /wiki/Boyz_II_Men      89  False  [/wiki/Contemporary_R%26B]  1985-present"
      ]
     },
     "execution_count": 896,
     "metadata": {},
     "output_type": "execute_result"
    }
   ],
   "source": [
    "largedf=flatframe.merge(tempdf, on=\"url\")\n",
    "largedf.head()"
   ]
  },
  {
   "cell_type": "markdown",
   "metadata": {},
   "source": [
    "#### 2.2 Split out the genres"
   ]
  },
  {
   "cell_type": "markdown",
   "metadata": {},
   "source": [
    "Update the dataframe by adding a column for each genre with true-false encoding for each row. This means, we want columns like \"/wiki/Acid_house\", \"/wiki/Acid_jazz\", where if an artist is in that genre, the dataframe cell has a python boolean, `True`. Otherwise, it has a `False`.\n",
    "\n",
    "Remember that an artist/band can be in multiple genres, and must have a \"True\" for each column corresponding to these genres, and false otherwise.\n",
    "\n",
    "This will widen the dataframe by the total number of genres that we have. The expanded part will look a bit like this:\n",
    "\n",
    "![expansion](expandingframe.png)\n",
    "\n",
    "HINT: for example code see http://nbviewer.ipython.org/github/cs109/content/blob/master/lec_04_wrangling.ipynb, a notebook which lays out a very nice rubric for data analysis."
   ]
  },
  {
   "cell_type": "code",
   "execution_count": 759,
   "metadata": {
    "collapsed": false
   },
   "outputs": [
    {
     "data": {
      "text/html": [
       "<div>\n",
       "<table border=\"1\" class=\"dataframe\">\n",
       "  <thead>\n",
       "    <tr style=\"text-align: right;\">\n",
       "      <th></th>\n",
       "      <th>year</th>\n",
       "      <th>band_singer</th>\n",
       "      <th>ranking</th>\n",
       "      <th>song</th>\n",
       "      <th>songurl</th>\n",
       "      <th>url</th>\n",
       "      <th>newcol</th>\n",
       "      <th>born</th>\n",
       "      <th>genres</th>\n",
       "      <th>ya</th>\n",
       "    </tr>\n",
       "  </thead>\n",
       "  <tbody>\n",
       "    <tr>\n",
       "      <th>0</th>\n",
       "      <td>1992</td>\n",
       "      <td>Boyz II Men</td>\n",
       "      <td>1</td>\n",
       "      <td>End of the Road</td>\n",
       "      <td>/wiki/End_of_the_Road</td>\n",
       "      <td>/wiki/Boyz_II_Men</td>\n",
       "      <td>100</td>\n",
       "      <td>False</td>\n",
       "      <td>[/wiki/Contemporary_R%26B]</td>\n",
       "      <td>1985present</td>\n",
       "    </tr>\n",
       "    <tr>\n",
       "      <th>1</th>\n",
       "      <td>1994</td>\n",
       "      <td>Boyz II Men</td>\n",
       "      <td>3</td>\n",
       "      <td>I'll Make Love to You</td>\n",
       "      <td>/wiki/I%27ll_Make_Love_to_You</td>\n",
       "      <td>/wiki/Boyz_II_Men</td>\n",
       "      <td>98</td>\n",
       "      <td>False</td>\n",
       "      <td>[/wiki/Contemporary_R%26B]</td>\n",
       "      <td>1985present</td>\n",
       "    </tr>\n",
       "    <tr>\n",
       "      <th>2</th>\n",
       "      <td>1996</td>\n",
       "      <td>Boyz II Men</td>\n",
       "      <td>2</td>\n",
       "      <td>One Sweet Day</td>\n",
       "      <td>/wiki/One_Sweet_Day</td>\n",
       "      <td>/wiki/Boyz_II_Men</td>\n",
       "      <td>99</td>\n",
       "      <td>False</td>\n",
       "      <td>[/wiki/Contemporary_R%26B]</td>\n",
       "      <td>1985present</td>\n",
       "    </tr>\n",
       "    <tr>\n",
       "      <th>3</th>\n",
       "      <td>1995</td>\n",
       "      <td>Boyz II Men</td>\n",
       "      <td>5</td>\n",
       "      <td>On Bended Knee</td>\n",
       "      <td>/wiki/On_Bended_Knee</td>\n",
       "      <td>/wiki/Boyz_II_Men</td>\n",
       "      <td>96</td>\n",
       "      <td>False</td>\n",
       "      <td>[/wiki/Contemporary_R%26B]</td>\n",
       "      <td>1985present</td>\n",
       "    </tr>\n",
       "    <tr>\n",
       "      <th>4</th>\n",
       "      <td>1993</td>\n",
       "      <td>Boyz II Men</td>\n",
       "      <td>12</td>\n",
       "      <td>In the Still of the Night (1956 song)</td>\n",
       "      <td>/wiki/In_the_Still_of_the_Night_(1956_song)#Bo...</td>\n",
       "      <td>/wiki/Boyz_II_Men</td>\n",
       "      <td>89</td>\n",
       "      <td>False</td>\n",
       "      <td>[/wiki/Contemporary_R%26B]</td>\n",
       "      <td>1985present</td>\n",
       "    </tr>\n",
       "  </tbody>\n",
       "</table>\n",
       "</div>"
      ],
      "text/plain": [
       "   year  band_singer  ranking                                   song                                            songurl                url  newcol   born                      genres           ya\n",
       "0  1992  Boyz II Men        1                        End of the Road                              /wiki/End_of_the_Road  /wiki/Boyz_II_Men     100  False  [/wiki/Contemporary_R%26B]  1985present\n",
       "1  1994  Boyz II Men        3                  I'll Make Love to You                      /wiki/I%27ll_Make_Love_to_You  /wiki/Boyz_II_Men      98  False  [/wiki/Contemporary_R%26B]  1985present\n",
       "2  1996  Boyz II Men        2                          One Sweet Day                                /wiki/One_Sweet_Day  /wiki/Boyz_II_Men      99  False  [/wiki/Contemporary_R%26B]  1985present\n",
       "3  1995  Boyz II Men        5                         On Bended Knee                               /wiki/On_Bended_Knee  /wiki/Boyz_II_Men      96  False  [/wiki/Contemporary_R%26B]  1985present\n",
       "4  1993  Boyz II Men       12  In the Still of the Night (1956 song)  /wiki/In_the_Still_of_the_Night_(1956_song)#Bo...  /wiki/Boyz_II_Men      89  False  [/wiki/Contemporary_R%26B]  1985present"
      ]
     },
     "execution_count": 759,
     "metadata": {},
     "output_type": "execute_result"
    }
   ],
   "source": [
    "largedf.head()"
   ]
  },
  {
   "cell_type": "code",
   "execution_count": 897,
   "metadata": {
    "collapsed": false
   },
   "outputs": [
    {
     "data": {
      "text/plain": [
       "['/wiki/Contemporary_R%26B']"
      ]
     },
     "execution_count": 897,
     "metadata": {},
     "output_type": "execute_result"
    }
   ],
   "source": [
    "[e for e in largedf.genres[0]]"
   ]
  },
  {
   "cell_type": "code",
   "execution_count": 898,
   "metadata": {
    "collapsed": false,
    "scrolled": false
   },
   "outputs": [
    {
     "data": {
      "text/html": [
       "<div>\n",
       "<table border=\"1\" class=\"dataframe\">\n",
       "  <thead>\n",
       "    <tr style=\"text-align: right;\">\n",
       "      <th></th>\n",
       "      <th>year</th>\n",
       "      <th>band_singer</th>\n",
       "      <th>ranking</th>\n",
       "      <th>song</th>\n",
       "      <th>songurl</th>\n",
       "      <th>url</th>\n",
       "      <th>newcol</th>\n",
       "      <th>born</th>\n",
       "      <th>genres</th>\n",
       "      <th>ya</th>\n",
       "      <th>/wiki/Acid_jazz</th>\n",
       "      <th>/wiki/Acoustic_music</th>\n",
       "      <th>/wiki/Adult_contemporary</th>\n",
       "      <th>/wiki/Adult_contemporary_music</th>\n",
       "      <th>/wiki/Afrobeat</th>\n",
       "      <th>/wiki/Alternative_R%26B</th>\n",
       "      <th>/wiki/Alternative_country</th>\n",
       "      <th>/wiki/Alternative_dance</th>\n",
       "      <th>/wiki/Alternative_dance#Indietronica</th>\n",
       "      <th>/wiki/Alternative_hip_hop</th>\n",
       "      <th>/wiki/Alternative_metal</th>\n",
       "      <th>/wiki/Alternative_pop</th>\n",
       "      <th>/wiki/Alternative_rock</th>\n",
       "      <th>/wiki/Ambient_music</th>\n",
       "      <th>/wiki/Anarcho-punk</th>\n",
       "      <th>/wiki/Anti-folk</th>\n",
       "      <th>/wiki/Art_pop</th>\n",
       "      <th>/wiki/Art_rock</th>\n",
       "      <th>/wiki/Baroque_pop</th>\n",
       "      <th>/wiki/Bass_music</th>\n",
       "      <th>/wiki/Battle_rap</th>\n",
       "      <th>/wiki/Bhangra_(music)</th>\n",
       "      <th>/wiki/Big_band</th>\n",
       "      <th>/wiki/Big_room_house</th>\n",
       "      <th>/wiki/Blue-eyed_soul</th>\n",
       "      <th>/wiki/Bluegrass_music</th>\n",
       "      <th>/wiki/Blues</th>\n",
       "      <th>/wiki/Blues_rock</th>\n",
       "      <th>/wiki/Breakbeat</th>\n",
       "      <th>/wiki/British_hip_hop</th>\n",
       "      <th>/wiki/Britpop</th>\n",
       "      <th>/wiki/Bro-country</th>\n",
       "      <th>/wiki/Broadway_theatre</th>\n",
       "      <th>/wiki/Brown-eyed_soul</th>\n",
       "      <th>/wiki/Bubblegum_pop</th>\n",
       "      <th>/wiki/CEDM</th>\n",
       "      <th>/wiki/Cajun_music</th>\n",
       "      <th>/wiki/Celtic_music</th>\n",
       "      <th>/wiki/Chicano_rock</th>\n",
       "      <th>/wiki/Classical</th>\n",
       "      <th>...</th>\n",
       "      <th>/wiki/Reggae</th>\n",
       "      <th>/wiki/Reggae_fusion</th>\n",
       "      <th>/wiki/Reggae_rock</th>\n",
       "      <th>/wiki/Reggaeton</th>\n",
       "      <th>/wiki/Rhythm_and_blues</th>\n",
       "      <th>/wiki/Rock_and_roll</th>\n",
       "      <th>/wiki/Rock_en_Espa%C3%B1ol</th>\n",
       "      <th>/wiki/Rock_music</th>\n",
       "      <th>/wiki/Roots_rock</th>\n",
       "      <th>/wiki/Salsa_music</th>\n",
       "      <th>/wiki/Shoegazing</th>\n",
       "      <th>/wiki/Ska</th>\n",
       "      <th>/wiki/Ska_punk</th>\n",
       "      <th>/wiki/Skate_punk</th>\n",
       "      <th>/wiki/Smooth_jazz</th>\n",
       "      <th>/wiki/Soca_music</th>\n",
       "      <th>/wiki/Soft_rock</th>\n",
       "      <th>/wiki/Sophisti-pop</th>\n",
       "      <th>/wiki/Soul_music</th>\n",
       "      <th>/wiki/Southern_hip_hop</th>\n",
       "      <th>/wiki/Southern_rock</th>\n",
       "      <th>/wiki/Space_rock</th>\n",
       "      <th>/wiki/Spoken_word</th>\n",
       "      <th>/wiki/Synthpop</th>\n",
       "      <th>/wiki/Tech_house</th>\n",
       "      <th>/wiki/Techno</th>\n",
       "      <th>/wiki/Teen_pop</th>\n",
       "      <th>/wiki/Thrash_metal</th>\n",
       "      <th>/wiki/Traditional_pop_music</th>\n",
       "      <th>/wiki/Trap_music</th>\n",
       "      <th>/wiki/Trip_hop</th>\n",
       "      <th>/wiki/UK_funky</th>\n",
       "      <th>/wiki/UK_garage</th>\n",
       "      <th>/wiki/Underground_hip_hop</th>\n",
       "      <th>/wiki/Urban_adult_contemporary</th>\n",
       "      <th>/wiki/Urban_contemporary</th>\n",
       "      <th>/wiki/Urban_contemporary_gospel</th>\n",
       "      <th>/wiki/West_Coast_Rap</th>\n",
       "      <th>/wiki/West_Coast_hip_hop</th>\n",
       "      <th>/wiki/West_coast_hip_hop</th>\n",
       "      <th>/wiki/Witch_house_(music_genre)</th>\n",
       "      <th>/wiki/World_music</th>\n",
       "      <th>/wiki/Worldbeat</th>\n",
       "      <th>Broadway</th>\n",
       "      <th>None</th>\n",
       "      <th>Pop</th>\n",
       "      <th>Pop, R&amp;B, Adult Contemporary, Soul, Urban, Gospel</th>\n",
       "      <th>Pop, hip hop</th>\n",
       "      <th>Various</th>\n",
       "      <th>rock</th>\n",
       "    </tr>\n",
       "  </thead>\n",
       "  <tbody>\n",
       "    <tr>\n",
       "      <th>0</th>\n",
       "      <td>1992</td>\n",
       "      <td>Boyz II Men</td>\n",
       "      <td>1</td>\n",
       "      <td>End of the Road</td>\n",
       "      <td>/wiki/End_of_the_Road</td>\n",
       "      <td>/wiki/Boyz_II_Men</td>\n",
       "      <td>100</td>\n",
       "      <td>False</td>\n",
       "      <td>[/wiki/Contemporary_R%26B]</td>\n",
       "      <td>1985-present</td>\n",
       "      <td>False</td>\n",
       "      <td>False</td>\n",
       "      <td>False</td>\n",
       "      <td>False</td>\n",
       "      <td>False</td>\n",
       "      <td>False</td>\n",
       "      <td>False</td>\n",
       "      <td>False</td>\n",
       "      <td>False</td>\n",
       "      <td>False</td>\n",
       "      <td>False</td>\n",
       "      <td>False</td>\n",
       "      <td>False</td>\n",
       "      <td>False</td>\n",
       "      <td>False</td>\n",
       "      <td>False</td>\n",
       "      <td>False</td>\n",
       "      <td>False</td>\n",
       "      <td>False</td>\n",
       "      <td>False</td>\n",
       "      <td>False</td>\n",
       "      <td>False</td>\n",
       "      <td>False</td>\n",
       "      <td>False</td>\n",
       "      <td>False</td>\n",
       "      <td>False</td>\n",
       "      <td>False</td>\n",
       "      <td>False</td>\n",
       "      <td>False</td>\n",
       "      <td>False</td>\n",
       "      <td>False</td>\n",
       "      <td>False</td>\n",
       "      <td>False</td>\n",
       "      <td>False</td>\n",
       "      <td>False</td>\n",
       "      <td>False</td>\n",
       "      <td>False</td>\n",
       "      <td>False</td>\n",
       "      <td>False</td>\n",
       "      <td>False</td>\n",
       "      <td>...</td>\n",
       "      <td>False</td>\n",
       "      <td>False</td>\n",
       "      <td>False</td>\n",
       "      <td>False</td>\n",
       "      <td>False</td>\n",
       "      <td>False</td>\n",
       "      <td>False</td>\n",
       "      <td>False</td>\n",
       "      <td>False</td>\n",
       "      <td>False</td>\n",
       "      <td>False</td>\n",
       "      <td>False</td>\n",
       "      <td>False</td>\n",
       "      <td>False</td>\n",
       "      <td>False</td>\n",
       "      <td>False</td>\n",
       "      <td>False</td>\n",
       "      <td>False</td>\n",
       "      <td>False</td>\n",
       "      <td>False</td>\n",
       "      <td>False</td>\n",
       "      <td>False</td>\n",
       "      <td>False</td>\n",
       "      <td>False</td>\n",
       "      <td>False</td>\n",
       "      <td>False</td>\n",
       "      <td>False</td>\n",
       "      <td>False</td>\n",
       "      <td>False</td>\n",
       "      <td>False</td>\n",
       "      <td>False</td>\n",
       "      <td>False</td>\n",
       "      <td>False</td>\n",
       "      <td>False</td>\n",
       "      <td>False</td>\n",
       "      <td>False</td>\n",
       "      <td>False</td>\n",
       "      <td>False</td>\n",
       "      <td>False</td>\n",
       "      <td>False</td>\n",
       "      <td>False</td>\n",
       "      <td>False</td>\n",
       "      <td>False</td>\n",
       "      <td>False</td>\n",
       "      <td>False</td>\n",
       "      <td>False</td>\n",
       "      <td>False</td>\n",
       "      <td>False</td>\n",
       "      <td>False</td>\n",
       "      <td>False</td>\n",
       "    </tr>\n",
       "    <tr>\n",
       "      <th>1</th>\n",
       "      <td>1994</td>\n",
       "      <td>Boyz II Men</td>\n",
       "      <td>3</td>\n",
       "      <td>I'll Make Love to You</td>\n",
       "      <td>/wiki/I%27ll_Make_Love_to_You</td>\n",
       "      <td>/wiki/Boyz_II_Men</td>\n",
       "      <td>98</td>\n",
       "      <td>False</td>\n",
       "      <td>[/wiki/Contemporary_R%26B]</td>\n",
       "      <td>1985-present</td>\n",
       "      <td>False</td>\n",
       "      <td>False</td>\n",
       "      <td>False</td>\n",
       "      <td>False</td>\n",
       "      <td>False</td>\n",
       "      <td>False</td>\n",
       "      <td>False</td>\n",
       "      <td>False</td>\n",
       "      <td>False</td>\n",
       "      <td>False</td>\n",
       "      <td>False</td>\n",
       "      <td>False</td>\n",
       "      <td>False</td>\n",
       "      <td>False</td>\n",
       "      <td>False</td>\n",
       "      <td>False</td>\n",
       "      <td>False</td>\n",
       "      <td>False</td>\n",
       "      <td>False</td>\n",
       "      <td>False</td>\n",
       "      <td>False</td>\n",
       "      <td>False</td>\n",
       "      <td>False</td>\n",
       "      <td>False</td>\n",
       "      <td>False</td>\n",
       "      <td>False</td>\n",
       "      <td>False</td>\n",
       "      <td>False</td>\n",
       "      <td>False</td>\n",
       "      <td>False</td>\n",
       "      <td>False</td>\n",
       "      <td>False</td>\n",
       "      <td>False</td>\n",
       "      <td>False</td>\n",
       "      <td>False</td>\n",
       "      <td>False</td>\n",
       "      <td>False</td>\n",
       "      <td>False</td>\n",
       "      <td>False</td>\n",
       "      <td>False</td>\n",
       "      <td>...</td>\n",
       "      <td>False</td>\n",
       "      <td>False</td>\n",
       "      <td>False</td>\n",
       "      <td>False</td>\n",
       "      <td>False</td>\n",
       "      <td>False</td>\n",
       "      <td>False</td>\n",
       "      <td>False</td>\n",
       "      <td>False</td>\n",
       "      <td>False</td>\n",
       "      <td>False</td>\n",
       "      <td>False</td>\n",
       "      <td>False</td>\n",
       "      <td>False</td>\n",
       "      <td>False</td>\n",
       "      <td>False</td>\n",
       "      <td>False</td>\n",
       "      <td>False</td>\n",
       "      <td>False</td>\n",
       "      <td>False</td>\n",
       "      <td>False</td>\n",
       "      <td>False</td>\n",
       "      <td>False</td>\n",
       "      <td>False</td>\n",
       "      <td>False</td>\n",
       "      <td>False</td>\n",
       "      <td>False</td>\n",
       "      <td>False</td>\n",
       "      <td>False</td>\n",
       "      <td>False</td>\n",
       "      <td>False</td>\n",
       "      <td>False</td>\n",
       "      <td>False</td>\n",
       "      <td>False</td>\n",
       "      <td>False</td>\n",
       "      <td>False</td>\n",
       "      <td>False</td>\n",
       "      <td>False</td>\n",
       "      <td>False</td>\n",
       "      <td>False</td>\n",
       "      <td>False</td>\n",
       "      <td>False</td>\n",
       "      <td>False</td>\n",
       "      <td>False</td>\n",
       "      <td>False</td>\n",
       "      <td>False</td>\n",
       "      <td>False</td>\n",
       "      <td>False</td>\n",
       "      <td>False</td>\n",
       "      <td>False</td>\n",
       "    </tr>\n",
       "    <tr>\n",
       "      <th>2</th>\n",
       "      <td>1996</td>\n",
       "      <td>Boyz II Men</td>\n",
       "      <td>2</td>\n",
       "      <td>One Sweet Day</td>\n",
       "      <td>/wiki/One_Sweet_Day</td>\n",
       "      <td>/wiki/Boyz_II_Men</td>\n",
       "      <td>99</td>\n",
       "      <td>False</td>\n",
       "      <td>[/wiki/Contemporary_R%26B]</td>\n",
       "      <td>1985-present</td>\n",
       "      <td>False</td>\n",
       "      <td>False</td>\n",
       "      <td>False</td>\n",
       "      <td>False</td>\n",
       "      <td>False</td>\n",
       "      <td>False</td>\n",
       "      <td>False</td>\n",
       "      <td>False</td>\n",
       "      <td>False</td>\n",
       "      <td>False</td>\n",
       "      <td>False</td>\n",
       "      <td>False</td>\n",
       "      <td>False</td>\n",
       "      <td>False</td>\n",
       "      <td>False</td>\n",
       "      <td>False</td>\n",
       "      <td>False</td>\n",
       "      <td>False</td>\n",
       "      <td>False</td>\n",
       "      <td>False</td>\n",
       "      <td>False</td>\n",
       "      <td>False</td>\n",
       "      <td>False</td>\n",
       "      <td>False</td>\n",
       "      <td>False</td>\n",
       "      <td>False</td>\n",
       "      <td>False</td>\n",
       "      <td>False</td>\n",
       "      <td>False</td>\n",
       "      <td>False</td>\n",
       "      <td>False</td>\n",
       "      <td>False</td>\n",
       "      <td>False</td>\n",
       "      <td>False</td>\n",
       "      <td>False</td>\n",
       "      <td>False</td>\n",
       "      <td>False</td>\n",
       "      <td>False</td>\n",
       "      <td>False</td>\n",
       "      <td>False</td>\n",
       "      <td>...</td>\n",
       "      <td>False</td>\n",
       "      <td>False</td>\n",
       "      <td>False</td>\n",
       "      <td>False</td>\n",
       "      <td>False</td>\n",
       "      <td>False</td>\n",
       "      <td>False</td>\n",
       "      <td>False</td>\n",
       "      <td>False</td>\n",
       "      <td>False</td>\n",
       "      <td>False</td>\n",
       "      <td>False</td>\n",
       "      <td>False</td>\n",
       "      <td>False</td>\n",
       "      <td>False</td>\n",
       "      <td>False</td>\n",
       "      <td>False</td>\n",
       "      <td>False</td>\n",
       "      <td>False</td>\n",
       "      <td>False</td>\n",
       "      <td>False</td>\n",
       "      <td>False</td>\n",
       "      <td>False</td>\n",
       "      <td>False</td>\n",
       "      <td>False</td>\n",
       "      <td>False</td>\n",
       "      <td>False</td>\n",
       "      <td>False</td>\n",
       "      <td>False</td>\n",
       "      <td>False</td>\n",
       "      <td>False</td>\n",
       "      <td>False</td>\n",
       "      <td>False</td>\n",
       "      <td>False</td>\n",
       "      <td>False</td>\n",
       "      <td>False</td>\n",
       "      <td>False</td>\n",
       "      <td>False</td>\n",
       "      <td>False</td>\n",
       "      <td>False</td>\n",
       "      <td>False</td>\n",
       "      <td>False</td>\n",
       "      <td>False</td>\n",
       "      <td>False</td>\n",
       "      <td>False</td>\n",
       "      <td>False</td>\n",
       "      <td>False</td>\n",
       "      <td>False</td>\n",
       "      <td>False</td>\n",
       "      <td>False</td>\n",
       "    </tr>\n",
       "    <tr>\n",
       "      <th>3</th>\n",
       "      <td>1995</td>\n",
       "      <td>Boyz II Men</td>\n",
       "      <td>5</td>\n",
       "      <td>On Bended Knee</td>\n",
       "      <td>/wiki/On_Bended_Knee</td>\n",
       "      <td>/wiki/Boyz_II_Men</td>\n",
       "      <td>96</td>\n",
       "      <td>False</td>\n",
       "      <td>[/wiki/Contemporary_R%26B]</td>\n",
       "      <td>1985-present</td>\n",
       "      <td>False</td>\n",
       "      <td>False</td>\n",
       "      <td>False</td>\n",
       "      <td>False</td>\n",
       "      <td>False</td>\n",
       "      <td>False</td>\n",
       "      <td>False</td>\n",
       "      <td>False</td>\n",
       "      <td>False</td>\n",
       "      <td>False</td>\n",
       "      <td>False</td>\n",
       "      <td>False</td>\n",
       "      <td>False</td>\n",
       "      <td>False</td>\n",
       "      <td>False</td>\n",
       "      <td>False</td>\n",
       "      <td>False</td>\n",
       "      <td>False</td>\n",
       "      <td>False</td>\n",
       "      <td>False</td>\n",
       "      <td>False</td>\n",
       "      <td>False</td>\n",
       "      <td>False</td>\n",
       "      <td>False</td>\n",
       "      <td>False</td>\n",
       "      <td>False</td>\n",
       "      <td>False</td>\n",
       "      <td>False</td>\n",
       "      <td>False</td>\n",
       "      <td>False</td>\n",
       "      <td>False</td>\n",
       "      <td>False</td>\n",
       "      <td>False</td>\n",
       "      <td>False</td>\n",
       "      <td>False</td>\n",
       "      <td>False</td>\n",
       "      <td>False</td>\n",
       "      <td>False</td>\n",
       "      <td>False</td>\n",
       "      <td>False</td>\n",
       "      <td>...</td>\n",
       "      <td>False</td>\n",
       "      <td>False</td>\n",
       "      <td>False</td>\n",
       "      <td>False</td>\n",
       "      <td>False</td>\n",
       "      <td>False</td>\n",
       "      <td>False</td>\n",
       "      <td>False</td>\n",
       "      <td>False</td>\n",
       "      <td>False</td>\n",
       "      <td>False</td>\n",
       "      <td>False</td>\n",
       "      <td>False</td>\n",
       "      <td>False</td>\n",
       "      <td>False</td>\n",
       "      <td>False</td>\n",
       "      <td>False</td>\n",
       "      <td>False</td>\n",
       "      <td>False</td>\n",
       "      <td>False</td>\n",
       "      <td>False</td>\n",
       "      <td>False</td>\n",
       "      <td>False</td>\n",
       "      <td>False</td>\n",
       "      <td>False</td>\n",
       "      <td>False</td>\n",
       "      <td>False</td>\n",
       "      <td>False</td>\n",
       "      <td>False</td>\n",
       "      <td>False</td>\n",
       "      <td>False</td>\n",
       "      <td>False</td>\n",
       "      <td>False</td>\n",
       "      <td>False</td>\n",
       "      <td>False</td>\n",
       "      <td>False</td>\n",
       "      <td>False</td>\n",
       "      <td>False</td>\n",
       "      <td>False</td>\n",
       "      <td>False</td>\n",
       "      <td>False</td>\n",
       "      <td>False</td>\n",
       "      <td>False</td>\n",
       "      <td>False</td>\n",
       "      <td>False</td>\n",
       "      <td>False</td>\n",
       "      <td>False</td>\n",
       "      <td>False</td>\n",
       "      <td>False</td>\n",
       "      <td>False</td>\n",
       "    </tr>\n",
       "    <tr>\n",
       "      <th>4</th>\n",
       "      <td>1993</td>\n",
       "      <td>Boyz II Men</td>\n",
       "      <td>12</td>\n",
       "      <td>In the Still of the Night (1956 song)</td>\n",
       "      <td>/wiki/In_the_Still_of_the_Night_(1956_song)#Bo...</td>\n",
       "      <td>/wiki/Boyz_II_Men</td>\n",
       "      <td>89</td>\n",
       "      <td>False</td>\n",
       "      <td>[/wiki/Contemporary_R%26B]</td>\n",
       "      <td>1985-present</td>\n",
       "      <td>False</td>\n",
       "      <td>False</td>\n",
       "      <td>False</td>\n",
       "      <td>False</td>\n",
       "      <td>False</td>\n",
       "      <td>False</td>\n",
       "      <td>False</td>\n",
       "      <td>False</td>\n",
       "      <td>False</td>\n",
       "      <td>False</td>\n",
       "      <td>False</td>\n",
       "      <td>False</td>\n",
       "      <td>False</td>\n",
       "      <td>False</td>\n",
       "      <td>False</td>\n",
       "      <td>False</td>\n",
       "      <td>False</td>\n",
       "      <td>False</td>\n",
       "      <td>False</td>\n",
       "      <td>False</td>\n",
       "      <td>False</td>\n",
       "      <td>False</td>\n",
       "      <td>False</td>\n",
       "      <td>False</td>\n",
       "      <td>False</td>\n",
       "      <td>False</td>\n",
       "      <td>False</td>\n",
       "      <td>False</td>\n",
       "      <td>False</td>\n",
       "      <td>False</td>\n",
       "      <td>False</td>\n",
       "      <td>False</td>\n",
       "      <td>False</td>\n",
       "      <td>False</td>\n",
       "      <td>False</td>\n",
       "      <td>False</td>\n",
       "      <td>False</td>\n",
       "      <td>False</td>\n",
       "      <td>False</td>\n",
       "      <td>False</td>\n",
       "      <td>...</td>\n",
       "      <td>False</td>\n",
       "      <td>False</td>\n",
       "      <td>False</td>\n",
       "      <td>False</td>\n",
       "      <td>False</td>\n",
       "      <td>False</td>\n",
       "      <td>False</td>\n",
       "      <td>False</td>\n",
       "      <td>False</td>\n",
       "      <td>False</td>\n",
       "      <td>False</td>\n",
       "      <td>False</td>\n",
       "      <td>False</td>\n",
       "      <td>False</td>\n",
       "      <td>False</td>\n",
       "      <td>False</td>\n",
       "      <td>False</td>\n",
       "      <td>False</td>\n",
       "      <td>False</td>\n",
       "      <td>False</td>\n",
       "      <td>False</td>\n",
       "      <td>False</td>\n",
       "      <td>False</td>\n",
       "      <td>False</td>\n",
       "      <td>False</td>\n",
       "      <td>False</td>\n",
       "      <td>False</td>\n",
       "      <td>False</td>\n",
       "      <td>False</td>\n",
       "      <td>False</td>\n",
       "      <td>False</td>\n",
       "      <td>False</td>\n",
       "      <td>False</td>\n",
       "      <td>False</td>\n",
       "      <td>False</td>\n",
       "      <td>False</td>\n",
       "      <td>False</td>\n",
       "      <td>False</td>\n",
       "      <td>False</td>\n",
       "      <td>False</td>\n",
       "      <td>False</td>\n",
       "      <td>False</td>\n",
       "      <td>False</td>\n",
       "      <td>False</td>\n",
       "      <td>False</td>\n",
       "      <td>False</td>\n",
       "      <td>False</td>\n",
       "      <td>False</td>\n",
       "      <td>False</td>\n",
       "      <td>False</td>\n",
       "    </tr>\n",
       "  </tbody>\n",
       "</table>\n",
       "<p>5 rows × 233 columns</p>\n",
       "</div>"
      ],
      "text/plain": [
       "   year  band_singer  ranking                                   song                                            songurl                url  newcol   born                      genres            ya /wiki/Acid_jazz /wiki/Acoustic_music /wiki/Adult_contemporary /wiki/Adult_contemporary_music /wiki/Afrobeat /wiki/Alternative_R%26B /wiki/Alternative_country /wiki/Alternative_dance /wiki/Alternative_dance#Indietronica /wiki/Alternative_hip_hop /wiki/Alternative_metal /wiki/Alternative_pop  \\\n",
       "0  1992  Boyz II Men        1                        End of the Road                              /wiki/End_of_the_Road  /wiki/Boyz_II_Men     100  False  [/wiki/Contemporary_R%26B]  1985-present           False                False                    False                          False          False                   False                     False                   False                                False                     False                   False                 False   \n",
       "1  1994  Boyz II Men        3                  I'll Make Love to You                      /wiki/I%27ll_Make_Love_to_You  /wiki/Boyz_II_Men      98  False  [/wiki/Contemporary_R%26B]  1985-present           False                False                    False                          False          False                   False                     False                   False                                False                     False                   False                 False   \n",
       "2  1996  Boyz II Men        2                          One Sweet Day                                /wiki/One_Sweet_Day  /wiki/Boyz_II_Men      99  False  [/wiki/Contemporary_R%26B]  1985-present           False                False                    False                          False          False                   False                     False                   False                                False                     False                   False                 False   \n",
       "3  1995  Boyz II Men        5                         On Bended Knee                               /wiki/On_Bended_Knee  /wiki/Boyz_II_Men      96  False  [/wiki/Contemporary_R%26B]  1985-present           False                False                    False                          False          False                   False                     False                   False                                False                     False                   False                 False   \n",
       "4  1993  Boyz II Men       12  In the Still of the Night (1956 song)  /wiki/In_the_Still_of_the_Night_(1956_song)#Bo...  /wiki/Boyz_II_Men      89  False  [/wiki/Contemporary_R%26B]  1985-present           False                False                    False                          False          False                   False                     False                   False                                False                     False                   False                 False   \n",
       "\n",
       "  /wiki/Alternative_rock /wiki/Ambient_music /wiki/Anarcho-punk /wiki/Anti-folk /wiki/Art_pop /wiki/Art_rock /wiki/Baroque_pop /wiki/Bass_music /wiki/Battle_rap /wiki/Bhangra_(music) /wiki/Big_band /wiki/Big_room_house /wiki/Blue-eyed_soul /wiki/Bluegrass_music /wiki/Blues /wiki/Blues_rock /wiki/Breakbeat /wiki/British_hip_hop /wiki/Britpop /wiki/Bro-country /wiki/Broadway_theatre /wiki/Brown-eyed_soul /wiki/Bubblegum_pop /wiki/CEDM /wiki/Cajun_music /wiki/Celtic_music /wiki/Chicano_rock  \\\n",
       "0                  False               False              False           False         False          False             False            False            False                 False          False                False                False                 False       False            False           False                 False         False             False                  False                 False               False      False             False              False              False   \n",
       "1                  False               False              False           False         False          False             False            False            False                 False          False                False                False                 False       False            False           False                 False         False             False                  False                 False               False      False             False              False              False   \n",
       "2                  False               False              False           False         False          False             False            False            False                 False          False                False                False                 False       False            False           False                 False         False             False                  False                 False               False      False             False              False              False   \n",
       "3                  False               False              False           False         False          False             False            False            False                 False          False                False                False                 False       False            False           False                 False         False             False                  False                 False               False      False             False              False              False   \n",
       "4                  False               False              False           False         False          False             False            False            False                 False          False                False                False                 False       False            False           False                 False         False             False                  False                 False               False      False             False              False              False   \n",
       "\n",
       "  /wiki/Classical  ...   /wiki/Reggae /wiki/Reggae_fusion /wiki/Reggae_rock /wiki/Reggaeton /wiki/Rhythm_and_blues /wiki/Rock_and_roll /wiki/Rock_en_Espa%C3%B1ol /wiki/Rock_music /wiki/Roots_rock /wiki/Salsa_music /wiki/Shoegazing /wiki/Ska /wiki/Ska_punk /wiki/Skate_punk /wiki/Smooth_jazz /wiki/Soca_music /wiki/Soft_rock /wiki/Sophisti-pop /wiki/Soul_music /wiki/Southern_hip_hop /wiki/Southern_rock /wiki/Space_rock /wiki/Spoken_word /wiki/Synthpop /wiki/Tech_house /wiki/Techno /wiki/Teen_pop  \\\n",
       "0           False  ...          False               False             False           False                  False               False                      False            False            False             False            False     False          False            False             False            False           False              False            False                  False               False            False             False          False            False        False          False   \n",
       "1           False  ...          False               False             False           False                  False               False                      False            False            False             False            False     False          False            False             False            False           False              False            False                  False               False            False             False          False            False        False          False   \n",
       "2           False  ...          False               False             False           False                  False               False                      False            False            False             False            False     False          False            False             False            False           False              False            False                  False               False            False             False          False            False        False          False   \n",
       "3           False  ...          False               False             False           False                  False               False                      False            False            False             False            False     False          False            False             False            False           False              False            False                  False               False            False             False          False            False        False          False   \n",
       "4           False  ...          False               False             False           False                  False               False                      False            False            False             False            False     False          False            False             False            False           False              False            False                  False               False            False             False          False            False        False          False   \n",
       "\n",
       "  /wiki/Thrash_metal /wiki/Traditional_pop_music /wiki/Trap_music /wiki/Trip_hop /wiki/UK_funky /wiki/UK_garage /wiki/Underground_hip_hop /wiki/Urban_adult_contemporary /wiki/Urban_contemporary /wiki/Urban_contemporary_gospel /wiki/West_Coast_Rap /wiki/West_Coast_hip_hop /wiki/West_coast_hip_hop /wiki/Witch_house_(music_genre) /wiki/World_music /wiki/Worldbeat Broadway   None    Pop Pop, R&B, Adult Contemporary, Soul, Urban, Gospel Pop, hip hop Various   rock  \n",
       "0              False                       False            False          False          False           False                     False                          False                    False                           False                False                    False                    False                           False             False           False    False  False  False                                             False        False   False  False  \n",
       "1              False                       False            False          False          False           False                     False                          False                    False                           False                False                    False                    False                           False             False           False    False  False  False                                             False        False   False  False  \n",
       "2              False                       False            False          False          False           False                     False                          False                    False                           False                False                    False                    False                           False             False           False    False  False  False                                             False        False   False  False  \n",
       "3              False                       False            False          False          False           False                     False                          False                    False                           False                False                    False                    False                           False             False           False    False  False  False                                             False        False   False  False  \n",
       "4              False                       False            False          False          False           False                     False                          False                    False                           False                False                    False                    False                           False             False           False    False  False  False                                             False        False   False  False  \n",
       "\n",
       "[5 rows x 233 columns]"
      ]
     },
     "execution_count": 898,
     "metadata": {},
     "output_type": "execute_result"
    }
   ],
   "source": [
    "#NEWCOL is a column used later, please ignore it in the following analyses\n",
    "#It is used in creating the weighted ranking, but it will appear in the genres thing as a result.\n",
    "genres = set()\n",
    "#mystupidlist=zip(largedf.url, largedf.genres)\n",
    "for genre in largedf.genres:\n",
    "    #print url, genre\n",
    "    genres.update(g for g in genre)\n",
    "genres = sorted(genres)\n",
    "#print genres\n",
    "for genre in genres:\n",
    "    largedf[genre] = [genre in x for x in largedf.genres]\n",
    "largedf.head()"
   ]
  },
  {
   "cell_type": "markdown",
   "metadata": {},
   "source": [
    "## Q3. Exploratory Data Analysis (EDA)"
   ]
  },
  {
   "cell_type": "markdown",
   "metadata": {},
   "source": [
    "At this point we have one dataframe `flatframe` for the songs, and one merged dataframe which has the songs with artist info in each row for each song, `largedf`.\n",
    "\n",
    "Our first visualization is an attempt to answer the following question:"
   ]
  },
  {
   "cell_type": "markdown",
   "metadata": {},
   "source": [
    "### What has been the trajectory of various genres in the popular zeitgeist?"
   ]
  },
  {
   "cell_type": "markdown",
   "metadata": {},
   "source": [
    "We will use the trends in the Billboard top 100 as evidence. To that goal, let us see which are the 24 most popular genres."
   ]
  },
  {
   "cell_type": "markdown",
   "metadata": {},
   "source": [
    "To do this, we calculate the mean of the dataframe and eliminate the first two columns (`year` and `ranking`) to get means of all the genre columns. We sort it in ascending order, multiply by 100 to get percentages, and pick the top 24."
   ]
  },
  {
   "cell_type": "code",
   "execution_count": 899,
   "metadata": {
    "collapsed": false,
    "scrolled": false
   },
   "outputs": [
    {
     "data": {
      "text/plain": [
       "/wiki/Hip_hop_music             38.437926\n",
       "/wiki/Contemporary_R%26B        34.652115\n",
       "/wiki/Pop_music                 29.809004\n",
       "/wiki/Soul_music                 9.924966\n",
       "/wiki/Pop_rock                   8.731241\n",
       "/wiki/Alternative_rock           7.946794\n",
       "/wiki/Country_music              6.139154\n",
       "/wiki/Rock_music                 5.388813\n",
       "/wiki/Dance-pop                  4.774898\n",
       "/wiki/Dance_music                4.672578\n",
       "/wiki/Post-grunge                2.592087\n",
       "/wiki/Neo_soul                   2.557981\n",
       "/wiki/Reggae                     2.455662\n",
       "/wiki/Hard_rock                  2.421555\n",
       "/wiki/Electronic_dance_music     2.285130\n",
       "/wiki/Electropop                 2.182810\n",
       "/wiki/Funk                       2.114598\n",
       "/wiki/Hip_hop_soul               2.114598\n",
       "/wiki/Soft_rock                  1.807640\n",
       "/wiki/Synthpop                   1.705321\n",
       "/wiki/Pop_punk                   1.637108\n",
       "/wiki/Gospel_music               1.603001\n",
       "/wiki/House_music                1.568895\n",
       "/wiki/Folk_music                 1.568895\n",
       "dtype: float64"
      ]
     },
     "execution_count": 899,
     "metadata": {},
     "output_type": "execute_result"
    }
   ],
   "source": [
    "# Get the mean of all the *numerical* values, over the column axis (0).\n",
    "# This works because True is numerically equal to 1 in Python (e.g. True + True == 2)\n",
    "# so mean sums up the trues and divides by the total\n",
    "#and it only does it for numerical columns\n",
    "genrefrac = largedf.mean(axis=0)*100\n",
    "# The first two numerical values are ranking and year, so start from the third.\n",
    "genrefrac = genrefrac[2:]\n",
    "# Sort the values in descending order (note that the sort method changed the list in place).\n",
    "#This is because its a series sort. Pandas Dataframe sorts, the type we used earlier, do not\n",
    "#do the sort in place.\n",
    "genrefrac.sort(ascending=False)\n",
    "# Get the first 24 items.\n",
    "genrefrac = genrefrac[1:]\n",
    "genrefrac[:24]\n",
    "\n",
    "#IGNORE NEWCOL, NOT RELATED TO THIS "
   ]
  },
  {
   "cell_type": "markdown",
   "metadata": {},
   "source": [
    "####3.1 Plot a horizontal bar chart of the top 30 genres"
   ]
  },
  {
   "cell_type": "markdown",
   "metadata": {},
   "source": [
    "You will have to change the index of the `genrefrac` series to strip `/wiki` from the genre names, and convert underscores to spaces. **Hint**: Use the pandas `plot`, `reset_index` and `set_index` methods. Label the y-axis \"Genres\"."
   ]
  },
  {
   "cell_type": "code",
   "execution_count": 1003,
   "metadata": {
    "collapsed": false
   },
   "outputs": [
    {
     "name": "stdout",
     "output_type": "stream",
     "text": [
      "Hip hop music\n",
      "Contemporary R%26B\n",
      "Pop music\n",
      "Soul music\n",
      "Pop rock\n",
      "Alternative rock\n",
      "Country music\n",
      "Rock music\n",
      "Dance-pop\n",
      "Dance music\n",
      "Post-grunge\n",
      "Neo soul\n",
      "Reggae\n",
      "Hard rock\n",
      "Electronic dance music\n",
      "Electropop\n",
      "Funk\n",
      "Hip hop soul\n",
      "Soft rock\n",
      "Synthpop\n",
      "Pop punk\n",
      "Gospel music\n",
      "House music\n",
      "Folk music\n",
      "New jack swing\n",
      "Dancehall\n",
      "Latin pop\n",
      "None\n",
      "New wave music\n",
      "Electronica\n"
     ]
    },
    {
     "data": {
      "image/png": "[encoded data removed]",
      "text/plain": [
       "<matplotlib.figure.Figure at 0x128e5a0d0>"
      ]
     },
     "metadata": {},
     "output_type": "display_data"
    }
   ],
   "source": [
    "#your code here\n",
    "index_list = []\n",
    "indices = genrefrac.index[:30]\n",
    "    \n",
    "#print type(genrefrac.index)\n",
    "# I ADDED a new list instead of replacing the old because it was being finicky. Works the same.\n",
    "for i in indices:\n",
    "    if i == 'None' or i == 'Various':\n",
    "        index_list.append(i)\n",
    "        print i\n",
    "    else: \n",
    "        clean = i.replace(\"/wiki/\",\"\")\n",
    "        new_element = clean.replace(\"_\",\" \")\n",
    "        print new_element\n",
    "        index_list.append(str(new_element))\n",
    "\n",
    "#IGNORE NEWCOL! by taking [1:30]\n",
    "genre_barplot = genrefrac[:30].plot(y = 'Genres',kind=\"barh\")\n",
    "#genre_barplot.get\n",
    "#print type(genre_barplot)\n",
    "genre_barplot.set_yticklabels(index_list)\n",
    "genre_barplot.set_xlabel(\"Percent\")\n",
    "genre_barplot.set_ylabel(\"Genre\")\n",
    "plt.gca().invert_yaxis()\n",
    "\n"
   ]
  },
  {
   "cell_type": "markdown",
   "metadata": {},
   "source": [
    "Lets take the top 24 genres from `genrefrac`. For each genre, we create a subframe of the ranking and year from those rows for which that genre is \"True\". We group the resulting dataframe by year. We obtain a dictionary `genreinfo` keyed by genre, whose value is a tuple of 3 Pandas series: the mean rankings per year for that genre, the standard deviation on those rankings, and the series groupby object for the rankings per year."
   ]
  },
  {
   "cell_type": "code",
   "execution_count": 900,
   "metadata": {
    "collapsed": false,
    "scrolled": false
   },
   "outputs": [
    {
     "data": {
      "text/plain": [
       "{'meanseries': year\n",
       " 1992    36.142857\n",
       " 1993    53.500000\n",
       " 1994    49.400000\n",
       " 1995    22.000000\n",
       " 1996    45.000000\n",
       " 1999    11.000000\n",
       " 2000    76.000000\n",
       " 2001    83.000000\n",
       " 2002    63.000000\n",
       " 2003    47.200000\n",
       " 2004    76.333333\n",
       " 2005    23.000000\n",
       " 2006    25.000000\n",
       " 2007    55.500000\n",
       " 2008    50.000000\n",
       " 2009    97.000000\n",
       " 2010    41.500000\n",
       " 2011    92.000000\n",
       " 2012    44.000000\n",
       " 2013    45.800000\n",
       " 2014    50.000000\n",
       " Name: ranking, dtype: float64,\n",
       " 'rankingseries': <pandas.core.groupby.SeriesGroupBy object at 0x1242f8ad0>,\n",
       " 'stdseries': year\n",
       " 1992    30.163049\n",
       " 1993     6.244998\n",
       " 1994    34.399128\n",
       " 1995    22.102036\n",
       " 1996          NaN\n",
       " 1999    12.727922\n",
       " 2000          NaN\n",
       " 2001          NaN\n",
       " 2002     1.414214\n",
       " 2003    16.468151\n",
       " 2004     9.237604\n",
       " 2005     0.000000\n",
       " 2006    14.142136\n",
       " 2007    46.679760\n",
       " 2008          NaN\n",
       " 2009          NaN\n",
       " 2010    53.033009\n",
       " 2011          NaN\n",
       " 2012    48.135226\n",
       " 2013    37.525991\n",
       " 2014    33.083228\n",
       " Name: ranking, dtype: float64}"
      ]
     },
     "execution_count": 900,
     "metadata": {},
     "output_type": "execute_result"
    }
   ],
   "source": [
    "genreinfo={}\n",
    "topgenres=genrefrac.index[:24]\n",
    "for genre in topgenres:\n",
    "    genreframe=largedf[largedf[genre]==True][['ranking','year']]\n",
    "    ggby = genreframe.groupby('year')\n",
    "    genreinfo[genre]={'meanseries': ggby['ranking'].mean(), 'stdseries': ggby['ranking'].std(), 'rankingseries': ggby['ranking']}\n",
    "genreinfo['/wiki/Funk']\n"
   ]
  },
  {
   "cell_type": "markdown",
   "metadata": {},
   "source": [
    "Notice that there are NaN's in the standard deviations. Pandas calculates standard deviations for samples rather than populations, and if there is only 1 item, then the standard deviation calculation involves a division by 0."
   ]
  },
  {
   "cell_type": "markdown",
   "metadata": {},
   "source": [
    "#### 3.2 Make a small multiples plot of the 24 most popular genres"
   ]
  },
  {
   "cell_type": "markdown",
   "metadata": {},
   "source": [
    "Make a 8 row, 3 column small multiples plot with elements like:\n",
    "\n",
    "![Small Multiple](smmult.png)\n",
    "\n",
    "You will use `genreinfo`, which we just computed, to make a plot of how the \"ranking of a genre\" has changed with time. The mean rank achieved by songs in a genre forms the backbone of this plot, with the standard deviation shown, and rankings of all the songs in the genre that year shown as well, at a very low transparency. (Since a song belongs to many genres through the artist, this means that a song may be represented in multiple plots. Again, while not strictly true, this is a simplifying assumption we are making.)\n",
    "\n",
    "Some instructions for the plot:\n",
    "\n",
    "1. The blue scatters are all the songs \"in\" that genre: keep them at a low alpha so one can visually see the density. \n",
    "2. The dark red points are the means. You can choose to join them if you like.\n",
    "3. The light red band uses matplotlib's `fill_between` to fill the area between `mean-std` and `mean+std`. \n",
    "4. If the standard deviation is NaN, fill up the entire y dimension with it to give a notion of large impreciseness in the measure.\n",
    "\n",
    "HINT: Once again, http://nbviewer.ipython.org/github/cs109/content/blob/master/lec_04_wrangling.ipynb may help in creating such a plot.\n",
    "\n",
    "If you have a better viz for this, by all means go for it!"
   ]
  },
  {
   "cell_type": "code",
   "execution_count": 1002,
   "metadata": {
    "collapsed": false,
    "scrolled": false
   },
   "outputs": [
    {
     "data": {
      "image/png": "[encoded data removed]",
      "text/plain": [
       "<matplotlib.figure.Figure at 0x133e6dbd0>"
      ]
     },
     "metadata": {},
     "output_type": "display_data"
    }
   ],
   "source": [
    "#your code here\n",
    "#create a 3x8 grid of plots.\n",
    "import operator\n",
    "fig, axes = plt.subplots(nrows=3, ncols=8, sharex=False, sharey=False, figsize=(30, 10), \n",
    "                         tight_layout=True)\n",
    "\n",
    "bins = np.arange(1992, 2014, 1)\n",
    "for ax, genre in zip(axes.ravel(), topgenres):\n",
    "    \n",
    "    #plot mean values per year\n",
    "    ax.scatter(genreinfo[genre]['meanseries'].index,genreinfo[genre]['meanseries'].values, color='r', alpha=.8)\n",
    "    ax.scatter(genreinfo[genre]['stdseries'].index,genreinfo[genre]['stdseries'].values, norm=False, zorder=0, color='#cccccc')\n",
    "    ax.xaxis.set_ticks(np.arange(1992, 2015, 11))\n",
    "    \n",
    "    #plot all rankings in blue backgroun\n",
    "    ax.scatter(largedf[largedf[genre]== True].year,largedf[largedf[genre]== True].ranking,color='b', alpha=.17)\n",
    "    \n",
    "    #calculate for making yellow full standard deviation\n",
    "    mean = np.mean(genreinfo[genre]['meanseries'].values)\n",
    "    std = np.mean(genreinfo[genre]['stdseries'].values)\n",
    "    #for name,group in genreinfo[genre]['rankingseries']:\n",
    "        \n",
    "    #fill standard deviation \n",
    "    if np.isnan(std):\n",
    "        ax.fill_between(genreinfo[genre]['meanseries'].index, 0, 100, facecolor='yellow', alpha=.12)\n",
    "    #ax.fill_between(genreinfo[genre]['meanseries'].index, mean - std, mean + std, facecolor='green',alpha=.3)\n",
    "    else:\n",
    "        ax.fill_between(genreinfo[genre]['meanseries'].index,map(operator.sub,genreinfo[genre]['meanseries'].values,genreinfo[genre]['stdseries'].values), \n",
    "                    map(operator.add,genreinfo[genre]['meanseries'].values,genreinfo[genre]['stdseries'].values), facecolor='yellow',alpha=.2)\n",
    "   \n",
    "    #structure axes and labels\n",
    "    ax.set_ylim([0,100])\n",
    "    ax.set_xlim([1992,2015])\n",
    "    ax.set_title(genre.replace(\"/wiki/\",\"\").replace(\"%26\",\"&\").replace(\"_\",\" \"))\n",
    "    ax.set_xlabel('Year')"
   ]
  },
  {
   "cell_type": "markdown",
   "metadata": {},
   "source": [
    "**3.2(contd) What trends do you see?**\n",
    "\n",
    "Write a paragraph or two, touching on which genres are the most popular, and how this popularity has changed over time."
   ]
  },
  {
   "cell_type": "markdown",
   "metadata": {},
   "source": [
    "*your answer here*\n",
    "My initial reaction to this data were the absences. What I mean by that is, for example, there is not data on Electropop before the 2000s. It's important to consider why this may be. Not only might it be because of cultural and technological changes that allowed for the creation and proliferation of electropop music, but also it might be due to memetic epidemiology. That is, that phrasing might be subject to different variations, the way rap and hip/hop might be very similar, but choices in genre between the two divvy up the similar music into two very similar flavors. Some may classify one one way, some may classify it the other, and I am not sure of the meticulousness taken when assigning these labels on Wikipedia.\n",
    "\n",
    "Hip hop music, Contemporary R&B, and Pop Music were the consistently the most prominent. They also had the most datapoints from the top 100, so we could best determine std deviations, means, etc. This is most evident by the blue density behind the mean (i.e. there were a lot of rankings to work with). The full yellow blocks are to show that if one std point were nan, then the whole standard deviation would be spread to limits because there is a hole in our error."
   ]
  },
  {
   "cell_type": "markdown",
   "metadata": {},
   "source": [
    "### Who are the highest quality singers?"
   ]
  },
  {
   "cell_type": "markdown",
   "metadata": {},
   "source": [
    "Here we show the highest quality singers and plot them on a bar chart.\n",
    "\n",
    "What do we mean by highest quality? This is of-course open to interpretation, but lets define \"highest quality\" here as the number of times a singer appears in the top 100 over this time period. If they appear twice in a year(for different songs), this is counted as two appearances, not one. We cut our chart of at those singers who have appeared more than 15 times."
   ]
  },
  {
   "cell_type": "code",
   "execution_count": 1001,
   "metadata": {
    "collapsed": false,
    "scrolled": false
   },
   "outputs": [
    {
     "data": {
      "image/png": "[encoded data removed]",
      "text/plain": [
       "<matplotlib.figure.Figure at 0x12278e950>"
      ]
     },
     "metadata": {},
     "output_type": "display_data"
    }
   ],
   "source": [
    "prolific=flatframe.url.value_counts()\n",
    "plot = prolific[prolific > 15].plot(kind=\"barh\")\n",
    "plot.set_title(\"Singers with the Most BANGERS!!!\");\n",
    "plt.gca().invert_yaxis()\n"
   ]
  },
  {
   "cell_type": "markdown",
   "metadata": {},
   "source": [
    "#### 3.3 What if we used a different metric?"
   ]
  },
  {
   "cell_type": "markdown",
   "metadata": {},
   "source": [
    "What we would like to capture is this: a singer ought to be scored higher if he or she appears higher in the rankings. So we'd say that a singer who appeared once at a higher and once at a lower ranking is a \"higher quality\" singer than one who appeared twice at a lower ranking. \n",
    "\n",
    "To do this, group all of a singers songs together and assign each song a score `101 - ranking`. Order the singers by their total score and make a bar chart for the top 20."
   ]
  },
  {
   "cell_type": "code",
   "execution_count": 1000,
   "metadata": {
    "collapsed": false,
    "scrolled": false
   },
   "outputs": [
    {
     "name": "stdout",
     "output_type": "stream",
     "text": [
      "band_singer\n",
      "Rihanna                2103\n",
      "Mariah Carey           1896\n",
      "Usher (entertainer)    1834\n",
      "Lil Wayne              1516\n",
      "Ludacris               1429\n",
      "Katy Perry             1264\n",
      "Jay-Z                  1258\n",
      "Kanye West             1250\n",
      "Justin Timberlake      1191\n",
      "Pink (singer)          1141\n",
      "Nelly                  1134\n",
      "Janet Jackson          1121\n",
      "Akon                   1086\n",
      "Sean Combs             1068\n",
      "R. Kelly               1023\n",
      "Alicia Keys            1010\n",
      "Eminem                  991\n",
      "50 Cent                 982\n",
      "Bruno Mars              972\n",
      "T-Pain                  965\n",
      "Name: newcol, dtype: float64\n"
     ]
    },
    {
     "data": {
      "text/plain": [
       "<matplotlib.text.Text at 0x129a33550>"
      ]
     },
     "execution_count": 1000,
     "metadata": {},
     "output_type": "execute_result"
    },
    {
     "data": {
      "image/png": "[encoded data removed]",
      "text/plain": [
       "<matplotlib.figure.Figure at 0x12546ffd0>"
      ]
     },
     "metadata": {},
     "output_type": "display_data"
    }
   ],
   "source": [
    "#your code here\n",
    "data = flatframe.groupby('band_singer').groups\n",
    "flatframe['newcol'] = flatframe.ranking.apply(lambda j: 101-j)\n",
    "weighted_rankings = flatframe.groupby('band_singer').newcol.sum()\n",
    "weighted_rankings.sort(0,False)\n",
    "print weighted_rankings[:20]\n",
    "histo = weighted_rankings[:20].plot(kind='barh')\n",
    "plt.gca().invert_yaxis()\n",
    "histo.set_ylabel(\"Bands/Singers\")\n",
    "histo.set_xlabel(\"Score\")"
   ]
  },
  {
   "cell_type": "markdown",
   "metadata": {},
   "source": [
    "**3.3(contd)Do you notice any major differences when you change the metric?**\n",
    "\n",
    "How have the singers at the top shifted places? Why do you think this is so?"
   ]
  },
  {
   "cell_type": "markdown",
   "metadata": {},
   "source": [
    "This correction to our metric allows us to see not only who produces a lot of music within the top 100 best songs in a year, but also to analyse those whose songs on that list are generally high up on that list. Rihanna has maintained her position on top, suggesting that she both prolifically produces top music, and when she does, it is high up on the list, even though Mariah made an approach after the weights (she has the most top songs from a female artist). Her songs, when released and on the top 100 (less often than Rihanna) are generally highly ranked. Eminem has fallen significantly, implying that his music is often in the top charts, but when it is, it is not as consistently high up as, say, Rihanna. "
   ]
  },
  {
   "cell_type": "markdown",
   "metadata": {},
   "source": [
    "#### The age at which singers achieve their top ranking."
   ]
  },
  {
   "cell_type": "markdown",
   "metadata": {},
   "source": [
    "As an example to warm you up for the next question, we plot a histogram of the age at which singers achieve their top ranking"
   ]
  },
  {
   "cell_type": "code",
   "execution_count": 964,
   "metadata": {
    "collapsed": false,
    "scrolled": false
   },
   "outputs": [
    {
     "data": {
      "image/png": "[encoded data removed]",
      "text/plain": [
       "<matplotlib.figure.Figure at 0x1231b9dd0>"
      ]
     },
     "metadata": {},
     "output_type": "display_data"
    }
   ],
   "source": [
    "# YOUR CODE BROKE :( I HAD TO FIX. SAD SAD SAD\n",
    "dfb=largedf[largedf.born!=False][['year','born','ranking','url','ya']]\n",
    "dfb['byear']=dfb.born.apply(lambda x: int(str(x)[:4]))\n",
    "#dfb['byear']=dfb.born.apply(lambda x: int(x.split('-')[0]))\n",
    "byurl=dfb.groupby('url')\n",
    "frames=[]\n",
    "for k, v in byurl:\n",
    "    minr=v.ranking.min()\n",
    "    frames.append(v[v.ranking==minr])\n",
    "topscoresdf=pd.concat(frames)\n",
    "(topscoresdf.year-topscoresdf.byear).hist(bins=np.arange(10,70,5), normed=True);"
   ]
  },
  {
   "cell_type": "markdown",
   "metadata": {},
   "source": [
    "The *age of first fame* has an interesting shape, unimodal with a mode in the late 20s with a long tail to the right. This makes sense because there really is a lower age limit to artists but not so much an upper one. So you expect this type of behavior."
   ]
  },
  {
   "cell_type": "markdown",
   "metadata": {},
   "source": [
    "#### 3.4 At what year since inception do bands reach their top rankings?"
   ]
  },
  {
   "cell_type": "markdown",
   "metadata": {},
   "source": [
    "Make a similar calculation to plot a histogram of the years since inception at which bands reach their top ranking"
   ]
  },
  {
   "cell_type": "code",
   "execution_count": 990,
   "metadata": {
    "collapsed": false,
    "scrolled": false
   },
   "outputs": [
    {
     "data": {
      "image/png": "[encoded data removed]",
      "text/plain": [
       "<matplotlib.figure.Figure at 0x11d188bd0>"
      ]
     },
     "metadata": {},
     "output_type": "display_data"
    }
   ],
   "source": [
    "#your code here\n",
    "#do the same as above but deal with first year of band not since the artists were born\n",
    "dfb=largedf[(largedf.ya!=False)&largedf.born==False][['year','born','ranking','url','ya']]\n",
    "dfb['fya']=dfb.ya.apply(lambda x: int(str(x)[:4]) if str(x) != 'nan' else x)\n",
    "byurl=dfb.groupby('url')\n",
    "frames=[]\n",
    "for k, v in byurl:\n",
    "    minr=v.ranking.min()\n",
    "    frames.append(v[v.ranking==minr])\n",
    "topscoresdf=pd.concat(frames)\n",
    "(topscoresdf.year-topscoresdf.fya).hist(bins=np.arange(0,70,5), normed=True);"
   ]
  },
  {
   "cell_type": "markdown",
   "metadata": {
    "collapsed": true
   },
   "source": [
    "## Q4: Billboard Magazine: year end results from weekly results"
   ]
  },
  {
   "cell_type": "markdown",
   "metadata": {},
   "source": [
    "The aim of this problem is to find features in the weekly Billboard top 100 that can predict the end year results. In the interests of time, we'll only do 2014: a complete study would do all the years.\n",
    "Let us first fetch the end-of-year results."
   ]
  },
  {
   "cell_type": "markdown",
   "metadata": {},
   "source": [
    "### Get the end year results, and results from all saturdays of the year."
   ]
  },
  {
   "cell_type": "code",
   "execution_count": 768,
   "metadata": {
    "collapsed": false,
    "scrolled": false
   },
   "outputs": [],
   "source": [
    "end_year=requests.get(\"http://www.billboard.com/charts/year-end/2014/hot-100-songs\").text"
   ]
  },
  {
   "cell_type": "markdown",
   "metadata": {},
   "source": [
    "Billboard releases its daily ratings on saturdays."
   ]
  },
  {
   "cell_type": "markdown",
   "metadata": {},
   "source": [
    "We first write a function `allsats(year, fs)` to get all the saturdays in a given year, and given the day part of the date of the first saturday of the year in january. We use the `date` and `timedelta` modules."
   ]
  },
  {
   "cell_type": "code",
   "execution_count": 769,
   "metadata": {
    "collapsed": false,
    "scrolled": false
   },
   "outputs": [],
   "source": [
    "from datetime import date, timedelta\n",
    "\n",
    "def allsats(year, fs):\n",
    "    days=[]\n",
    "    d = date(year, 1, fs)       \n",
    "    while d.year == year:\n",
    "        days.append(d.strftime(\"%Y-%m-%d\"))\n",
    "        d += timedelta(days = 7)\n",
    "    return days"
   ]
  },
  {
   "cell_type": "markdown",
   "metadata": {},
   "source": [
    "The first Saturday in 2014 is Jan 4th:"
   ]
  },
  {
   "cell_type": "code",
   "execution_count": 770,
   "metadata": {
    "collapsed": false,
    "scrolled": false
   },
   "outputs": [
    {
     "data": {
      "text/plain": [
       "['2014-01-04',\n",
       " '2014-01-11',\n",
       " '2014-01-18',\n",
       " '2014-01-25',\n",
       " '2014-02-01',\n",
       " '2014-02-08',\n",
       " '2014-02-15',\n",
       " '2014-02-22',\n",
       " '2014-03-01',\n",
       " '2014-03-08',\n",
       " '2014-03-15',\n",
       " '2014-03-22',\n",
       " '2014-03-29',\n",
       " '2014-04-05',\n",
       " '2014-04-12',\n",
       " '2014-04-19',\n",
       " '2014-04-26',\n",
       " '2014-05-03',\n",
       " '2014-05-10',\n",
       " '2014-05-17',\n",
       " '2014-05-24',\n",
       " '2014-05-31',\n",
       " '2014-06-07',\n",
       " '2014-06-14',\n",
       " '2014-06-21',\n",
       " '2014-06-28',\n",
       " '2014-07-05',\n",
       " '2014-07-12',\n",
       " '2014-07-19',\n",
       " '2014-07-26',\n",
       " '2014-08-02',\n",
       " '2014-08-09',\n",
       " '2014-08-16',\n",
       " '2014-08-23',\n",
       " '2014-08-30',\n",
       " '2014-09-06',\n",
       " '2014-09-13',\n",
       " '2014-09-20',\n",
       " '2014-09-27',\n",
       " '2014-10-04',\n",
       " '2014-10-11',\n",
       " '2014-10-18',\n",
       " '2014-10-25',\n",
       " '2014-11-01',\n",
       " '2014-11-08',\n",
       " '2014-11-15',\n",
       " '2014-11-22',\n",
       " '2014-11-29',\n",
       " '2014-12-06',\n",
       " '2014-12-13',\n",
       " '2014-12-20',\n",
       " '2014-12-27']"
      ]
     },
     "execution_count": 770,
     "metadata": {},
     "output_type": "execute_result"
    }
   ],
   "source": [
    "sats=allsats(2014, 4)\n",
    "sats"
   ]
  },
  {
   "cell_type": "markdown",
   "metadata": {},
   "source": [
    "#### Get the data"
   ]
  },
  {
   "cell_type": "markdown",
   "metadata": {},
   "source": [
    "Let us use `requests` to get the billboard pages for all these days. The format for the data is a dictionary `satdict` with keys the saturday date strings we see above, and one additional key, `end_year`. The values corresponding to the keys are the html text downloaded from billboard. The value corresponding to the `end_year` key comes from the `end_year` variable.\n",
    "\n",
    "Billboard makes the lists for every saturday available at:\n",
    "`http://www.billboard.com/charts/hot-100/saturday`, for example, http://www.billboard.com/charts/hot-100/2014-12-27 ."
   ]
  },
  {
   "cell_type": "code",
   "execution_count": 773,
   "metadata": {
    "collapsed": false,
    "scrolled": false
   },
   "outputs": [],
   "source": [
    "satdict={}\n",
    "satdict['end_year']=end_year\n",
    "for sat in sats:\n",
    "    satdict[sat]=requests.get(\"http://www.billboard.com/charts/hot-100/\"+sat).text\n",
    "    time.sleep(1)"
   ]
  },
  {
   "cell_type": "markdown",
   "metadata": {},
   "source": [
    "We save the output in a file, `satdict.json`."
   ]
  },
  {
   "cell_type": "code",
   "execution_count": 774,
   "metadata": {
    "collapsed": false,
    "scrolled": false
   },
   "outputs": [],
   "source": [
    "with open(\"tempdata/satdict.json\",\"w\") as fd:\n",
    "    json.dump( satdict, fd)\n",
    "del satdict\n",
    "with open(\"tempdata/satdict.json\") as fd:\n",
    "    satdict=json.load(fd)"
   ]
  },
  {
   "cell_type": "markdown",
   "metadata": {},
   "source": [
    "#### 4.1 Parse the HTML and save the song information"
   ]
  },
  {
   "cell_type": "markdown",
   "metadata": {},
   "source": [
    "Write a function `get_weekly(weekstring, indict)` which takes the string corresponding to a saturday, `weekstring` and a dictionary `indict` with *keys* as the saturdays and *value* as the text of the billboard page for that day. Parse the text, returning a list of tuples `(ranking, songdict)` with a `songdict` dictionary. Each tuple corresponds to a song in that week's top-100, with `ranking` the ranking of that song. \n",
    "\n",
    "One of these pages looks like this in the developer tools:\n",
    "\n",
    "![billboard](billboard.png)\n",
    "\n",
    "Make the dictionary `songdict` look like this: \n",
    "\n",
    "`songdict=dict(ranking=ranking, title=title)`\n",
    "\n",
    "where the title is the title of the song. The `ranking` is the same `ranking` that is the first element of the tuple."
   ]
  },
  {
   "cell_type": "code",
   "execution_count": 876,
   "metadata": {
    "collapsed": false,
    "scrolled": false
   },
   "outputs": [
    {
     "data": {
      "text/plain": [
       "[(1, {'ranking': 1, 'title': 'Blank Space'}),\n",
       " (2, {'ranking': 2, 'title': 'All About That Bass'}),\n",
       " (3, {'ranking': 3, 'title': 'Shake It Off'}),\n",
       " (4, {'ranking': 4, 'title': 'Animals'}),\n",
       " (5, {'ranking': 5, 'title': 'Habits (Stay High)'}),\n",
       " (6, {'ranking': 6, 'title': 'Take Me To Church'}),\n",
       " (7, {'ranking': 7, 'title': 'Hot Boy'}),\n",
       " (8, {'ranking': 8, 'title': 'Bang Bang'}),\n",
       " (9, {'ranking': 9, 'title': \"I'm Not The Only One\"}),\n",
       " (10, {'ranking': 10, 'title': 'Jealous'}),\n",
       " (11, {'ranking': 11, 'title': \"Don't\"}),\n",
       " (12, {'ranking': 12, 'title': 'Tuesday'}),\n",
       " (13, {'ranking': 13, 'title': 'Love Me Harder'}),\n",
       " (14, {'ranking': 14, 'title': \"I Don't F**k With You\"}),\n",
       " (15, {'ranking': 15, 'title': \"Don't Tell 'Em\"}),\n",
       " (16, {'ranking': 16, 'title': 'Black Widow'}),\n",
       " (17, {'ranking': 17, 'title': 'No Type'}),\n",
       " (18, {'ranking': 18, 'title': 'Trumpets'}),\n",
       " (19, {'ranking': 19, 'title': 'Waves'}),\n",
       " (20, {'ranking': 20, 'title': 'Stay With Me'}),\n",
       " (21, {'ranking': 21, 'title': 'Blame'}),\n",
       " (22, {'ranking': 22, 'title': 'Lifestyle'}),\n",
       " (23, {'ranking': 23, 'title': 'Rather Be'}),\n",
       " (24, {'ranking': 24, 'title': 'Cool Kids'}),\n",
       " (25, {'ranking': 25, 'title': 'Chandelier'}),\n",
       " (26, {'ranking': 26, 'title': 'The Heart Wants What It Wants'}),\n",
       " (27, {'ranking': 27, 'title': 'Only'}),\n",
       " (28, {'ranking': 28, 'title': 'Rude'}),\n",
       " (29, {'ranking': 29, 'title': 'Centuries'}),\n",
       " (30, {'ranking': 30, 'title': 'New Flame'}),\n",
       " (31, {'ranking': 31, 'title': 'Break Free'}),\n",
       " (32, {'ranking': 32, 'title': 'Riptide'}),\n",
       " (33, {'ranking': 33, 'title': 'Steal My Girl'}),\n",
       " (34, {'ranking': 34, 'title': 'Anaconda'}),\n",
       " (35, {'ranking': 35, 'title': 'Something In The Water'}),\n",
       " (36, {'ranking': 36, 'title': 'All Of Me'}),\n",
       " (37, {'ranking': 37, 'title': 'Happy'}),\n",
       " (38, {'ranking': 38, 'title': 'Lips Are Movin'}),\n",
       " (39, {'ranking': 39, 'title': 'Hold You Down'}),\n",
       " (40, {'ranking': 40, 'title': 'Am I Wrong'}),\n",
       " (41, {'ranking': 41, 'title': 'L.A.LOVE (la la)'}),\n",
       " (42, {'ranking': 42, 'title': 'Maps'}),\n",
       " (43, {'ranking': 43, 'title': 'Touchin, Lovin'}),\n",
       " (44, {'ranking': 44, 'title': 'Bailando'}),\n",
       " (45, {'ranking': 45, 'title': 'Fancy'}),\n",
       " (46, {'ranking': 46, 'title': 'Try Me'}),\n",
       " (47, {'ranking': 47, 'title': 'Boom Clap'}),\n",
       " (48, {'ranking': 48, 'title': 'Leave The Night On'}),\n",
       " (49, {'ranking': 49, 'title': 'Beg For It'}),\n",
       " (50, {'ranking': 50, 'title': 'Stolen Dance'}),\n",
       " (51, {'ranking': 51, 'title': 'About The Money'}),\n",
       " (52, {'ranking': 52, 'title': 'Somewhere In My Car'}),\n",
       " (53, {'ranking': 53, 'title': '0 To 100 / The Catch Up'}),\n",
       " (54, {'ranking': 54, 'title': 'Shotgun Rider'}),\n",
       " (55, {'ranking': 55, 'title': 'Day Drinking'}),\n",
       " (56, {'ranking': 56, 'title': 'Girl In A Country Song'}),\n",
       " (57, {'ranking': 57, 'title': 'Neon Light'}),\n",
       " (58, {'ranking': 58, 'title': 'No Flex Zone'}),\n",
       " (59, {'ranking': 59, 'title': 'i'}),\n",
       " (60, {'ranking': 60, 'title': 'Sunshine & Whiskey'}),\n",
       " (61, {'ranking': 61, 'title': 'Heroes (We Could Be)'}),\n",
       " (62, {'ranking': 62, 'title': 'Thinking Out Loud'}),\n",
       " (63, {'ranking': 63, 'title': \"Burnin' It Down\"}),\n",
       " (64, {'ranking': 64, 'title': 'Fireball'}),\n",
       " (65, {'ranking': 65, 'title': 'Uptown Funk!'}),\n",
       " (66, {'ranking': 66, 'title': 'Try'}),\n",
       " (67, {'ranking': 67, 'title': 'Dirt'}),\n",
       " (68, {'ranking': 68, 'title': 'Perfect Storm'}),\n",
       " (69, {'ranking': 69, 'title': 'No Love'}),\n",
       " (70, {'ranking': 70, 'title': 'Talladega'}),\n",
       " (71, {'ranking': 71, 'title': 'Dangerous'}),\n",
       " (72, {'ranking': 72, 'title': 'Amnesia'}),\n",
       " (73, {'ranking': 73, 'title': 'Look At You'}),\n",
       " (74, {'ranking': 74, 'title': 'In Your Arms'}),\n",
       " (75, {'ranking': 75, 'title': 'Sun Daze'}),\n",
       " (76, {'ranking': 76, 'title': \"Baby Don't Lie\"}),\n",
       " (77, {'ranking': 77, 'title': 'Close Your Eyes'}),\n",
       " (78, {'ranking': 78, 'title': 'Body Language'}),\n",
       " (79, {'ranking': 79, 'title': 'This Is How We Do'}),\n",
       " (80, {'ranking': 80, 'title': 'Drinking Class'}),\n",
       " (81, {'ranking': 81, 'title': 'Roller Coaster'}),\n",
       " (82, {'ranking': 82, 'title': 'Yellow Flicker Beat'}),\n",
       " (83, {'ranking': 83, 'title': \"Til It's Gone\"}),\n",
       " (84, {'ranking': 84, 'title': \"Feelin' It\"}),\n",
       " (85, {'ranking': 85, 'title': 'God Made Girls'}),\n",
       " (86, {'ranking': 86, 'title': 'Often'}),\n",
       " (87, {'ranking': 87, 'title': '18'}),\n",
       " (88, {'ranking': 88, 'title': 'Where Do Broken Hearts Go'}),\n",
       " (89, {'ranking': 89, 'title': 'Outside'}),\n",
       " (90, {'ranking': 90, 'title': 'Handsome And Wealthy'}),\n",
       " (91, {'ranking': 91, 'title': 'You And Your Friends'}),\n",
       " (92, {'ranking': 92, 'title': 'Bobby Bitch'}),\n",
       " (93, {'ranking': 93, 'title': 'Superheroes'}),\n",
       " (94, {'ranking': 94, 'title': 'Ghost'}),\n",
       " (95, {'ranking': 95, 'title': 'Mean To Me'}),\n",
       " (96, {'ranking': 96, 'title': 'Made Me'}),\n",
       " (97, {'ranking': 97, 'title': 'Homegrown Honey'}),\n",
       " (98, {'ranking': 98, 'title': 'Shut Up And Dance'}),\n",
       " (99, {'ranking': 99, 'title': 'Make Me Wanna'}),\n",
       " (100, {'ranking': 100, 'title': 'She Knows'})]"
      ]
     },
     "execution_count": 876,
     "metadata": {},
     "output_type": "execute_result"
    }
   ],
   "source": [
    "\"\"\"\n",
    "Function\n",
    "--------\n",
    "get_weekly\n",
    "\n",
    "Inputs\n",
    "------\n",
    "weekstring: the saturday in question\n",
    "indict: a dictionary with keys being saturdays, and values being the billboard html associated\n",
    "with those saturdays\n",
    "   \n",
    "Returns\n",
    "-------\n",
    "A list of tuples. Each tuple has two elements. The first element is the ranking. The\n",
    "second is a dictionary songdict with keys\n",
    "    ranking: ranking of song. same as first element of the tuple\n",
    "    title: title of song\n",
    "\n",
    "\n",
    "Notes\n",
    "-----\n",
    "See description above.\n",
    "\"\"\"\n",
    "#your code here\n",
    "\n",
    "\n",
    "#songdict must have ranking,title\n",
    "def get_weekly(weekstring, indict):\n",
    "    \n",
    "    #get page text and parse it\n",
    "    page_text = indict[weekstring]\n",
    "    page_text = BeautifulSoup(page_text, 'html.parser')\n",
    "    \n",
    "    #get the chart info so you can get each song listing \n",
    "    rows = page_text.find(\"div\", attrs={\"class\": \"chart-data\"}).find_all(\"div\",attrs={\"class\":\"container\"})\n",
    "    #initialize your list\n",
    "    song_tuples_list = []\n",
    "    #go through all the rows\n",
    "    for row in rows:\n",
    "        songs = row.find_all(\"article\", attrs={\"class\":\"chart-row\"})\n",
    "        # get each song in the two charts (there's an add spot that breaks the chart into two)\n",
    "        for song in songs:\n",
    "            \n",
    "            songdict = {}\n",
    "            ranking_songtuple = ()\n",
    "            #get each song and make it a string\n",
    "            each_song = song.find(\"div\", attrs={\"class\":\"row-title\"}).find(\"h2\").get_text()\n",
    "            each_song = str(each_song.replace(\"\\t\",\"\").replace(\"\\n\",\"\"))\n",
    "            \n",
    "            #get each ranking and make it an int\n",
    "            ranking = int(song.find(\"div\",attrs={\"class\":\"row-rank\"}).find(\"span\").get_text())\n",
    "            songdict['ranking'] = ranking\n",
    "            songdict['title'] = each_song\n",
    "            #make the tuple to put in the list of tuples and add it\n",
    "            ranking_songtuple = (ranking, songdict)\n",
    "            song_tuples_list.append(ranking_songtuple)\n",
    "\n",
    "    return song_tuples_list\n",
    "        \n",
    "        \n",
    "\n",
    "get_weekly('2014-11-29',satdict)\n",
    "    "
   ]
  },
  {
   "cell_type": "markdown",
   "metadata": {},
   "source": [
    "Let's process the weekly and year-end information using the function you just defined. We create a `weekinfo` list with the above function run for each week. We also store in the variable `yearend` the results of running the function for the end of year rankings. We `zip` the `weekinfo` together with the saturdays to create a list of tuples `weektuples`."
   ]
  },
  {
   "cell_type": "code",
   "execution_count": 877,
   "metadata": {
    "collapsed": true,
    "scrolled": false
   },
   "outputs": [],
   "source": [
    "weekinfo=[]\n",
    "for k in sats:\n",
    "    weekinfo.append(get_weekly(k, satdict))\n",
    "yearend=get_weekly('end_year', satdict)\n",
    "weektuples=zip(sats, weekinfo)"
   ]
  },
  {
   "cell_type": "markdown",
   "metadata": {},
   "source": [
    "---\n",
    "\n",
    "Here we write a function `get_for_title(weektups)` that takes the tuples created above and returns a dictionary `titles` whose *key* is the title of the song, and whose *value* is a list of tuples, the members of which are (`weekindex`, `ranking`). The `weekindex` starts at 1 for the first week of the year, and `ranking` is the ranking achieved that week. "
   ]
  },
  {
   "cell_type": "code",
   "execution_count": 878,
   "metadata": {
    "collapsed": true,
    "scrolled": false
   },
   "outputs": [],
   "source": [
    "def get_for_title(weektups):\n",
    "    titles={}\n",
    "    weekindex=1\n",
    "    for weekdate, weeksrankings in weektups:\n",
    "        for rankingtuple in weeksrankings:#iterate over the week's top-100\n",
    "            ranking = rankingtuple[0]\n",
    "            weekdict=rankingtuple[1]\n",
    "            if not titles.has_key(weekdict['title']):\n",
    "                titles[weekdict['title']]=[]\n",
    "            titles[weekdict['title']].append((weekindex, ranking))\n",
    "        weekindex=weekindex+1\n",
    "    return titles"
   ]
  },
  {
   "cell_type": "code",
   "execution_count": 879,
   "metadata": {
    "collapsed": false,
    "scrolled": false
   },
   "outputs": [],
   "source": [
    "titles = get_for_title(weektuples)"
   ]
  },
  {
   "cell_type": "markdown",
   "metadata": {},
   "source": [
    "Now let's create a dictionary keyed by the lower-cased title where we store the rank means (`rankmean`), rank standard deviations (`rankstd`) and rank count, the number of times(weeks) it appeared in the rankings in 2014, (`ranklen`), for a song."
   ]
  },
  {
   "cell_type": "code",
   "execution_count": 880,
   "metadata": {
    "collapsed": false,
    "scrolled": true
   },
   "outputs": [
    {
     "name": "stderr",
     "output_type": "stream",
     "text": [
      "//anaconda/lib/python2.7/site-packages/numpy/core/_methods.py:83: RuntimeWarning: Degrees of freedom <= 0 for slice\n",
      "  warnings.warn(\"Degrees of freedom <= 0 for slice\", RuntimeWarning)\n"
     ]
    }
   ],
   "source": [
    "tdict={}\n",
    "for title in titles.keys():\n",
    "    wtlist=titles[title]\n",
    "    weeks=[e[0] for e in wtlist]\n",
    "    ranks=[e[1] for e in wtlist]\n",
    "    rankmean=np.mean(ranks)\n",
    "    rankstd=np.std(ranks, ddof=1)#numpy standard deviation is population based, make it sample based\n",
    "    ranklen=len(ranks)\n",
    "    tdict[title.lower()]={'ranks':(rankmean, rankstd, ranklen)}"
   ]
  },
  {
   "cell_type": "markdown",
   "metadata": {},
   "source": [
    "### Get winning songs, and see how they do in all these weeks"
   ]
  },
  {
   "cell_type": "markdown",
   "metadata": {},
   "source": [
    "Now we create a list of winners whose elements are `dict(title, winner=1, ranking=year-end-ranking, rankmean=mean over weeks, rankstd=stddev over weeks, weekson=ranklen)`. To make this, we go to the songs that are in the top 100 at years-end and pick up their information from `tdict` above."
   ]
  },
  {
   "cell_type": "code",
   "execution_count": 881,
   "metadata": {
    "collapsed": true,
    "scrolled": false
   },
   "outputs": [],
   "source": [
    "winners=[]\n",
    "for yt in yearend:\n",
    "    r,d =yt\n",
    "    title=d['title'].lower()\n",
    "    rvals=tdict[title]['ranks']\n",
    "    winners.append(dict(title=title, winner=1, ranking=d['ranking'], rankmean=rvals[0], rankstd=rvals[1], weekson=rvals[2]))"
   ]
  },
  {
   "cell_type": "markdown",
   "metadata": {},
   "source": [
    "And we use this list of dictionaries to create a dataframe `winners2014` with al the information gathered."
   ]
  },
  {
   "cell_type": "code",
   "execution_count": 989,
   "metadata": {
    "collapsed": false,
    "scrolled": false
   },
   "outputs": [
    {
     "data": {
      "text/html": [
       "<div>\n",
       "<table border=\"1\" class=\"dataframe\">\n",
       "  <thead>\n",
       "    <tr style=\"text-align: right;\">\n",
       "      <th></th>\n",
       "      <th>ranking</th>\n",
       "      <th>rankmean</th>\n",
       "      <th>rankstd</th>\n",
       "      <th>title</th>\n",
       "      <th>weekson</th>\n",
       "      <th>winner</th>\n",
       "    </tr>\n",
       "  </thead>\n",
       "  <tbody>\n",
       "    <tr>\n",
       "      <th>0</th>\n",
       "      <td>1</td>\n",
       "      <td>18.063830</td>\n",
       "      <td>19.687123</td>\n",
       "      <td>happy</td>\n",
       "      <td>47</td>\n",
       "      <td>1</td>\n",
       "    </tr>\n",
       "    <tr>\n",
       "      <th>1</th>\n",
       "      <td>2</td>\n",
       "      <td>14.272727</td>\n",
       "      <td>14.744906</td>\n",
       "      <td>dark horse</td>\n",
       "      <td>44</td>\n",
       "      <td>1</td>\n",
       "    </tr>\n",
       "    <tr>\n",
       "      <th>2</th>\n",
       "      <td>3</td>\n",
       "      <td>17.959184</td>\n",
       "      <td>17.744670</td>\n",
       "      <td>all of me</td>\n",
       "      <td>49</td>\n",
       "      <td>1</td>\n",
       "    </tr>\n",
       "    <tr>\n",
       "      <th>3</th>\n",
       "      <td>4</td>\n",
       "      <td>24.256410</td>\n",
       "      <td>26.708680</td>\n",
       "      <td>fancy</td>\n",
       "      <td>39</td>\n",
       "      <td>1</td>\n",
       "    </tr>\n",
       "    <tr>\n",
       "      <th>4</th>\n",
       "      <td>5</td>\n",
       "      <td>20.690476</td>\n",
       "      <td>15.123053</td>\n",
       "      <td>counting stars</td>\n",
       "      <td>42</td>\n",
       "      <td>1</td>\n",
       "    </tr>\n",
       "  </tbody>\n",
       "</table>\n",
       "</div>"
      ],
      "text/plain": [
       "   ranking   rankmean    rankstd           title  weekson  winner\n",
       "0        1  18.063830  19.687123           happy       47       1\n",
       "1        2  14.272727  14.744906      dark horse       44       1\n",
       "2        3  17.959184  17.744670       all of me       49       1\n",
       "3        4  24.256410  26.708680           fancy       39       1\n",
       "4        5  20.690476  15.123053  counting stars       42       1"
      ]
     },
     "execution_count": 989,
     "metadata": {},
     "output_type": "execute_result"
    }
   ],
   "source": [
    "winners2014=pd.DataFrame(winners)\n",
    "winners2014.head()"
   ]
  },
  {
   "cell_type": "markdown",
   "metadata": {},
   "source": [
    "#### 4.2 Plot the mean rank(y axis) against the final, year-end rank(x-axis)"
   ]
  },
  {
   "cell_type": "markdown",
   "metadata": {},
   "source": [
    "Show a 45 degree line for comparison. Use `plt.errorbar` to show the standard deviation along with the mean rank."
   ]
  },
  {
   "cell_type": "code",
   "execution_count": 978,
   "metadata": {
    "collapsed": false,
    "scrolled": false
   },
   "outputs": [
    {
     "data": {
      "text/plain": [
       "<matplotlib.text.Text at 0x110e77410>"
      ]
     },
     "execution_count": 978,
     "metadata": {},
     "output_type": "execute_result"
    },
    {
     "data": {
      "image/png": "[encoded data removed]",
      "text/plain": [
       "<matplotlib.figure.Figure at 0x125ad4f10>"
      ]
     },
     "metadata": {},
     "output_type": "display_data"
    }
   ],
   "source": [
    "# your code here\n",
    "meanplot = plt.errorbar(winners2014['ranking'], winners2014['rankmean'], winners2014['rankstd'],ecolor = 'pink', color='brown')\n",
    "x = np.linspace(0, 100)\n",
    "y = x\n",
    "line = plt.plot(x,y, color='green')\n",
    "plt.xlabel(\"Year End Rank\")\n",
    "plt.ylabel(\"Mean Rank\")"
   ]
  },
  {
   "cell_type": "markdown",
   "metadata": {},
   "source": [
    "**4.2(contd)Comment on the trend in this plot. **\n",
    "\n",
    "In a paragraph, tell us how the general trend compares to the 45 degree line? What does this say about the predictive ability of the average rank for the final rank?"
   ]
  },
  {
   "cell_type": "markdown",
   "metadata": {},
   "source": [
    "*your answer here*\n",
    "The 45 degree line would be the model for the data if Billboard just calculated the end of year rank based on the average. This shows us that there are other variables that Billboard is using to calculate their end of year rankings, perhaps how long they were on the chart in their position (for example). If we look at where the data goes, bands/artists that had a high mean rank song had generally a worse year end position. Perhaps this is due to the fact that taking the average doesn't take into account how long they were on the chart. If my song spent a week at number 1 and then fell off the charts quickly, my mean ranking would be high, but my significance on the year-long scale might be lower than a song that was at 20 for half the year."
   ]
  },
  {
   "cell_type": "markdown",
   "metadata": {},
   "source": [
    "###Add losers in and see what features may be used to distinguish winners from losers"
   ]
  },
  {
   "cell_type": "markdown",
   "metadata": {},
   "source": [
    "Let's create a list `losers` of dictionaries, one for each song from the weekly lists that did not make it to the year end list. The dictionaries are identical to the dictionaries in the `winners` list, but we code the `ranking` as -1 for losers and set `winner` to 0. Thus"
   ]
  },
  {
   "cell_type": "code",
   "execution_count": 975,
   "metadata": {
    "collapsed": true,
    "scrolled": false
   },
   "outputs": [],
   "source": [
    "winlist=[e['title'] for e in winners]\n",
    "losers=[]\n",
    "for title in tdict:\n",
    "    if not title in winlist:\n",
    "        rvals=tdict[title]['ranks']\n",
    "        losers.append(dict(title=title, winner=0, ranking=-1, rankmean=rvals[0], rankstd=rvals[1], weekson=rvals[2]))"
   ]
  },
  {
   "cell_type": "markdown",
   "metadata": {},
   "source": [
    "We create a `losers2014` dataframe... "
   ]
  },
  {
   "cell_type": "code",
   "execution_count": 976,
   "metadata": {
    "collapsed": false,
    "scrolled": false
   },
   "outputs": [
    {
     "data": {
      "text/html": [
       "<div>\n",
       "<table border=\"1\" class=\"dataframe\">\n",
       "  <thead>\n",
       "    <tr style=\"text-align: right;\">\n",
       "      <th></th>\n",
       "      <th>ranking</th>\n",
       "      <th>rankmean</th>\n",
       "      <th>rankstd</th>\n",
       "      <th>title</th>\n",
       "      <th>weekson</th>\n",
       "      <th>winner</th>\n",
       "    </tr>\n",
       "  </thead>\n",
       "  <tbody>\n",
       "    <tr>\n",
       "      <th>0</th>\n",
       "      <td>-1</td>\n",
       "      <td>17.000000</td>\n",
       "      <td>7.949843</td>\n",
       "      <td>the heart wants what it wants</td>\n",
       "      <td>6</td>\n",
       "      <td>0</td>\n",
       "    </tr>\n",
       "    <tr>\n",
       "      <th>1</th>\n",
       "      <td>-1</td>\n",
       "      <td>77.333333</td>\n",
       "      <td>5.841031</td>\n",
       "      <td>do i wanna know?</td>\n",
       "      <td>18</td>\n",
       "      <td>0</td>\n",
       "    </tr>\n",
       "    <tr>\n",
       "      <th>2</th>\n",
       "      <td>-1</td>\n",
       "      <td>86.000000</td>\n",
       "      <td>9.626353</td>\n",
       "      <td>shut up and dance</td>\n",
       "      <td>4</td>\n",
       "      <td>0</td>\n",
       "    </tr>\n",
       "    <tr>\n",
       "      <th>3</th>\n",
       "      <td>-1</td>\n",
       "      <td>52.350000</td>\n",
       "      <td>14.477842</td>\n",
       "      <td>give me back my hometown</td>\n",
       "      <td>20</td>\n",
       "      <td>0</td>\n",
       "    </tr>\n",
       "    <tr>\n",
       "      <th>4</th>\n",
       "      <td>-1</td>\n",
       "      <td>72.350000</td>\n",
       "      <td>17.631536</td>\n",
       "      <td>hope you get lonely tonight</td>\n",
       "      <td>20</td>\n",
       "      <td>0</td>\n",
       "    </tr>\n",
       "  </tbody>\n",
       "</table>\n",
       "</div>"
      ],
      "text/plain": [
       "   ranking   rankmean    rankstd                          title  weekson  winner\n",
       "0       -1  17.000000   7.949843  the heart wants what it wants        6       0\n",
       "1       -1  77.333333   5.841031               do i wanna know?       18       0\n",
       "2       -1  86.000000   9.626353              shut up and dance        4       0\n",
       "3       -1  52.350000  14.477842       give me back my hometown       20       0\n",
       "4       -1  72.350000  17.631536    hope you get lonely tonight       20       0"
      ]
     },
     "execution_count": 976,
     "metadata": {},
     "output_type": "execute_result"
    }
   ],
   "source": [
    "losers2014=pd.DataFrame(losers)\n",
    "losers2014.head()"
   ]
  },
  {
   "cell_type": "markdown",
   "metadata": {},
   "source": [
    "...and concatenate the losers and winners into one dataframe."
   ]
  },
  {
   "cell_type": "code",
   "execution_count": 980,
   "metadata": {
    "collapsed": false,
    "scrolled": false
   },
   "outputs": [
    {
     "data": {
      "text/html": [
       "<div>\n",
       "<table border=\"1\" class=\"dataframe\">\n",
       "  <thead>\n",
       "    <tr style=\"text-align: right;\">\n",
       "      <th></th>\n",
       "      <th>ranking</th>\n",
       "      <th>rankmean</th>\n",
       "      <th>rankstd</th>\n",
       "      <th>title</th>\n",
       "      <th>weekson</th>\n",
       "      <th>winner</th>\n",
       "    </tr>\n",
       "  </thead>\n",
       "  <tbody>\n",
       "    <tr>\n",
       "      <th>0</th>\n",
       "      <td>1</td>\n",
       "      <td>18.063830</td>\n",
       "      <td>19.687123</td>\n",
       "      <td>happy</td>\n",
       "      <td>47</td>\n",
       "      <td>1</td>\n",
       "    </tr>\n",
       "    <tr>\n",
       "      <th>1</th>\n",
       "      <td>2</td>\n",
       "      <td>14.272727</td>\n",
       "      <td>14.744906</td>\n",
       "      <td>dark horse</td>\n",
       "      <td>44</td>\n",
       "      <td>1</td>\n",
       "    </tr>\n",
       "    <tr>\n",
       "      <th>2</th>\n",
       "      <td>3</td>\n",
       "      <td>17.959184</td>\n",
       "      <td>17.744670</td>\n",
       "      <td>all of me</td>\n",
       "      <td>49</td>\n",
       "      <td>1</td>\n",
       "    </tr>\n",
       "    <tr>\n",
       "      <th>3</th>\n",
       "      <td>4</td>\n",
       "      <td>24.256410</td>\n",
       "      <td>26.708680</td>\n",
       "      <td>fancy</td>\n",
       "      <td>39</td>\n",
       "      <td>1</td>\n",
       "    </tr>\n",
       "    <tr>\n",
       "      <th>4</th>\n",
       "      <td>5</td>\n",
       "      <td>20.690476</td>\n",
       "      <td>15.123053</td>\n",
       "      <td>counting stars</td>\n",
       "      <td>42</td>\n",
       "      <td>1</td>\n",
       "    </tr>\n",
       "    <tr>\n",
       "      <th>5</th>\n",
       "      <td>6</td>\n",
       "      <td>18.151515</td>\n",
       "      <td>22.065416</td>\n",
       "      <td>talk dirty</td>\n",
       "      <td>33</td>\n",
       "      <td>1</td>\n",
       "    </tr>\n",
       "    <tr>\n",
       "      <th>6</th>\n",
       "      <td>7</td>\n",
       "      <td>18.294118</td>\n",
       "      <td>20.726983</td>\n",
       "      <td>rude</td>\n",
       "      <td>34</td>\n",
       "      <td>1</td>\n",
       "    </tr>\n",
       "    <tr>\n",
       "      <th>7</th>\n",
       "      <td>8</td>\n",
       "      <td>9.260870</td>\n",
       "      <td>20.188245</td>\n",
       "      <td>all about that bass</td>\n",
       "      <td>23</td>\n",
       "      <td>1</td>\n",
       "    </tr>\n",
       "    <tr>\n",
       "      <th>8</th>\n",
       "      <td>9</td>\n",
       "      <td>11.480000</td>\n",
       "      <td>12.868307</td>\n",
       "      <td>problem</td>\n",
       "      <td>25</td>\n",
       "      <td>1</td>\n",
       "    </tr>\n",
       "    <tr>\n",
       "      <th>9</th>\n",
       "      <td>10</td>\n",
       "      <td>22.513514</td>\n",
       "      <td>26.909954</td>\n",
       "      <td>stay with me</td>\n",
       "      <td>37</td>\n",
       "      <td>1</td>\n",
       "    </tr>\n",
       "    <tr>\n",
       "      <th>10</th>\n",
       "      <td>11</td>\n",
       "      <td>18.137931</td>\n",
       "      <td>15.158034</td>\n",
       "      <td>timber</td>\n",
       "      <td>29</td>\n",
       "      <td>1</td>\n",
       "    </tr>\n",
       "    <tr>\n",
       "      <th>11</th>\n",
       "      <td>12</td>\n",
       "      <td>17.257143</td>\n",
       "      <td>11.932020</td>\n",
       "      <td>pompeii</td>\n",
       "      <td>35</td>\n",
       "      <td>1</td>\n",
       "    </tr>\n",
       "    <tr>\n",
       "      <th>12</th>\n",
       "      <td>13</td>\n",
       "      <td>2.823529</td>\n",
       "      <td>2.324739</td>\n",
       "      <td>shake it off</td>\n",
       "      <td>17</td>\n",
       "      <td>1</td>\n",
       "    </tr>\n",
       "    <tr>\n",
       "      <th>13</th>\n",
       "      <td>14</td>\n",
       "      <td>18.290323</td>\n",
       "      <td>18.337927</td>\n",
       "      <td>am i wrong</td>\n",
       "      <td>31</td>\n",
       "      <td>1</td>\n",
       "    </tr>\n",
       "    <tr>\n",
       "      <th>14</th>\n",
       "      <td>15</td>\n",
       "      <td>22.054054</td>\n",
       "      <td>15.325987</td>\n",
       "      <td>turn down for what</td>\n",
       "      <td>37</td>\n",
       "      <td>1</td>\n",
       "    </tr>\n",
       "    <tr>\n",
       "      <th>15</th>\n",
       "      <td>16</td>\n",
       "      <td>20.500000</td>\n",
       "      <td>15.912708</td>\n",
       "      <td>the monster</td>\n",
       "      <td>22</td>\n",
       "      <td>1</td>\n",
       "    </tr>\n",
       "    <tr>\n",
       "      <th>16</th>\n",
       "      <td>17</td>\n",
       "      <td>14.250000</td>\n",
       "      <td>12.669379</td>\n",
       "      <td>say something</td>\n",
       "      <td>20</td>\n",
       "      <td>1</td>\n",
       "    </tr>\n",
       "    <tr>\n",
       "      <th>17</th>\n",
       "      <td>18</td>\n",
       "      <td>15.115385</td>\n",
       "      <td>10.580461</td>\n",
       "      <td>team</td>\n",
       "      <td>26</td>\n",
       "      <td>1</td>\n",
       "    </tr>\n",
       "    <tr>\n",
       "      <th>18</th>\n",
       "      <td>19</td>\n",
       "      <td>17.826087</td>\n",
       "      <td>12.794360</td>\n",
       "      <td>let her go</td>\n",
       "      <td>23</td>\n",
       "      <td>1</td>\n",
       "    </tr>\n",
       "    <tr>\n",
       "      <th>19</th>\n",
       "      <td>20</td>\n",
       "      <td>23.761905</td>\n",
       "      <td>22.237142</td>\n",
       "      <td>royals</td>\n",
       "      <td>21</td>\n",
       "      <td>1</td>\n",
       "    </tr>\n",
       "    <tr>\n",
       "      <th>20</th>\n",
       "      <td>21</td>\n",
       "      <td>33.021277</td>\n",
       "      <td>20.869667</td>\n",
       "      <td>let it go</td>\n",
       "      <td>47</td>\n",
       "      <td>1</td>\n",
       "    </tr>\n",
       "    <tr>\n",
       "      <th>21</th>\n",
       "      <td>22</td>\n",
       "      <td>25.607143</td>\n",
       "      <td>11.311545</td>\n",
       "      <td>wake me up!</td>\n",
       "      <td>28</td>\n",
       "      <td>1</td>\n",
       "    </tr>\n",
       "    <tr>\n",
       "      <th>22</th>\n",
       "      <td>23</td>\n",
       "      <td>26.111111</td>\n",
       "      <td>12.540192</td>\n",
       "      <td>demons</td>\n",
       "      <td>27</td>\n",
       "      <td>1</td>\n",
       "    </tr>\n",
       "    <tr>\n",
       "      <th>23</th>\n",
       "      <td>24</td>\n",
       "      <td>21.680000</td>\n",
       "      <td>13.511477</td>\n",
       "      <td>story of my life</td>\n",
       "      <td>25</td>\n",
       "      <td>1</td>\n",
       "    </tr>\n",
       "    <tr>\n",
       "      <th>24</th>\n",
       "      <td>25</td>\n",
       "      <td>23.062500</td>\n",
       "      <td>17.067111</td>\n",
       "      <td>chandelier</td>\n",
       "      <td>32</td>\n",
       "      <td>1</td>\n",
       "    </tr>\n",
       "    <tr>\n",
       "      <th>25</th>\n",
       "      <td>26</td>\n",
       "      <td>19.250000</td>\n",
       "      <td>22.610598</td>\n",
       "      <td>black widow</td>\n",
       "      <td>24</td>\n",
       "      <td>1</td>\n",
       "    </tr>\n",
       "    <tr>\n",
       "      <th>26</th>\n",
       "      <td>27</td>\n",
       "      <td>7.650000</td>\n",
       "      <td>4.923360</td>\n",
       "      <td>bang bang</td>\n",
       "      <td>20</td>\n",
       "      <td>1</td>\n",
       "    </tr>\n",
       "    <tr>\n",
       "      <th>27</th>\n",
       "      <td>28</td>\n",
       "      <td>34.484848</td>\n",
       "      <td>26.423381</td>\n",
       "      <td>latch</td>\n",
       "      <td>33</td>\n",
       "      <td>1</td>\n",
       "    </tr>\n",
       "    <tr>\n",
       "      <th>28</th>\n",
       "      <td>29</td>\n",
       "      <td>15.954545</td>\n",
       "      <td>10.288585</td>\n",
       "      <td>maps</td>\n",
       "      <td>22</td>\n",
       "      <td>1</td>\n",
       "    </tr>\n",
       "    <tr>\n",
       "      <th>29</th>\n",
       "      <td>30</td>\n",
       "      <td>33.055556</td>\n",
       "      <td>20.041307</td>\n",
       "      <td>loyal</td>\n",
       "      <td>36</td>\n",
       "      <td>1</td>\n",
       "    </tr>\n",
       "    <tr>\n",
       "      <th>...</th>\n",
       "      <td>...</td>\n",
       "      <td>...</td>\n",
       "      <td>...</td>\n",
       "      <td>...</td>\n",
       "      <td>...</td>\n",
       "      <td>...</td>\n",
       "    </tr>\n",
       "    <tr>\n",
       "      <th>335</th>\n",
       "      <td>-1</td>\n",
       "      <td>89.000000</td>\n",
       "      <td>NaN</td>\n",
       "      <td>a man who was gonna die young</td>\n",
       "      <td>1</td>\n",
       "      <td>0</td>\n",
       "    </tr>\n",
       "    <tr>\n",
       "      <th>336</th>\n",
       "      <td>-1</td>\n",
       "      <td>99.333333</td>\n",
       "      <td>1.154701</td>\n",
       "      <td>she twerkin</td>\n",
       "      <td>3</td>\n",
       "      <td>0</td>\n",
       "    </tr>\n",
       "    <tr>\n",
       "      <th>337</th>\n",
       "      <td>-1</td>\n",
       "      <td>66.666667</td>\n",
       "      <td>12.662280</td>\n",
       "      <td>everything is awesome!!!</td>\n",
       "      <td>3</td>\n",
       "      <td>0</td>\n",
       "    </tr>\n",
       "    <tr>\n",
       "      <th>338</th>\n",
       "      <td>-1</td>\n",
       "      <td>47.500000</td>\n",
       "      <td>41.719300</td>\n",
       "      <td>out of the woods</td>\n",
       "      <td>2</td>\n",
       "      <td>0</td>\n",
       "    </tr>\n",
       "    <tr>\n",
       "      <th>339</th>\n",
       "      <td>-1</td>\n",
       "      <td>64.500000</td>\n",
       "      <td>17.425027</td>\n",
       "      <td>yeah</td>\n",
       "      <td>20</td>\n",
       "      <td>0</td>\n",
       "    </tr>\n",
       "    <tr>\n",
       "      <th>340</th>\n",
       "      <td>-1</td>\n",
       "      <td>88.500000</td>\n",
       "      <td>5.567764</td>\n",
       "      <td>on top of the world</td>\n",
       "      <td>20</td>\n",
       "      <td>0</td>\n",
       "    </tr>\n",
       "    <tr>\n",
       "      <th>341</th>\n",
       "      <td>-1</td>\n",
       "      <td>84.100000</td>\n",
       "      <td>8.987028</td>\n",
       "      <td>tennis court</td>\n",
       "      <td>10</td>\n",
       "      <td>0</td>\n",
       "    </tr>\n",
       "    <tr>\n",
       "      <th>342</th>\n",
       "      <td>-1</td>\n",
       "      <td>51.272727</td>\n",
       "      <td>9.900413</td>\n",
       "      <td>rap god</td>\n",
       "      <td>11</td>\n",
       "      <td>0</td>\n",
       "    </tr>\n",
       "    <tr>\n",
       "      <th>343</th>\n",
       "      <td>-1</td>\n",
       "      <td>24.000000</td>\n",
       "      <td>NaN</td>\n",
       "      <td>everything i didn't say</td>\n",
       "      <td>1</td>\n",
       "      <td>0</td>\n",
       "    </tr>\n",
       "    <tr>\n",
       "      <th>344</th>\n",
       "      <td>-1</td>\n",
       "      <td>94.857143</td>\n",
       "      <td>3.023716</td>\n",
       "      <td>i got a car</td>\n",
       "      <td>7</td>\n",
       "      <td>0</td>\n",
       "    </tr>\n",
       "    <tr>\n",
       "      <th>345</th>\n",
       "      <td>-1</td>\n",
       "      <td>72.875000</td>\n",
       "      <td>15.403501</td>\n",
       "      <td>dangerous</td>\n",
       "      <td>8</td>\n",
       "      <td>0</td>\n",
       "    </tr>\n",
       "    <tr>\n",
       "      <th>346</th>\n",
       "      <td>-1</td>\n",
       "      <td>93.000000</td>\n",
       "      <td>6.000000</td>\n",
       "      <td>first love</td>\n",
       "      <td>3</td>\n",
       "      <td>0</td>\n",
       "    </tr>\n",
       "    <tr>\n",
       "      <th>347</th>\n",
       "      <td>-1</td>\n",
       "      <td>76.894737</td>\n",
       "      <td>10.032695</td>\n",
       "      <td>v. 3005</td>\n",
       "      <td>19</td>\n",
       "      <td>0</td>\n",
       "    </tr>\n",
       "    <tr>\n",
       "      <th>348</th>\n",
       "      <td>-1</td>\n",
       "      <td>100.000000</td>\n",
       "      <td>NaN</td>\n",
       "      <td>break the rules</td>\n",
       "      <td>1</td>\n",
       "      <td>0</td>\n",
       "    </tr>\n",
       "    <tr>\n",
       "      <th>349</th>\n",
       "      <td>-1</td>\n",
       "      <td>82.636364</td>\n",
       "      <td>10.481152</td>\n",
       "      <td>i'm ready</td>\n",
       "      <td>11</td>\n",
       "      <td>0</td>\n",
       "    </tr>\n",
       "    <tr>\n",
       "      <th>350</th>\n",
       "      <td>-1</td>\n",
       "      <td>83.083333</td>\n",
       "      <td>8.999579</td>\n",
       "      <td>close your eyes</td>\n",
       "      <td>12</td>\n",
       "      <td>0</td>\n",
       "    </tr>\n",
       "    <tr>\n",
       "      <th>351</th>\n",
       "      <td>-1</td>\n",
       "      <td>17.000000</td>\n",
       "      <td>3.605551</td>\n",
       "      <td>7/11</td>\n",
       "      <td>3</td>\n",
       "      <td>0</td>\n",
       "    </tr>\n",
       "    <tr>\n",
       "      <th>352</th>\n",
       "      <td>-1</td>\n",
       "      <td>71.307692</td>\n",
       "      <td>14.642317</td>\n",
       "      <td>take me home</td>\n",
       "      <td>13</td>\n",
       "      <td>0</td>\n",
       "    </tr>\n",
       "    <tr>\n",
       "      <th>353</th>\n",
       "      <td>-1</td>\n",
       "      <td>86.714286</td>\n",
       "      <td>9.322272</td>\n",
       "      <td>walk thru</td>\n",
       "      <td>7</td>\n",
       "      <td>0</td>\n",
       "    </tr>\n",
       "    <tr>\n",
       "      <th>354</th>\n",
       "      <td>-1</td>\n",
       "      <td>71.555556</td>\n",
       "      <td>13.784997</td>\n",
       "      <td>helluva life</td>\n",
       "      <td>18</td>\n",
       "      <td>0</td>\n",
       "    </tr>\n",
       "    <tr>\n",
       "      <th>355</th>\n",
       "      <td>-1</td>\n",
       "      <td>51.545455</td>\n",
       "      <td>19.428657</td>\n",
       "      <td>stay</td>\n",
       "      <td>11</td>\n",
       "      <td>0</td>\n",
       "    </tr>\n",
       "    <tr>\n",
       "      <th>356</th>\n",
       "      <td>-1</td>\n",
       "      <td>90.166667</td>\n",
       "      <td>7.386925</td>\n",
       "      <td>chocolate</td>\n",
       "      <td>6</td>\n",
       "      <td>0</td>\n",
       "    </tr>\n",
       "    <tr>\n",
       "      <th>357</th>\n",
       "      <td>-1</td>\n",
       "      <td>77.866667</td>\n",
       "      <td>13.663647</td>\n",
       "      <td>bo$$</td>\n",
       "      <td>15</td>\n",
       "      <td>0</td>\n",
       "    </tr>\n",
       "    <tr>\n",
       "      <th>358</th>\n",
       "      <td>-1</td>\n",
       "      <td>100.000000</td>\n",
       "      <td>NaN</td>\n",
       "      <td>explosions</td>\n",
       "      <td>1</td>\n",
       "      <td>0</td>\n",
       "    </tr>\n",
       "    <tr>\n",
       "      <th>359</th>\n",
       "      <td>-1</td>\n",
       "      <td>68.714286</td>\n",
       "      <td>13.536547</td>\n",
       "      <td>don't let me be lonely</td>\n",
       "      <td>7</td>\n",
       "      <td>0</td>\n",
       "    </tr>\n",
       "    <tr>\n",
       "      <th>360</th>\n",
       "      <td>-1</td>\n",
       "      <td>68.857143</td>\n",
       "      <td>14.040757</td>\n",
       "      <td>ghost</td>\n",
       "      <td>7</td>\n",
       "      <td>0</td>\n",
       "    </tr>\n",
       "    <tr>\n",
       "      <th>361</th>\n",
       "      <td>-1</td>\n",
       "      <td>32.400000</td>\n",
       "      <td>10.014989</td>\n",
       "      <td>applause</td>\n",
       "      <td>5</td>\n",
       "      <td>0</td>\n",
       "    </tr>\n",
       "    <tr>\n",
       "      <th>362</th>\n",
       "      <td>-1</td>\n",
       "      <td>68.800000</td>\n",
       "      <td>11.073492</td>\n",
       "      <td>perfect storm</td>\n",
       "      <td>10</td>\n",
       "      <td>0</td>\n",
       "    </tr>\n",
       "    <tr>\n",
       "      <th>363</th>\n",
       "      <td>-1</td>\n",
       "      <td>89.000000</td>\n",
       "      <td>NaN</td>\n",
       "      <td>gorilla</td>\n",
       "      <td>1</td>\n",
       "      <td>0</td>\n",
       "    </tr>\n",
       "    <tr>\n",
       "      <th>364</th>\n",
       "      <td>-1</td>\n",
       "      <td>97.000000</td>\n",
       "      <td>1.414214</td>\n",
       "      <td>how i feel</td>\n",
       "      <td>2</td>\n",
       "      <td>0</td>\n",
       "    </tr>\n",
       "  </tbody>\n",
       "</table>\n",
       "<p>465 rows × 6 columns</p>\n",
       "</div>"
      ],
      "text/plain": [
       "     ranking    rankmean    rankstd                          title  weekson  winner\n",
       "0          1   18.063830  19.687123                          happy       47       1\n",
       "1          2   14.272727  14.744906                     dark horse       44       1\n",
       "2          3   17.959184  17.744670                      all of me       49       1\n",
       "3          4   24.256410  26.708680                          fancy       39       1\n",
       "4          5   20.690476  15.123053                 counting stars       42       1\n",
       "5          6   18.151515  22.065416                     talk dirty       33       1\n",
       "6          7   18.294118  20.726983                           rude       34       1\n",
       "7          8    9.260870  20.188245            all about that bass       23       1\n",
       "8          9   11.480000  12.868307                        problem       25       1\n",
       "9         10   22.513514  26.909954                   stay with me       37       1\n",
       "10        11   18.137931  15.158034                         timber       29       1\n",
       "11        12   17.257143  11.932020                        pompeii       35       1\n",
       "12        13    2.823529   2.324739                   shake it off       17       1\n",
       "13        14   18.290323  18.337927                     am i wrong       31       1\n",
       "14        15   22.054054  15.325987             turn down for what       37       1\n",
       "15        16   20.500000  15.912708                    the monster       22       1\n",
       "16        17   14.250000  12.669379                  say something       20       1\n",
       "17        18   15.115385  10.580461                           team       26       1\n",
       "18        19   17.826087  12.794360                     let her go       23       1\n",
       "19        20   23.761905  22.237142                         royals       21       1\n",
       "20        21   33.021277  20.869667                      let it go       47       1\n",
       "21        22   25.607143  11.311545                    wake me up!       28       1\n",
       "22        23   26.111111  12.540192                         demons       27       1\n",
       "23        24   21.680000  13.511477               story of my life       25       1\n",
       "24        25   23.062500  17.067111                     chandelier       32       1\n",
       "25        26   19.250000  22.610598                    black widow       24       1\n",
       "26        27    7.650000   4.923360                      bang bang       20       1\n",
       "27        28   34.484848  26.423381                          latch       33       1\n",
       "28        29   15.954545  10.288585                           maps       22       1\n",
       "29        30   33.055556  20.041307                          loyal       36       1\n",
       "..       ...         ...        ...                            ...      ...     ...\n",
       "335       -1   89.000000        NaN  a man who was gonna die young        1       0\n",
       "336       -1   99.333333   1.154701                    she twerkin        3       0\n",
       "337       -1   66.666667  12.662280       everything is awesome!!!        3       0\n",
       "338       -1   47.500000  41.719300               out of the woods        2       0\n",
       "339       -1   64.500000  17.425027                           yeah       20       0\n",
       "340       -1   88.500000   5.567764            on top of the world       20       0\n",
       "341       -1   84.100000   8.987028                   tennis court       10       0\n",
       "342       -1   51.272727   9.900413                        rap god       11       0\n",
       "343       -1   24.000000        NaN        everything i didn't say        1       0\n",
       "344       -1   94.857143   3.023716                    i got a car        7       0\n",
       "345       -1   72.875000  15.403501                      dangerous        8       0\n",
       "346       -1   93.000000   6.000000                     first love        3       0\n",
       "347       -1   76.894737  10.032695                        v. 3005       19       0\n",
       "348       -1  100.000000        NaN                break the rules        1       0\n",
       "349       -1   82.636364  10.481152                      i'm ready       11       0\n",
       "350       -1   83.083333   8.999579                close your eyes       12       0\n",
       "351       -1   17.000000   3.605551                           7/11        3       0\n",
       "352       -1   71.307692  14.642317                   take me home       13       0\n",
       "353       -1   86.714286   9.322272                      walk thru        7       0\n",
       "354       -1   71.555556  13.784997                   helluva life       18       0\n",
       "355       -1   51.545455  19.428657                           stay       11       0\n",
       "356       -1   90.166667   7.386925                      chocolate        6       0\n",
       "357       -1   77.866667  13.663647                           bo$$       15       0\n",
       "358       -1  100.000000        NaN                     explosions        1       0\n",
       "359       -1   68.714286  13.536547         don't let me be lonely        7       0\n",
       "360       -1   68.857143  14.040757                          ghost        7       0\n",
       "361       -1   32.400000  10.014989                       applause        5       0\n",
       "362       -1   68.800000  11.073492                  perfect storm       10       0\n",
       "363       -1   89.000000        NaN                        gorilla        1       0\n",
       "364       -1   97.000000   1.414214                     how i feel        2       0\n",
       "\n",
       "[465 rows x 6 columns]"
      ]
     },
     "execution_count": 980,
     "metadata": {},
     "output_type": "execute_result"
    }
   ],
   "source": [
    "all2014=pd.concat([winners2014, losers2014])\n",
    "all2014.head()"
   ]
  },
  {
   "cell_type": "markdown",
   "metadata": {},
   "source": [
    "####4.3 Make a scatterplot matrix of these features, color coded by winners/losers"
   ]
  },
  {
   "cell_type": "markdown",
   "metadata": {},
   "source": [
    "Use `sns.pairplot`. Use all the numerical features(4), with the exception of `winner`, which you will use to give a different color to winners and losers. This will be a 4x4 matrix, with different colored dots for winners and losers off diagonal, and a 2 histograms on diagonal. The histogram shows the distribution of the one feature on the diagonal for both the winners and losers."
   ]
  },
  {
   "cell_type": "code",
   "execution_count": 995,
   "metadata": {
    "collapsed": false,
    "scrolled": false
   },
   "outputs": [
    {
     "data": {
      "image/png": "[encoded data removed]",
      "text/plain": [
       "<matplotlib.figure.Figure at 0x11b8f0110>"
      ]
     },
     "metadata": {},
     "output_type": "display_data"
    }
   ],
   "source": [
    "#your code here\n",
    "\n",
    "#SOURCE\n",
    "#http://stanford.edu/~mwaskom/software/seaborn/generated/seaborn.pairplot.html\n",
    "#Plot histograms on the diagonal!\n",
    "import seaborn as sns; sns.set(style=\"ticks\", color_codes=True)\n",
    "g = sns.pairplot(all2014, hue ='winner',vars=['ranking','rankmean','weekson','rankstd'],dropna=True)"
   ]
  },
  {
   "cell_type": "markdown",
   "metadata": {},
   "source": [
    "**4.3 (contd) Which combination of \"features\" is most likely to separate winners from losers? **\n",
    "\n",
    "It is this kind of observation in EDA that forms the basis for staring on predictive modelling! In a paragraph, identify one or two combinations of features that you think will best separate winners from losers. Why?"
   ]
  },
  {
   "cell_type": "markdown",
   "metadata": {},
   "source": [
    "*your answer here*\n",
    "We shouldn't look at any matrix element with ranking on its axis because that's information we get from Billboard (so it biases our analysis, of course it is the way it is). So one good combination is to look at weekson vs meanrank. The winners (blue) are clustered at more weeks on than the losers, and they generally have a better mean rank than the losers. This is a clear divide between the winners and the losers, and this is enlightening as to which variables really drive home the differences between winners and losers! "
   ]
  },
  {
   "cell_type": "markdown",
   "metadata": {},
   "source": [
    " **Until next time.**"
   ]
  }
 ],
 "metadata": {
  "kernelspec": {
   "display_name": "Python 2",
   "language": "python",
   "name": "python2"
  },
  "language_info": {
   "codemirror_mode": {
    "name": "ipython",
    "version": 2
   },
   "file_extension": ".py",
   "mimetype": "text/x-python",
   "name": "python",
   "nbconvert_exporter": "python",
   "pygments_lexer": "ipython2",
   "version": "2.7.10"
  }
 },
 "nbformat": 4,
 "nbformat_minor": 0
}
